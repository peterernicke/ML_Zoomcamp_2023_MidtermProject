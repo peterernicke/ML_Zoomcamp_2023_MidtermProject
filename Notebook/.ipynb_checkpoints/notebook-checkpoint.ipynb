{
 "cells": [
  {
   "cell_type": "markdown",
   "metadata": {},
   "source": [
    "# Tasks\n",
    "- Data preparation and data cleaning\n",
    "- EDA, feature importance analysis\n",
    "- Model selection process and parameter tuning"
   ]
  },
  {
   "cell_type": "code",
   "execution_count": 1,
   "metadata": {},
   "outputs": [],
   "source": [
    "import pandas as pd\n",
    "import numpy as np\n",
    "import seaborn as sns\n",
    "\n",
    "from matplotlib import pyplot as plt\n",
    "%matplotlib inline"
   ]
  },
  {
   "cell_type": "markdown",
   "metadata": {},
   "source": [
    "### Data preparation and data cleaning\n",
    "- column names have the same format\n",
    "- there are no string values"
   ]
  },
  {
   "cell_type": "code",
   "execution_count": 2,
   "metadata": {},
   "outputs": [
    {
     "data": {
      "text/html": [
       "<div>\n",
       "<style scoped>\n",
       "    .dataframe tbody tr th:only-of-type {\n",
       "        vertical-align: middle;\n",
       "    }\n",
       "\n",
       "    .dataframe tbody tr th {\n",
       "        vertical-align: top;\n",
       "    }\n",
       "\n",
       "    .dataframe thead th {\n",
       "        text-align: right;\n",
       "    }\n",
       "</style>\n",
       "<table border=\"1\" class=\"dataframe\">\n",
       "  <thead>\n",
       "    <tr style=\"text-align: right;\">\n",
       "      <th></th>\n",
       "      <th>age</th>\n",
       "      <th>sex</th>\n",
       "      <th>cp</th>\n",
       "      <th>trtbps</th>\n",
       "      <th>chol</th>\n",
       "      <th>fbs</th>\n",
       "      <th>restecg</th>\n",
       "      <th>thalachh</th>\n",
       "      <th>exng</th>\n",
       "      <th>oldpeak</th>\n",
       "      <th>slp</th>\n",
       "      <th>caa</th>\n",
       "      <th>thall</th>\n",
       "      <th>output</th>\n",
       "    </tr>\n",
       "  </thead>\n",
       "  <tbody>\n",
       "    <tr>\n",
       "      <th>0</th>\n",
       "      <td>63</td>\n",
       "      <td>1</td>\n",
       "      <td>3</td>\n",
       "      <td>145</td>\n",
       "      <td>233</td>\n",
       "      <td>1</td>\n",
       "      <td>0</td>\n",
       "      <td>150</td>\n",
       "      <td>0</td>\n",
       "      <td>2.3</td>\n",
       "      <td>0</td>\n",
       "      <td>0</td>\n",
       "      <td>1</td>\n",
       "      <td>1</td>\n",
       "    </tr>\n",
       "    <tr>\n",
       "      <th>1</th>\n",
       "      <td>37</td>\n",
       "      <td>1</td>\n",
       "      <td>2</td>\n",
       "      <td>130</td>\n",
       "      <td>250</td>\n",
       "      <td>0</td>\n",
       "      <td>1</td>\n",
       "      <td>187</td>\n",
       "      <td>0</td>\n",
       "      <td>3.5</td>\n",
       "      <td>0</td>\n",
       "      <td>0</td>\n",
       "      <td>2</td>\n",
       "      <td>1</td>\n",
       "    </tr>\n",
       "    <tr>\n",
       "      <th>2</th>\n",
       "      <td>41</td>\n",
       "      <td>0</td>\n",
       "      <td>1</td>\n",
       "      <td>130</td>\n",
       "      <td>204</td>\n",
       "      <td>0</td>\n",
       "      <td>0</td>\n",
       "      <td>172</td>\n",
       "      <td>0</td>\n",
       "      <td>1.4</td>\n",
       "      <td>2</td>\n",
       "      <td>0</td>\n",
       "      <td>2</td>\n",
       "      <td>1</td>\n",
       "    </tr>\n",
       "    <tr>\n",
       "      <th>3</th>\n",
       "      <td>56</td>\n",
       "      <td>1</td>\n",
       "      <td>1</td>\n",
       "      <td>120</td>\n",
       "      <td>236</td>\n",
       "      <td>0</td>\n",
       "      <td>1</td>\n",
       "      <td>178</td>\n",
       "      <td>0</td>\n",
       "      <td>0.8</td>\n",
       "      <td>2</td>\n",
       "      <td>0</td>\n",
       "      <td>2</td>\n",
       "      <td>1</td>\n",
       "    </tr>\n",
       "    <tr>\n",
       "      <th>4</th>\n",
       "      <td>57</td>\n",
       "      <td>0</td>\n",
       "      <td>0</td>\n",
       "      <td>120</td>\n",
       "      <td>354</td>\n",
       "      <td>0</td>\n",
       "      <td>1</td>\n",
       "      <td>163</td>\n",
       "      <td>1</td>\n",
       "      <td>0.6</td>\n",
       "      <td>2</td>\n",
       "      <td>0</td>\n",
       "      <td>2</td>\n",
       "      <td>1</td>\n",
       "    </tr>\n",
       "    <tr>\n",
       "      <th>...</th>\n",
       "      <td>...</td>\n",
       "      <td>...</td>\n",
       "      <td>...</td>\n",
       "      <td>...</td>\n",
       "      <td>...</td>\n",
       "      <td>...</td>\n",
       "      <td>...</td>\n",
       "      <td>...</td>\n",
       "      <td>...</td>\n",
       "      <td>...</td>\n",
       "      <td>...</td>\n",
       "      <td>...</td>\n",
       "      <td>...</td>\n",
       "      <td>...</td>\n",
       "    </tr>\n",
       "    <tr>\n",
       "      <th>298</th>\n",
       "      <td>57</td>\n",
       "      <td>0</td>\n",
       "      <td>0</td>\n",
       "      <td>140</td>\n",
       "      <td>241</td>\n",
       "      <td>0</td>\n",
       "      <td>1</td>\n",
       "      <td>123</td>\n",
       "      <td>1</td>\n",
       "      <td>0.2</td>\n",
       "      <td>1</td>\n",
       "      <td>0</td>\n",
       "      <td>3</td>\n",
       "      <td>0</td>\n",
       "    </tr>\n",
       "    <tr>\n",
       "      <th>299</th>\n",
       "      <td>45</td>\n",
       "      <td>1</td>\n",
       "      <td>3</td>\n",
       "      <td>110</td>\n",
       "      <td>264</td>\n",
       "      <td>0</td>\n",
       "      <td>1</td>\n",
       "      <td>132</td>\n",
       "      <td>0</td>\n",
       "      <td>1.2</td>\n",
       "      <td>1</td>\n",
       "      <td>0</td>\n",
       "      <td>3</td>\n",
       "      <td>0</td>\n",
       "    </tr>\n",
       "    <tr>\n",
       "      <th>300</th>\n",
       "      <td>68</td>\n",
       "      <td>1</td>\n",
       "      <td>0</td>\n",
       "      <td>144</td>\n",
       "      <td>193</td>\n",
       "      <td>1</td>\n",
       "      <td>1</td>\n",
       "      <td>141</td>\n",
       "      <td>0</td>\n",
       "      <td>3.4</td>\n",
       "      <td>1</td>\n",
       "      <td>2</td>\n",
       "      <td>3</td>\n",
       "      <td>0</td>\n",
       "    </tr>\n",
       "    <tr>\n",
       "      <th>301</th>\n",
       "      <td>57</td>\n",
       "      <td>1</td>\n",
       "      <td>0</td>\n",
       "      <td>130</td>\n",
       "      <td>131</td>\n",
       "      <td>0</td>\n",
       "      <td>1</td>\n",
       "      <td>115</td>\n",
       "      <td>1</td>\n",
       "      <td>1.2</td>\n",
       "      <td>1</td>\n",
       "      <td>1</td>\n",
       "      <td>3</td>\n",
       "      <td>0</td>\n",
       "    </tr>\n",
       "    <tr>\n",
       "      <th>302</th>\n",
       "      <td>57</td>\n",
       "      <td>0</td>\n",
       "      <td>1</td>\n",
       "      <td>130</td>\n",
       "      <td>236</td>\n",
       "      <td>0</td>\n",
       "      <td>0</td>\n",
       "      <td>174</td>\n",
       "      <td>0</td>\n",
       "      <td>0.0</td>\n",
       "      <td>1</td>\n",
       "      <td>1</td>\n",
       "      <td>2</td>\n",
       "      <td>0</td>\n",
       "    </tr>\n",
       "  </tbody>\n",
       "</table>\n",
       "<p>303 rows × 14 columns</p>\n",
       "</div>"
      ],
      "text/plain": [
       "     age  sex  cp  trtbps  chol  fbs  restecg  thalachh  exng  oldpeak  slp  \\\n",
       "0     63    1   3     145   233    1        0       150     0      2.3    0   \n",
       "1     37    1   2     130   250    0        1       187     0      3.5    0   \n",
       "2     41    0   1     130   204    0        0       172     0      1.4    2   \n",
       "3     56    1   1     120   236    0        1       178     0      0.8    2   \n",
       "4     57    0   0     120   354    0        1       163     1      0.6    2   \n",
       "..   ...  ...  ..     ...   ...  ...      ...       ...   ...      ...  ...   \n",
       "298   57    0   0     140   241    0        1       123     1      0.2    1   \n",
       "299   45    1   3     110   264    0        1       132     0      1.2    1   \n",
       "300   68    1   0     144   193    1        1       141     0      3.4    1   \n",
       "301   57    1   0     130   131    0        1       115     1      1.2    1   \n",
       "302   57    0   1     130   236    0        0       174     0      0.0    1   \n",
       "\n",
       "     caa  thall  output  \n",
       "0      0      1       1  \n",
       "1      0      2       1  \n",
       "2      0      2       1  \n",
       "3      0      2       1  \n",
       "4      0      2       1  \n",
       "..   ...    ...     ...  \n",
       "298    0      3       0  \n",
       "299    0      3       0  \n",
       "300    2      3       0  \n",
       "301    1      3       0  \n",
       "302    1      2       0  \n",
       "\n",
       "[303 rows x 14 columns]"
      ]
     },
     "execution_count": 2,
     "metadata": {},
     "output_type": "execute_result"
    }
   ],
   "source": [
    "data = '../Data/heart.csv'\n",
    "df = pd.read_csv(data)\n",
    "df"
   ]
  },
  {
   "cell_type": "code",
   "execution_count": 3,
   "metadata": {},
   "outputs": [
    {
     "data": {
      "text/plain": [
       "age           int64\n",
       "sex           int64\n",
       "cp            int64\n",
       "trtbps        int64\n",
       "chol          int64\n",
       "fbs           int64\n",
       "restecg       int64\n",
       "thalachh      int64\n",
       "exng          int64\n",
       "oldpeak     float64\n",
       "slp           int64\n",
       "caa           int64\n",
       "thall         int64\n",
       "output        int64\n",
       "dtype: object"
      ]
     },
     "execution_count": 3,
     "metadata": {},
     "output_type": "execute_result"
    }
   ],
   "source": [
    "df.dtypes"
   ]
  },
  {
   "cell_type": "code",
   "execution_count": 4,
   "metadata": {},
   "outputs": [
    {
     "data": {
      "text/html": [
       "<div>\n",
       "<style scoped>\n",
       "    .dataframe tbody tr th:only-of-type {\n",
       "        vertical-align: middle;\n",
       "    }\n",
       "\n",
       "    .dataframe tbody tr th {\n",
       "        vertical-align: top;\n",
       "    }\n",
       "\n",
       "    .dataframe thead th {\n",
       "        text-align: right;\n",
       "    }\n",
       "</style>\n",
       "<table border=\"1\" class=\"dataframe\">\n",
       "  <thead>\n",
       "    <tr style=\"text-align: right;\">\n",
       "      <th></th>\n",
       "      <th>age</th>\n",
       "      <th>sex</th>\n",
       "      <th>cp</th>\n",
       "      <th>trtbps</th>\n",
       "      <th>chol</th>\n",
       "      <th>fbs</th>\n",
       "      <th>restecg</th>\n",
       "      <th>thalachh</th>\n",
       "      <th>exng</th>\n",
       "      <th>oldpeak</th>\n",
       "      <th>slp</th>\n",
       "      <th>caa</th>\n",
       "      <th>thall</th>\n",
       "      <th>output</th>\n",
       "    </tr>\n",
       "  </thead>\n",
       "  <tbody>\n",
       "    <tr>\n",
       "      <th>count</th>\n",
       "      <td>303.000</td>\n",
       "      <td>303.000</td>\n",
       "      <td>303.000</td>\n",
       "      <td>303.000</td>\n",
       "      <td>303.000</td>\n",
       "      <td>303.000</td>\n",
       "      <td>303.000</td>\n",
       "      <td>303.000</td>\n",
       "      <td>303.000</td>\n",
       "      <td>303.000</td>\n",
       "      <td>303.000</td>\n",
       "      <td>303.000</td>\n",
       "      <td>303.000</td>\n",
       "      <td>303.000</td>\n",
       "    </tr>\n",
       "    <tr>\n",
       "      <th>mean</th>\n",
       "      <td>54.366</td>\n",
       "      <td>0.683</td>\n",
       "      <td>0.967</td>\n",
       "      <td>131.624</td>\n",
       "      <td>246.264</td>\n",
       "      <td>0.149</td>\n",
       "      <td>0.528</td>\n",
       "      <td>149.647</td>\n",
       "      <td>0.327</td>\n",
       "      <td>1.040</td>\n",
       "      <td>1.399</td>\n",
       "      <td>0.729</td>\n",
       "      <td>2.314</td>\n",
       "      <td>0.545</td>\n",
       "    </tr>\n",
       "    <tr>\n",
       "      <th>std</th>\n",
       "      <td>9.082</td>\n",
       "      <td>0.466</td>\n",
       "      <td>1.032</td>\n",
       "      <td>17.538</td>\n",
       "      <td>51.831</td>\n",
       "      <td>0.356</td>\n",
       "      <td>0.526</td>\n",
       "      <td>22.905</td>\n",
       "      <td>0.470</td>\n",
       "      <td>1.161</td>\n",
       "      <td>0.616</td>\n",
       "      <td>1.023</td>\n",
       "      <td>0.612</td>\n",
       "      <td>0.499</td>\n",
       "    </tr>\n",
       "    <tr>\n",
       "      <th>min</th>\n",
       "      <td>29.000</td>\n",
       "      <td>0.000</td>\n",
       "      <td>0.000</td>\n",
       "      <td>94.000</td>\n",
       "      <td>126.000</td>\n",
       "      <td>0.000</td>\n",
       "      <td>0.000</td>\n",
       "      <td>71.000</td>\n",
       "      <td>0.000</td>\n",
       "      <td>0.000</td>\n",
       "      <td>0.000</td>\n",
       "      <td>0.000</td>\n",
       "      <td>0.000</td>\n",
       "      <td>0.000</td>\n",
       "    </tr>\n",
       "    <tr>\n",
       "      <th>25%</th>\n",
       "      <td>47.500</td>\n",
       "      <td>0.000</td>\n",
       "      <td>0.000</td>\n",
       "      <td>120.000</td>\n",
       "      <td>211.000</td>\n",
       "      <td>0.000</td>\n",
       "      <td>0.000</td>\n",
       "      <td>133.500</td>\n",
       "      <td>0.000</td>\n",
       "      <td>0.000</td>\n",
       "      <td>1.000</td>\n",
       "      <td>0.000</td>\n",
       "      <td>2.000</td>\n",
       "      <td>0.000</td>\n",
       "    </tr>\n",
       "    <tr>\n",
       "      <th>50%</th>\n",
       "      <td>55.000</td>\n",
       "      <td>1.000</td>\n",
       "      <td>1.000</td>\n",
       "      <td>130.000</td>\n",
       "      <td>240.000</td>\n",
       "      <td>0.000</td>\n",
       "      <td>1.000</td>\n",
       "      <td>153.000</td>\n",
       "      <td>0.000</td>\n",
       "      <td>0.800</td>\n",
       "      <td>1.000</td>\n",
       "      <td>0.000</td>\n",
       "      <td>2.000</td>\n",
       "      <td>1.000</td>\n",
       "    </tr>\n",
       "    <tr>\n",
       "      <th>75%</th>\n",
       "      <td>61.000</td>\n",
       "      <td>1.000</td>\n",
       "      <td>2.000</td>\n",
       "      <td>140.000</td>\n",
       "      <td>274.500</td>\n",
       "      <td>0.000</td>\n",
       "      <td>1.000</td>\n",
       "      <td>166.000</td>\n",
       "      <td>1.000</td>\n",
       "      <td>1.600</td>\n",
       "      <td>2.000</td>\n",
       "      <td>1.000</td>\n",
       "      <td>3.000</td>\n",
       "      <td>1.000</td>\n",
       "    </tr>\n",
       "    <tr>\n",
       "      <th>max</th>\n",
       "      <td>77.000</td>\n",
       "      <td>1.000</td>\n",
       "      <td>3.000</td>\n",
       "      <td>200.000</td>\n",
       "      <td>564.000</td>\n",
       "      <td>1.000</td>\n",
       "      <td>2.000</td>\n",
       "      <td>202.000</td>\n",
       "      <td>1.000</td>\n",
       "      <td>6.200</td>\n",
       "      <td>2.000</td>\n",
       "      <td>4.000</td>\n",
       "      <td>3.000</td>\n",
       "      <td>1.000</td>\n",
       "    </tr>\n",
       "  </tbody>\n",
       "</table>\n",
       "</div>"
      ],
      "text/plain": [
       "           age      sex       cp   trtbps     chol      fbs  restecg  \\\n",
       "count  303.000  303.000  303.000  303.000  303.000  303.000  303.000   \n",
       "mean    54.366    0.683    0.967  131.624  246.264    0.149    0.528   \n",
       "std      9.082    0.466    1.032   17.538   51.831    0.356    0.526   \n",
       "min     29.000    0.000    0.000   94.000  126.000    0.000    0.000   \n",
       "25%     47.500    0.000    0.000  120.000  211.000    0.000    0.000   \n",
       "50%     55.000    1.000    1.000  130.000  240.000    0.000    1.000   \n",
       "75%     61.000    1.000    2.000  140.000  274.500    0.000    1.000   \n",
       "max     77.000    1.000    3.000  200.000  564.000    1.000    2.000   \n",
       "\n",
       "       thalachh     exng  oldpeak      slp      caa    thall   output  \n",
       "count   303.000  303.000  303.000  303.000  303.000  303.000  303.000  \n",
       "mean    149.647    0.327    1.040    1.399    0.729    2.314    0.545  \n",
       "std      22.905    0.470    1.161    0.616    1.023    0.612    0.499  \n",
       "min      71.000    0.000    0.000    0.000    0.000    0.000    0.000  \n",
       "25%     133.500    0.000    0.000    1.000    0.000    2.000    0.000  \n",
       "50%     153.000    0.000    0.800    1.000    0.000    2.000    1.000  \n",
       "75%     166.000    1.000    1.600    2.000    1.000    3.000    1.000  \n",
       "max     202.000    1.000    6.200    2.000    4.000    3.000    1.000  "
      ]
     },
     "execution_count": 4,
     "metadata": {},
     "output_type": "execute_result"
    }
   ],
   "source": [
    "round(df.describe(), 3)"
   ]
  },
  {
   "cell_type": "code",
   "execution_count": 5,
   "metadata": {},
   "outputs": [
    {
     "data": {
      "text/plain": [
       "age          41\n",
       "sex           2\n",
       "cp            4\n",
       "trtbps       49\n",
       "chol        152\n",
       "fbs           2\n",
       "restecg       3\n",
       "thalachh     91\n",
       "exng          2\n",
       "oldpeak      40\n",
       "slp           3\n",
       "caa           5\n",
       "thall         4\n",
       "output        2\n",
       "dtype: int64"
      ]
     },
     "execution_count": 5,
     "metadata": {},
     "output_type": "execute_result"
    }
   ],
   "source": [
    "# number of unique values\n",
    "df.nunique()"
   ]
  },
  {
   "cell_type": "code",
   "execution_count": 6,
   "metadata": {},
   "outputs": [
    {
     "data": {
      "text/plain": [
       "age         0\n",
       "sex         0\n",
       "cp          0\n",
       "trtbps      0\n",
       "chol        0\n",
       "fbs         0\n",
       "restecg     0\n",
       "thalachh    0\n",
       "exng        0\n",
       "oldpeak     0\n",
       "slp         0\n",
       "caa         0\n",
       "thall       0\n",
       "output      0\n",
       "dtype: int64"
      ]
     },
     "execution_count": 6,
     "metadata": {},
     "output_type": "execute_result"
    }
   ],
   "source": [
    "# check null values\n",
    "df.isnull().sum()"
   ]
  },
  {
   "cell_type": "code",
   "execution_count": 7,
   "metadata": {},
   "outputs": [
    {
     "data": {
      "text/plain": [
       "0"
      ]
     },
     "execution_count": 7,
     "metadata": {},
     "output_type": "execute_result"
    }
   ],
   "source": [
    "# There is one duplicate record --> remove this\n",
    "df.duplicated().sum()\n",
    "# Output: 1\n",
    "df = df.drop_duplicates()\n",
    "df.duplicated().sum()"
   ]
  },
  {
   "cell_type": "markdown",
   "metadata": {},
   "source": [
    "## EDA, feature importance analysis"
   ]
  },
  {
   "cell_type": "markdown",
   "metadata": {},
   "source": [
    "#### Target variable analysis"
   ]
  },
  {
   "cell_type": "code",
   "execution_count": 8,
   "metadata": {},
   "outputs": [
    {
     "data": {
      "text/plain": [
       "<Axes: xlabel='output', ylabel='Count'>"
      ]
     },
     "execution_count": 8,
     "metadata": {},
     "output_type": "execute_result"
    },
    {
     "data": {
      "image/png": "[encoded data removed]",
      "text/plain": [
       "<Figure size 640x480 with 1 Axes>"
      ]
     },
     "metadata": {},
     "output_type": "display_data"
    }
   ],
   "source": [
    "sns.histplot(df.output)"
   ]
  },
  {
   "cell_type": "code",
   "execution_count": 9,
   "metadata": {},
   "outputs": [
    {
     "data": {
      "text/plain": [
       "0.543"
      ]
     },
     "execution_count": 9,
     "metadata": {},
     "output_type": "execute_result"
    }
   ],
   "source": [
    "round(df.output.mean(), 3)"
   ]
  },
  {
   "cell_type": "markdown",
   "metadata": {},
   "source": [
    "### Feature Importance"
   ]
  },
  {
   "cell_type": "code",
   "execution_count": 10,
   "metadata": {},
   "outputs": [
    {
     "data": {
      "text/plain": [
       "output      1.000000\n",
       "exng        0.435601\n",
       "cp          0.432080\n",
       "oldpeak     0.429146\n",
       "thalachh    0.419955\n",
       "caa         0.408992\n",
       "slp         0.343940\n",
       "thall       0.343101\n",
       "sex         0.283609\n",
       "age         0.221476\n",
       "trtbps      0.146269\n",
       "restecg     0.134874\n",
       "chol        0.081437\n",
       "fbs         0.026826\n",
       "dtype: float64"
      ]
     },
     "execution_count": 10,
     "metadata": {},
     "output_type": "execute_result"
    }
   ],
   "source": [
    "# Correlation\n",
    "corr = df.corrwith(df.output)\n",
    "abs(corr).sort_values(ascending=False)\n",
    "#(corr).sort_values(ascending=False)"
   ]
  },
  {
   "cell_type": "markdown",
   "metadata": {},
   "source": [
    "--> 'chol' and 'fbs' seems to be not as important as the others are..."
   ]
  },
  {
   "cell_type": "code",
   "execution_count": 11,
   "metadata": {},
   "outputs": [
    {
     "data": {
      "text/plain": [
       "<Axes: >"
      ]
     },
     "execution_count": 11,
     "metadata": {},
     "output_type": "execute_result"
    },
    {
     "data": {
      "image/png": "[encoded data removed]",
      "text/plain": [
       "<Figure size 1100x1100 with 2 Axes>"
      ]
     },
     "metadata": {},
     "output_type": "display_data"
    }
   ],
   "source": [
    "plt.figure(figsize=(11,11))\n",
    "sns.heatmap(abs(df.corr()),fmt='.2f', annot=True)"
   ]
  },
  {
   "cell_type": "code",
   "execution_count": 12,
   "metadata": {},
   "outputs": [],
   "source": [
    "categorical = ['sex', 'cp', 'fbs', 'restecg', 'exng', 'slp', 'thall']\n",
    "numerical = ['age', 'trtbps', 'chol', 'thalachh', 'oldpeak', 'caa']"
   ]
  },
  {
   "cell_type": "code",
   "execution_count": 13,
   "metadata": {},
   "outputs": [
    {
     "data": {
      "text/plain": [
       "sex        2\n",
       "cp         4\n",
       "fbs        2\n",
       "restecg    3\n",
       "exng       2\n",
       "slp        3\n",
       "thall      4\n",
       "dtype: int64"
      ]
     },
     "execution_count": 13,
     "metadata": {},
     "output_type": "execute_result"
    }
   ],
   "source": [
    "df[categorical].nunique()"
   ]
  },
  {
   "cell_type": "code",
   "execution_count": 14,
   "metadata": {},
   "outputs": [
    {
     "data": {
      "text/plain": [
       "0.44660194174757284"
      ]
     },
     "execution_count": 14,
     "metadata": {},
     "output_type": "execute_result"
    }
   ],
   "source": [
    "female_mean = df[df.sex == 0].output.mean()\n",
    "female_mean\n",
    "# Output: 0.75\n",
    "male_mean = df[df.sex == 1].output.mean()\n",
    "male_mean\n",
    "# Output: 0.45"
   ]
  },
  {
   "cell_type": "markdown",
   "metadata": {},
   "source": [
    "## Data splitting"
   ]
  },
  {
   "cell_type": "code",
   "execution_count": 15,
   "metadata": {},
   "outputs": [],
   "source": [
    "from sklearn.model_selection import train_test_split\n",
    "\n",
    "df_copy = df.copy()\n",
    "df_copy = df_copy.sample(frac=1)\n",
    "\n",
    "df_full_train, df_test = train_test_split(df_copy, test_size=0.2, random_state=1)\n",
    "df_train, df_val = train_test_split(df_full_train, test_size=0.25, random_state=1)\n",
    "\n",
    "y_train = (df_train.output).values\n",
    "y_val = (df_val.output).values\n",
    "\n",
    "del df_train['output']\n",
    "del df_val['output']\n"
   ]
  },
  {
   "cell_type": "code",
   "execution_count": 16,
   "metadata": {},
   "outputs": [],
   "source": [
    "from sklearn.feature_extraction import DictVectorizer\n",
    "\n",
    "dv = DictVectorizer(sparse=True)\n",
    "\n",
    "categorical = ['sex', 'cp', 'fbs', 'restecg', 'exng', 'slp', 'thall']\n",
    "numerical = ['age', 'trtbps', 'chol', 'thalachh', 'oldpeak', 'caa']\n",
    "\n",
    "#categorical = ['sex', 'cp', 'restecg', 'exng', 'slp', 'thall']\n",
    "#numerical = ['age', 'trtbps', 'thalachh', 'oldpeak', 'caa']"
   ]
  },
  {
   "cell_type": "markdown",
   "metadata": {},
   "source": [
    "## Training"
   ]
  },
  {
   "cell_type": "markdown",
   "metadata": {},
   "source": [
    "### Logistic Regression"
   ]
  },
  {
   "cell_type": "code",
   "execution_count": 17,
   "metadata": {},
   "outputs": [
    {
     "data": {
      "text/plain": [
       "array(['age', 'caa', 'chol', 'cp', 'exng', 'fbs', 'oldpeak', 'restecg',\n",
       "       'sex', 'slp', 'thalachh', 'thall', 'trtbps'], dtype=object)"
      ]
     },
     "execution_count": 17,
     "metadata": {},
     "output_type": "execute_result"
    }
   ],
   "source": [
    "train_dict = df_train[categorical + numerical].to_dict(orient='records')\n",
    "X_train = dv.fit_transform(train_dict)\n",
    "\n",
    "dv.get_feature_names_out()"
   ]
  },
  {
   "cell_type": "code",
   "execution_count": 18,
   "metadata": {},
   "outputs": [
    {
     "data": {
      "text/plain": [
       "array([0.67224067, 0.92466735, 0.94437805, 0.67401839, 0.00600215,\n",
       "       0.83343485, 0.46144321, 0.95807729, 0.78432125, 0.49721788,\n",
       "       0.65555828, 0.43378554, 0.92891041, 0.64665525, 0.56345875,\n",
       "       0.7676809 , 0.64707863, 0.21520214, 0.55527846, 0.97765213,\n",
       "       0.93157208, 0.90743255, 0.7776067 , 0.18231302, 0.54025733,\n",
       "       0.95542286, 0.31167607, 0.4323127 , 0.20760505, 0.01291884,\n",
       "       0.93766803, 0.70798048, 0.11899195, 0.53663095, 0.90888904,\n",
       "       0.73284041, 0.78037497, 0.15636607, 0.40828452, 0.19112973,\n",
       "       0.83524317, 0.06537106, 0.78045875, 0.00896472, 0.46581138,\n",
       "       0.83025657, 0.52047865, 0.07991192, 0.83426603, 0.73162907,\n",
       "       0.81317314, 0.62418494, 0.04764539, 0.80803787, 0.71774161,\n",
       "       0.92295708, 0.05657262, 0.93136222, 0.33291955, 0.12095113,\n",
       "       0.93208257])"
      ]
     },
     "execution_count": 18,
     "metadata": {},
     "output_type": "execute_result"
    }
   ],
   "source": [
    "from sklearn.linear_model import LogisticRegression\n",
    "\n",
    "LogisticRegression_model_1 = LogisticRegression(solver='liblinear', random_state=1)\n",
    "LogisticRegression_model_1.fit(X_train,y_train)\n",
    "\n",
    "val_dict = df_val[categorical + numerical].to_dict(orient='records')\n",
    "X_val = dv.transform(val_dict)\n",
    "\n",
    "y_pred = LogisticRegression_model_1.predict_proba(X_val)[:, 1]\n",
    "y_pred"
   ]
  },
  {
   "cell_type": "code",
   "execution_count": 20,
   "metadata": {},
   "outputs": [
    {
     "name": "stdout",
     "output_type": "stream",
     "text": [
      "acc:   0.86885\n",
      "roc:   0.94024\n"
     ]
    }
   ],
   "source": [
    "from sklearn.metrics import accuracy_score\n",
    "from sklearn.metrics import roc_auc_score\n",
    "\n",
    "# Performance of LogisticRegression_model_1:\n",
    "\n",
    "score = y_pred >= 0.5\n",
    "acc_LogisticRegression_model_1 = round(accuracy_score(y_val, score), 5)\n",
    "print(\"acc:  \",acc_LogisticRegression_model_1)\n",
    "# Output: 0.86885\n",
    "\n",
    "#roc_auc_score(y_val, y_pred)\n",
    "roc_LogisticRegression_model_1 = round(roc_auc_score(y_val, y_pred), 5)\n",
    "print(\"roc:  \",roc_LogisticRegression_model_1)\n",
    "# Output: 0.94024"
   ]
  },
  {
   "cell_type": "code",
   "execution_count": 21,
   "metadata": {},
   "outputs": [
    {
     "data": {
      "text/plain": [
       "[<matplotlib.lines.Line2D at 0x7ff0338882b0>]"
      ]
     },
     "execution_count": 21,
     "metadata": {},
     "output_type": "execute_result"
    },
    {
     "data": {
      "image/png": "[encoded data removed]",
      "text/plain": [
       "<Figure size 640x480 with 1 Axes>"
      ]
     },
     "metadata": {},
     "output_type": "display_data"
    }
   ],
   "source": [
    "thresholds = np.linspace(0, 1, 21)\n",
    "accuricies = []\n",
    "\n",
    "for t in thresholds:\n",
    "    acc = accuracy_score(y_val, y_pred >= t)\n",
    "    accuricies.append(acc)\n",
    "\n",
    "plt.plot(thresholds, accuricies)"
   ]
  },
  {
   "cell_type": "code",
   "execution_count": 22,
   "metadata": {},
   "outputs": [
    {
     "data": {
      "text/plain": [
       "[<matplotlib.lines.Line2D at 0x7ff0337f8670>]"
      ]
     },
     "execution_count": 22,
     "metadata": {},
     "output_type": "execute_result"
    },
    {
     "data": {
      "image/png": "[encoded data removed]",
      "text/plain": [
       "<Figure size 640x480 with 1 Axes>"
      ]
     },
     "metadata": {},
     "output_type": "display_data"
    }
   ],
   "source": [
    "thresholds = np.linspace(0, 1, 21)\n",
    "roc_auc_scores = []\n",
    "\n",
    "for t in thresholds:\n",
    "    score = roc_auc_score(y_val, y_pred >= t)\n",
    "    roc_auc_scores.append(score)\n",
    "\n",
    "plt.plot(thresholds, roc_auc_scores)"
   ]
  },
  {
   "cell_type": "code",
   "execution_count": 24,
   "metadata": {},
   "outputs": [
    {
     "name": "stdout",
     "output_type": "stream",
     "text": [
      "acc:   0.88525\n",
      "roc:   0.94024\n"
     ]
    }
   ],
   "source": [
    "# setting threshold to 0.55 should be even a bit better than 0.5\n",
    "\n",
    "# Performance of LogisticRegression_model_1:\n",
    "score = y_pred >= 0.55\n",
    "#accuracy_score(y_val, score)\n",
    "acc_LogisticRegression_model_1 = round(accuracy_score(y_val, score), 5)\n",
    "print(\"acc:  \",acc_LogisticRegression_model_1)\n",
    "# Output: 0.88525\n",
    "\n",
    "roc_auc_score(y_val, y_pred)\n",
    "roc_LogisticRegression_model_1 = round(roc_auc_score(y_val, y_pred), 5)\n",
    "print(\"roc:  \",roc_LogisticRegression_model_1)\n",
    "# Output: 0.94024"
   ]
  },
  {
   "cell_type": "markdown",
   "metadata": {},
   "source": [
    "#### Logistic Regression - Different model (smaller)\n",
    "- I've seen that 'chol' and 'fbs' seems to be not as important as the others, so let's try a smaller model without both."
   ]
  },
  {
   "cell_type": "code",
   "execution_count": 30,
   "metadata": {},
   "outputs": [
    {
     "name": "stdout",
     "output_type": "stream",
     "text": [
      "acc:   0.86885\n",
      "roc:   0.94024\n"
     ]
    }
   ],
   "source": [
    "categorical = ['sex', 'cp', 'restecg', 'exng', 'slp', 'thall']\n",
    "numerical = ['age', 'trtbps', 'thalachh', 'oldpeak', 'caa']\n",
    "\n",
    "dv = DictVectorizer(sparse=True)\n",
    "\n",
    "train_dict = df_train[categorical + numerical].to_dict(orient='records')\n",
    "X_train = dv.fit_transform(train_dict)\n",
    "\n",
    "LogisticRegression_model_2 = LogisticRegression(solver='liblinear', random_state=1)\n",
    "LogisticRegression_model_2.fit(X_train,y_train)\n",
    "\n",
    "val_dict = df_val[categorical + numerical].to_dict(orient='records')\n",
    "X_val = dv.transform(val_dict)\n",
    "\n",
    "y_pred = LogisticRegression_model_2.predict_proba(X_val)[:, 1]\n",
    "\n",
    "\n",
    "# Performance of LogisticRegression_model_2:\n",
    "\n",
    "score = y_pred >= 0.60\n",
    "#accuracy_score(y_val, score)\n",
    "acc_LogisticRegression_model_2 = round(accuracy_score(y_val, score), 5)\n",
    "print(\"acc:  \",acc_LogisticRegression_model_2)\n",
    "# Output: 0.86885\n",
    "\n",
    "#roc_auc_score(y_val, y_pred)\n",
    "roc_LogisticRegression_model_2 = round(roc_auc_score(y_val, y_pred), 5)\n",
    "print(\"roc:  \",roc_LogisticRegression_model_2)\n",
    "# Output: 0.94024"
   ]
  },
  {
   "cell_type": "code",
   "execution_count": 31,
   "metadata": {},
   "outputs": [
    {
     "data": {
      "text/plain": [
       "[<matplotlib.lines.Line2D at 0x7ff0336fc130>]"
      ]
     },
     "execution_count": 31,
     "metadata": {},
     "output_type": "execute_result"
    },
    {
     "data": {
      "image/png": "[encoded data removed]",
      "text/plain": [
       "<Figure size 640x480 with 1 Axes>"
      ]
     },
     "metadata": {},
     "output_type": "display_data"
    }
   ],
   "source": [
    "thresholds = np.linspace(0, 1, 21)\n",
    "accuricies = []\n",
    "\n",
    "for t in thresholds:\n",
    "    acc = accuracy_score(y_val, y_pred >= t)\n",
    "    accuricies.append(acc)\n",
    "\n",
    "plt.plot(thresholds, accuricies)"
   ]
  },
  {
   "cell_type": "markdown",
   "metadata": {},
   "source": [
    "#### Logistic Regression - Different model (only 9 features)\n",
    "- There are two more features with a lower importance, so let's try a smaller model without both."
   ]
  },
  {
   "cell_type": "code",
   "execution_count": 32,
   "metadata": {},
   "outputs": [
    {
     "name": "stdout",
     "output_type": "stream",
     "text": [
      "acc:   0.85246\n",
      "roc:   0.93049\n"
     ]
    }
   ],
   "source": [
    "categorical = ['sex', 'cp', 'exng', 'slp', 'thall']\n",
    "numerical = ['age', 'thalachh', 'oldpeak', 'caa']\n",
    "\n",
    "dv = DictVectorizer(sparse=True)\n",
    "\n",
    "train_dict = df_train[categorical + numerical].to_dict(orient='records')\n",
    "X_train = dv.fit_transform(train_dict)\n",
    "\n",
    "LogisticRegression_model_3 = LogisticRegression(solver='liblinear', random_state=1)\n",
    "LogisticRegression_model_3.fit(X_train,y_train)\n",
    "\n",
    "val_dict = df_val[categorical + numerical].to_dict(orient='records')\n",
    "X_val = dv.transform(val_dict)\n",
    "\n",
    "y_pred = LogisticRegression_model_3.predict_proba(X_val)[:, 1]\n",
    "\n",
    "# Performance of LogisticRegression_model_3:\n",
    "\n",
    "score = y_pred >= 0.5\n",
    "#accuracy_score(y_val, score)\n",
    "acc_LogisticRegression_model_3 = round(accuracy_score(y_val, score), 5)\n",
    "print(\"acc:  \",acc_LogisticRegression_model_3)\n",
    "# Output: 0.80328\n",
    "\n",
    "#roc_auc_score(y_val, y_pred)\n",
    "roc_LogisticRegression_model_3 = round(roc_auc_score(y_val, y_pred), 5)\n",
    "print(\"roc:  \",roc_LogisticRegression_model_3)\n",
    "# Output: 0.90632"
   ]
  },
  {
   "cell_type": "code",
   "execution_count": 33,
   "metadata": {},
   "outputs": [
    {
     "data": {
      "text/plain": [
       "[<matplotlib.lines.Line2D at 0x7ff033674ca0>]"
      ]
     },
     "execution_count": 33,
     "metadata": {},
     "output_type": "execute_result"
    },
    {
     "data": {
      "image/png": "[encoded data removed]",
      "text/plain": [
       "<Figure size 640x480 with 1 Axes>"
      ]
     },
     "metadata": {},
     "output_type": "display_data"
    }
   ],
   "source": [
    "thresholds = np.linspace(0, 1, 21)\n",
    "roc_auc_scores = []\n",
    "\n",
    "for t in thresholds:\n",
    "    score = roc_auc_score(y_val, y_pred >= t)\n",
    "    roc_auc_scores.append(score)\n",
    "\n",
    "plt.plot(thresholds, roc_auc_scores)"
   ]
  },
  {
   "cell_type": "code",
   "execution_count": 35,
   "metadata": {},
   "outputs": [
    {
     "name": "stdout",
     "output_type": "stream",
     "text": [
      "acc:   0.85246\n",
      "roc:   0.93049\n"
     ]
    }
   ],
   "source": [
    "# setting threshold to 0.55 should be slightly better than 0.5\n",
    "score = y_pred >= 0.55\n",
    "#accuracy_score(y_val, score)\n",
    "acc_LogisticRegression_model_3 = round(accuracy_score(y_val, score), 5)\n",
    "print(\"acc:  \",acc_LogisticRegression_model_3)\n",
    "# Output: 0.85246\n",
    "\n",
    "#roc_auc_score(y_val, y_pred)\n",
    "roc_LogisticRegression_model_3 = round(roc_auc_score(y_val, y_pred), 5)\n",
    "print(\"roc:  \",roc_LogisticRegression_model_3)\n",
    "# Output: 0.93049"
   ]
  },
  {
   "cell_type": "markdown",
   "metadata": {},
   "source": [
    "#### Logistic Regression - Parameter tuning (K-fold cross-validation)\n",
    "I'll go with the second model and do some parameter tuning."
   ]
  },
  {
   "cell_type": "markdown",
   "metadata": {},
   "source": [
    "#### Tuning the C-value"
   ]
  },
  {
   "cell_type": "code",
   "execution_count": 36,
   "metadata": {},
   "outputs": [],
   "source": [
    "from sklearn.model_selection import KFold\n",
    "from sklearn.metrics import roc_auc_score\n",
    "\n",
    "categorical = ['sex', 'cp', 'restecg', 'exng', 'slp', 'thall']\n",
    "numerical = ['age', 'trtbps', 'thalachh', 'oldpeak', 'caa']\n",
    "#categorical = ['sex', 'cp', 'exng', 'slp', 'thall']\n",
    "#numerical = ['age', 'thalachh', 'oldpeak', 'caa']\n",
    "features = categorical + numerical\n",
    "\n",
    "def train(df_train, y_train, C):\n",
    "    train_dict = df_train[features].to_dict(orient='records')\n",
    "    dv = DictVectorizer(sparse=True)\n",
    "    X_train = dv.fit_transform(train_dict)\n",
    "\n",
    "    model = LogisticRegression(solver='liblinear', random_state=1, C=C)\n",
    "    model.fit(X_train,y_train)\n",
    "\n",
    "    return dv, model\n",
    "\n",
    "def predict(df_pred, dv, model):\n",
    "    pred_dict = df_pred[features].to_dict(orient='records')\n",
    "    X_pred = dv.transform(pred_dict)\n",
    "    y_pred = model.predict_proba(X_pred)[:, 1]\n",
    "\n",
    "    return y_pred\n",
    "    "
   ]
  },
  {
   "cell_type": "code",
   "execution_count": 37,
   "metadata": {},
   "outputs": [
    {
     "name": "stdout",
     "output_type": "stream",
     "text": [
      "C=0.001, auc_score=0.745 +- 0.077, accuracy=0.664 +- 0.083\n",
      "C=0.01, auc_score=0.843 +- 0.051, accuracy=0.751 +- 0.063\n",
      "C=0.1, auc_score=0.897 +- 0.026, accuracy=0.830 +- 0.046\n",
      "C=0.4, auc_score=0.898 +- 0.028, accuracy=0.834 +- 0.037\n",
      "C=0.5, auc_score=0.896 +- 0.028, accuracy=0.834 +- 0.037\n",
      "C=0.6, auc_score=0.897 +- 0.029, accuracy=0.834 +- 0.037\n",
      "C=1, auc_score=0.896 +- 0.028, accuracy=0.834 +- 0.026\n",
      "C=5, auc_score=0.893 +- 0.023, accuracy=0.826 +- 0.025\n",
      "C=10, auc_score=0.889 +- 0.021, accuracy=0.826 +- 0.025\n"
     ]
    }
   ],
   "source": [
    "nfolds = 5\n",
    "kfold = KFold(n_splits=nfolds, shuffle=True, random_state=1)\n",
    "\n",
    "for C in [0.001, 0.01, 0.1, 0.4, 0.5, 0.6, 1, 5, 10]:\n",
    "    auc_scores = []\n",
    "    accuracies = []\n",
    "\n",
    "    for train_idx, val_idx in kfold.split(df_full_train):\n",
    "        df_train = df_full_train.iloc[train_idx]\n",
    "        df_val = df_full_train.iloc[val_idx]\n",
    "\n",
    "        y_train = df_train.output.values\n",
    "        y_val = df_val.output.values\n",
    "\n",
    "        dv, model = train(df_train, y_train, C=C)\n",
    "        y_pred = predict(df_val, dv, model)\n",
    "\n",
    "        auc_score = roc_auc_score(y_val, y_pred)\n",
    "        auc_scores.append(auc_score)\n",
    "\n",
    "        score = y_pred >= 0.5\n",
    "        accuracy = accuracy_score(y_val, score)\n",
    "        accuracies.append(accuracy)\n",
    "    \n",
    "    print('C=%s, auc_score=%0.3f +- %0.3f, accuracy=%0.3f +- %0.3f' % (C, np.mean(auc_scores), np.std(auc_scores), np.mean(accuracies), np.std(accuracies)))\n"
   ]
  },
  {
   "cell_type": "markdown",
   "metadata": {},
   "source": [
    "The following configuration seems to be the best:\n",
    "- C=0.1, auc_score=0.897 +- 0.026, accuracy=0.830 +- 0.046\n",
    "- C=0.4, auc_score=0.898 +- 0.028, accuracy=0.834 +- 0.037\n",
    "- C=0.6, auc_score=0.897 +- 0.029, accuracy=0.834 +- 0.037"
   ]
  },
  {
   "cell_type": "markdown",
   "metadata": {},
   "source": [
    "#### Tuning the number of folds"
   ]
  },
  {
   "cell_type": "code",
   "execution_count": 38,
   "metadata": {},
   "outputs": [
    {
     "name": "stdout",
     "output_type": "stream",
     "text": [
      "C=0.001, auc_score=0.747 +- 0.093, accuracy=0.672 +- 0.100\n",
      "C=0.01, auc_score=0.851 +- 0.074, accuracy=0.767 +- 0.090\n",
      "C=0.1, auc_score=0.906 +- 0.055, accuracy=0.834 +- 0.079\n",
      "C=0.4, auc_score=0.906 +- 0.053, accuracy=0.850 +- 0.090\n",
      "C=0.5, auc_score=0.904 +- 0.054, accuracy=0.850 +- 0.090\n",
      "C=0.6, auc_score=0.904 +- 0.054, accuracy=0.850 +- 0.090\n",
      "C=1, auc_score=0.905 +- 0.052, accuracy=0.850 +- 0.096\n",
      "C=5, auc_score=0.904 +- 0.053, accuracy=0.842 +- 0.100\n",
      "C=10, auc_score=0.905 +- 0.052, accuracy=0.846 +- 0.095\n"
     ]
    }
   ],
   "source": [
    "nfolds = 10\n",
    "kfold = KFold(n_splits=nfolds, shuffle=True, random_state=1)\n",
    "\n",
    "for C in [0.001, 0.01, 0.1, 0.4, 0.5, 0.6, 1, 5, 10]:\n",
    "    auc_scores = []\n",
    "    accuracies = []\n",
    "\n",
    "    for train_idx, val_idx in kfold.split(df_full_train):\n",
    "        df_train = df_full_train.iloc[train_idx]\n",
    "        df_val = df_full_train.iloc[val_idx]\n",
    "\n",
    "        y_train = df_train.output.values\n",
    "        y_val = df_val.output.values\n",
    "\n",
    "        dv, model = train(df_train, y_train, C=C)\n",
    "        y_pred = predict(df_val, dv, model)\n",
    "\n",
    "        auc_score = roc_auc_score(y_val, y_pred)\n",
    "        auc_scores.append(auc_score)\n",
    "\n",
    "        score = y_pred >= 0.5\n",
    "        accuracy = accuracy_score(y_val, score)\n",
    "        accuracies.append(accuracy)\n",
    "    \n",
    "    print('C=%s, auc_score=%0.3f +- %0.3f, accuracy=%0.3f +- %0.3f' % (C, np.mean(auc_scores), np.std(auc_scores), np.mean(accuracies), np.std(accuracies)))"
   ]
  },
  {
   "cell_type": "code",
   "execution_count": 39,
   "metadata": {},
   "outputs": [
    {
     "name": "stdout",
     "output_type": "stream",
     "text": [
      "nfold=2, C=0.1, auc_score=0.886 +- 0.010, accuracy=0.830 +- 0.020\n",
      "nfold=2, C=0.4, auc_score=0.885 +- 0.008, accuracy=0.838 +- 0.020\n",
      "nfold=2, C=0.5, auc_score=0.885 +- 0.006, accuracy=0.834 +- 0.024\n",
      "nfold=2, C=0.6, auc_score=0.885 +- 0.005, accuracy=0.834 +- 0.024\n",
      "nfold=3, C=0.1, auc_score=0.899 +- 0.010, accuracy=0.830 +- 0.012\n",
      "nfold=3, C=0.4, auc_score=0.897 +- 0.017, accuracy=0.842 +- 0.031\n",
      "nfold=3, C=0.5, auc_score=0.895 +- 0.017, accuracy=0.838 +- 0.027\n",
      "nfold=3, C=0.6, auc_score=0.895 +- 0.017, accuracy=0.838 +- 0.027\n",
      "nfold=5, C=0.1, auc_score=0.897 +- 0.026, accuracy=0.830 +- 0.046\n",
      "nfold=5, C=0.4, auc_score=0.898 +- 0.028, accuracy=0.834 +- 0.037\n",
      "nfold=5, C=0.5, auc_score=0.896 +- 0.028, accuracy=0.834 +- 0.037\n",
      "nfold=5, C=0.6, auc_score=0.897 +- 0.029, accuracy=0.834 +- 0.037\n",
      "nfold=7, C=0.1, auc_score=0.907 +- 0.045, accuracy=0.834 +- 0.039\n",
      "nfold=7, C=0.4, auc_score=0.906 +- 0.045, accuracy=0.838 +- 0.037\n",
      "nfold=7, C=0.5, auc_score=0.906 +- 0.044, accuracy=0.838 +- 0.037\n",
      "nfold=7, C=0.6, auc_score=0.906 +- 0.046, accuracy=0.842 +- 0.037\n",
      "nfold=9, C=0.1, auc_score=0.900 +- 0.050, accuracy=0.834 +- 0.053\n",
      "nfold=9, C=0.4, auc_score=0.897 +- 0.055, accuracy=0.838 +- 0.064\n",
      "nfold=9, C=0.5, auc_score=0.896 +- 0.055, accuracy=0.838 +- 0.064\n",
      "nfold=9, C=0.6, auc_score=0.896 +- 0.054, accuracy=0.846 +- 0.060\n",
      "nfold=10, C=0.1, auc_score=0.906 +- 0.055, accuracy=0.834 +- 0.079\n",
      "nfold=10, C=0.4, auc_score=0.906 +- 0.053, accuracy=0.850 +- 0.090\n",
      "nfold=10, C=0.5, auc_score=0.904 +- 0.054, accuracy=0.850 +- 0.090\n",
      "nfold=10, C=0.6, auc_score=0.904 +- 0.054, accuracy=0.850 +- 0.090\n",
      "nfold=15, C=0.1, auc_score=0.903 +- 0.079, accuracy=0.834 +- 0.104\n",
      "nfold=15, C=0.4, auc_score=0.893 +- 0.087, accuracy=0.838 +- 0.107\n",
      "nfold=15, C=0.5, auc_score=0.890 +- 0.087, accuracy=0.838 +- 0.107\n",
      "nfold=15, C=0.6, auc_score=0.890 +- 0.087, accuracy=0.833 +- 0.101\n",
      "nfold=20, C=0.1, auc_score=0.905 +- 0.083, accuracy=0.834 +- 0.106\n",
      "nfold=20, C=0.4, auc_score=0.905 +- 0.080, accuracy=0.846 +- 0.106\n",
      "nfold=20, C=0.5, auc_score=0.905 +- 0.080, accuracy=0.846 +- 0.106\n",
      "nfold=20, C=0.6, auc_score=0.904 +- 0.085, accuracy=0.846 +- 0.106\n"
     ]
    }
   ],
   "source": [
    "for nfold in [2, 3, 5, 7, 9, 10, 15, 20]:\n",
    "    kfold = KFold(n_splits=nfold, shuffle=True, random_state=1)\n",
    "\n",
    "    for C in [0.1, 0.4, 0.5, 0.6]:\n",
    "        auc_scores = []\n",
    "        accuracies = []\n",
    "\n",
    "        for train_idx, val_idx in kfold.split(df_full_train):\n",
    "            df_train = df_full_train.iloc[train_idx]\n",
    "            df_val = df_full_train.iloc[val_idx]\n",
    "\n",
    "            y_train = df_train.output.values\n",
    "            y_val = df_val.output.values\n",
    "\n",
    "            dv, model = train(df_train, y_train, C=C)\n",
    "            y_pred = predict(df_val, dv, model)\n",
    "\n",
    "            auc_score = roc_auc_score(y_val, y_pred)\n",
    "            auc_scores.append(auc_score)\n",
    "\n",
    "            score = y_pred >= 0.5\n",
    "            accuracy = accuracy_score(y_val, score)\n",
    "            accuracies.append(accuracy)\n",
    "        \n",
    "        print('nfold=%s, C=%s, auc_score=%0.3f +- %0.3f, accuracy=%0.3f +- %0.3f' % (nfold, C, np.mean(auc_scores), np.std(auc_scores), np.mean(accuracies), np.std(accuracies)))"
   ]
  },
  {
   "cell_type": "markdown",
   "metadata": {},
   "source": [
    "Best fold:\n",
    "- nfold=7, C=0.1, auc_score=0.907 +- 0.045, accuracy=0.834 +- 0.039"
   ]
  },
  {
   "cell_type": "markdown",
   "metadata": {},
   "source": [
    "#### Tuning max_iter"
   ]
  },
  {
   "cell_type": "code",
   "execution_count": 40,
   "metadata": {},
   "outputs": [],
   "source": [
    "def train(df_train, y_train, C, max_iter, n_jobs=-1):\n",
    "    train_dict = df_train[features].to_dict(orient='records')\n",
    "    dv = DictVectorizer(sparse=True)\n",
    "    X_train = dv.fit_transform(train_dict)\n",
    "\n",
    "    model = LogisticRegression(solver='liblinear', random_state=1, C=C, max_iter=max_iter, n_jobs=n_jobs)\n",
    "    model.fit(X_train,y_train)\n",
    "\n",
    "    return dv, model"
   ]
  },
  {
   "cell_type": "code",
   "execution_count": 41,
   "metadata": {},
   "outputs": [
    {
     "name": "stdout",
     "output_type": "stream",
     "text": [
      "max_iter=50, nfold=7, C=0.1, auc_score=0.907 +- 0.045, accuracy=0.834 +- 0.039\n",
      "max_iter=50, nfold=10, C=0.1, auc_score=0.906 +- 0.055, accuracy=0.834 +- 0.079\n",
      "max_iter=100, nfold=7, C=0.1, auc_score=0.907 +- 0.045, accuracy=0.834 +- 0.039\n",
      "max_iter=100, nfold=10, C=0.1, auc_score=0.906 +- 0.055, accuracy=0.834 +- 0.079\n",
      "max_iter=250, nfold=7, C=0.1, auc_score=0.907 +- 0.045, accuracy=0.834 +- 0.039\n",
      "max_iter=250, nfold=10, C=0.1, auc_score=0.906 +- 0.055, accuracy=0.834 +- 0.079\n",
      "max_iter=500, nfold=7, C=0.1, auc_score=0.907 +- 0.045, accuracy=0.834 +- 0.039\n",
      "max_iter=500, nfold=10, C=0.1, auc_score=0.906 +- 0.055, accuracy=0.834 +- 0.079\n",
      "max_iter=1000, nfold=7, C=0.1, auc_score=0.907 +- 0.045, accuracy=0.834 +- 0.039\n",
      "max_iter=1000, nfold=10, C=0.1, auc_score=0.906 +- 0.055, accuracy=0.834 +- 0.079\n",
      "max_iter=5000, nfold=7, C=0.1, auc_score=0.907 +- 0.045, accuracy=0.834 +- 0.039\n",
      "max_iter=5000, nfold=10, C=0.1, auc_score=0.906 +- 0.055, accuracy=0.834 +- 0.079\n",
      "max_iter=10000, nfold=7, C=0.1, auc_score=0.907 +- 0.045, accuracy=0.834 +- 0.039\n",
      "max_iter=10000, nfold=10, C=0.1, auc_score=0.906 +- 0.055, accuracy=0.834 +- 0.079\n"
     ]
    }
   ],
   "source": [
    "for max_i in [50, 100, 250, 500, 1000, 5000, 10000]:\n",
    "    for nfold in [7, 10]:\n",
    "        kfold = KFold(n_splits=nfold, shuffle=True, random_state=1)\n",
    "\n",
    "        for C in [0.1]:\n",
    "            auc_scores = []\n",
    "            accuracies = []\n",
    "\n",
    "            for train_idx, val_idx in kfold.split(df_full_train):\n",
    "                df_train = df_full_train.iloc[train_idx]\n",
    "                df_val = df_full_train.iloc[val_idx]\n",
    "\n",
    "                y_train = df_train.output.values\n",
    "                y_val = df_val.output.values\n",
    "\n",
    "                dv, model = train(df_train, y_train, C=C, max_iter=max_i, n_jobs=1)\n",
    "                y_pred = predict(df_val, dv, model)\n",
    "\n",
    "                auc_score = roc_auc_score(y_val, y_pred)\n",
    "                auc_scores.append(auc_score)\n",
    "\n",
    "                score = y_pred >= 0.5\n",
    "                accuracy = accuracy_score(y_val, score)\n",
    "                accuracies.append(accuracy)\n",
    "            \n",
    "            print('max_iter=%s, nfold=%s, C=%s, auc_score=%0.3f +- %0.3f, accuracy=%0.3f +- %0.3f' % (max_i, nfold, C, np.mean(auc_scores), np.std(auc_scores), np.mean(accuracies), np.std(accuracies)))"
   ]
  },
  {
   "cell_type": "code",
   "execution_count": 42,
   "metadata": {},
   "outputs": [
    {
     "name": "stdout",
     "output_type": "stream",
     "text": [
      "max_iter=50, nfold=10, C=0.1, auc_score=0.907 +- 0.045, accuracy=0.834 +- 0.039\n"
     ]
    }
   ],
   "source": [
    "kfold = KFold(n_splits=7, shuffle=True, random_state=1)\n",
    "max_i = 50\n",
    "C = 0.1\n",
    "\n",
    "auc_scores = []\n",
    "accuracies = []\n",
    "\n",
    "for train_idx, val_idx in kfold.split(df_full_train):\n",
    "    df_train = df_full_train.iloc[train_idx]\n",
    "    df_val = df_full_train.iloc[val_idx]\n",
    "\n",
    "    y_train = df_train.output.values\n",
    "    y_val = df_val.output.values\n",
    "\n",
    "    dv, model = train(df_train, y_train, C=C, max_iter=max_i, n_jobs=1)\n",
    "    y_pred = predict(df_val, dv, model)\n",
    "\n",
    "    auc_score = roc_auc_score(y_val, y_pred)\n",
    "    auc_scores.append(auc_score)\n",
    "\n",
    "    score = y_pred >= 0.5\n",
    "    accuracy = accuracy_score(y_val, score)\n",
    "    accuracies.append(accuracy)\n",
    "                \n",
    "print('max_iter=%s, nfold=%s, C=%s, auc_score=%0.3f +- %0.3f, accuracy=%0.3f +- %0.3f' % (max_i, nfold, C, np.mean(auc_scores), np.std(auc_scores), np.mean(accuracies), np.std(accuracies)))        "
   ]
  },
  {
   "cell_type": "markdown",
   "metadata": {},
   "source": [
    "### Decision Tree"
   ]
  },
  {
   "cell_type": "code",
   "execution_count": 44,
   "metadata": {},
   "outputs": [
    {
     "name": "stdout",
     "output_type": "stream",
     "text": [
      "acc:   0.82353\n",
      "roc:   0.83509\n"
     ]
    }
   ],
   "source": [
    "from sklearn.tree import DecisionTreeClassifier\n",
    "\n",
    "categorical = ['sex', 'cp', 'restecg', 'exng', 'slp', 'thall']\n",
    "numerical = ['age', 'trtbps', 'thalachh', 'oldpeak', 'caa']\n",
    "\n",
    "dv = DictVectorizer(sparse=True)\n",
    "\n",
    "train_dict = df_train[categorical + numerical].to_dict(orient='records')\n",
    "X_train = dv.fit_transform(train_dict)\n",
    "\n",
    "val_dict = df_val[categorical + numerical].to_dict(orient='records')\n",
    "X_val = dv.transform(val_dict)\n",
    "\n",
    "dt_1 = DecisionTreeClassifier(random_state=1)\n",
    "dt_1.fit(X_train, y_train)\n",
    "y_pred = dt_1.predict_proba(X_val)[:,1]\n",
    "\n",
    "score = y_pred >= 0.5\n",
    "#accuracy_score(y_val, score)\n",
    "acc_DecisionTree_model_1 = round(accuracy_score(y_val, score), 5)\n",
    "print(\"acc:  \",acc_DecisionTree_model_1)\n",
    "# Output: 0.82353\n",
    "\n",
    "#roc_auc_score(y_val, y_pred)\n",
    "roc_DecisionTree_model_1 = round(roc_auc_score(y_val, y_pred), 5)\n",
    "print(\"roc:  \",roc_DecisionTree_model_1)\n",
    "# Output: 0.83509"
   ]
  },
  {
   "cell_type": "markdown",
   "metadata": {},
   "source": [
    "#### Decision Tree - Tuning"
   ]
  },
  {
   "cell_type": "code",
   "execution_count": 45,
   "metadata": {},
   "outputs": [
    {
     "name": "stdout",
     "output_type": "stream",
     "text": [
      "   1 -> 0.702\n",
      "   2 -> 0.767\n",
      "   3 -> 0.846\n",
      "   4 -> 0.923\n",
      "   5 -> 0.900\n",
      "   6 -> 0.860\n",
      "  10 -> 0.835\n",
      "  15 -> 0.861\n",
      "  20 -> 0.835\n",
      "None -> 0.861\n"
     ]
    }
   ],
   "source": [
    "for depth in [1, 2, 3, 4, 5, 6, 10, 15, 20, None]:\n",
    "    dt_2 = DecisionTreeClassifier(max_depth=depth)\n",
    "\n",
    "    dt_2.fit(X_train, y_train)\n",
    "    y_pred = dt_2.predict_proba(X_val)[:,1]\n",
    "    auc = roc_auc_score(y_val, y_pred)\n",
    "\n",
    "    print('%4s -> %.3f' % (depth, auc))\n"
   ]
  },
  {
   "cell_type": "code",
   "execution_count": 46,
   "metadata": {},
   "outputs": [
    {
     "name": "stdout",
     "output_type": "stream",
     "text": [
      "depth: 3\n",
      "   1 -> 0.846\n",
      "   5 -> 0.863\n",
      "  10 -> 0.867\n",
      "  15 -> 0.867\n",
      "  20 -> 0.849\n",
      "  50 -> 0.696\n",
      " 100 -> 0.518\n",
      "depth: 4\n",
      "   1 -> 0.923\n",
      "   5 -> 0.889\n",
      "  10 -> 0.868\n",
      "  15 -> 0.868\n",
      "  20 -> 0.861\n",
      "  50 -> 0.696\n",
      " 100 -> 0.518\n",
      "depth: 5\n",
      "   1 -> 0.900\n",
      "   5 -> 0.888\n",
      "  10 -> 0.851\n",
      "  15 -> 0.868\n",
      "  20 -> 0.863\n",
      "  50 -> 0.696\n",
      " 100 -> 0.518\n"
     ]
    }
   ],
   "source": [
    "for depth in [3, 4, 5]:\n",
    "    print('depth: %s' % depth)\n",
    "    for min_samples in [1, 5, 10, 15, 20, 50, 100]:\n",
    "        dt_2 = DecisionTreeClassifier(max_depth=depth, min_samples_leaf=min_samples)\n",
    "\n",
    "        dt_2.fit(X_train, y_train)\n",
    "        y_pred = dt_2.predict_proba(X_val)[:,1]\n",
    "        auc = roc_auc_score(y_val, y_pred)\n",
    "\n",
    "        print('%4s -> %.3f' % (min_samples, auc))"
   ]
  },
  {
   "cell_type": "code",
   "execution_count": 47,
   "metadata": {},
   "outputs": [
    {
     "data": {
      "text/plain": [
       "0.9228070175438596"
      ]
     },
     "execution_count": 47,
     "metadata": {},
     "output_type": "execute_result"
    }
   ],
   "source": [
    "dt_3 = DecisionTreeClassifier(max_depth=4, min_samples_leaf=1)\n",
    "\n",
    "dt_3.fit(X_train, y_train)\n",
    "y_pred = dt_3.predict_proba(X_val)[:,1]\n",
    "roc_auc_score(y_val, y_pred)"
   ]
  },
  {
   "cell_type": "markdown",
   "metadata": {},
   "source": [
    "### Random Forest"
   ]
  },
  {
   "cell_type": "code",
   "execution_count": 48,
   "metadata": {},
   "outputs": [
    {
     "name": "stdout",
     "output_type": "stream",
     "text": [
      "acc:   0.82353\n",
      "roc:   0.87193\n"
     ]
    }
   ],
   "source": [
    "from sklearn.ensemble import RandomForestClassifier\n",
    "\n",
    "categorical = ['sex', 'cp', 'restecg', 'exng', 'slp', 'thall']\n",
    "numerical = ['age', 'trtbps', 'thalachh', 'oldpeak', 'caa']\n",
    "\n",
    "dv = DictVectorizer(sparse=True)\n",
    "\n",
    "train_dict = df_train[categorical + numerical].to_dict(orient='records')\n",
    "X_train = dv.fit_transform(train_dict)\n",
    "\n",
    "val_dict = df_val[categorical + numerical].to_dict(orient='records')\n",
    "X_val = dv.transform(val_dict)\n",
    "\n",
    "rf_1 = RandomForestClassifier(n_estimators=3, random_state=1)\n",
    "rf_1.fit(X_train, y_train)\n",
    "\n",
    "y_pred = rf_1.predict_proba(X_val)[:,1]\n",
    "\n",
    "score = y_pred >= 0.5\n",
    "#accuracy_score(y_val, score)\n",
    "acc_RandomForest_model_1 = round(accuracy_score(y_val, score), 5)\n",
    "print(\"acc:  \",acc_RandomForest_model_1)\n",
    "# Output: 0.91667\n",
    "\n",
    "#roc_auc_score(y_val, y_pred)\n",
    "roc_RandomForest_model_1 = round(roc_auc_score(y_val, y_pred), 5)\n",
    "print(\"roc:  \",roc_RandomForest_model_1)\n",
    "# Output: 0.98571"
   ]
  },
  {
   "cell_type": "markdown",
   "metadata": {},
   "source": [
    "#### Random Forest - Tuning"
   ]
  },
  {
   "cell_type": "code",
   "execution_count": 49,
   "metadata": {},
   "outputs": [
    {
     "name": "stdout",
     "output_type": "stream",
     "text": [
      "depth: 5\n",
      "10 -> 0.849\n",
      "20 -> 0.898\n",
      "30 -> 0.874\n",
      "40 -> 0.881\n",
      "50 -> 0.884\n",
      "60 -> 0.884\n",
      "70 -> 0.888\n",
      "80 -> 0.888\n",
      "90 -> 0.888\n",
      "100 -> 0.881\n",
      "110 -> 0.884\n",
      "120 -> 0.884\n",
      "130 -> 0.884\n",
      "140 -> 0.881\n",
      "150 -> 0.881\n",
      "160 -> 0.877\n",
      "170 -> 0.888\n",
      "180 -> 0.888\n",
      "190 -> 0.884\n",
      "200 -> 0.891\n",
      "\n",
      "depth: 10\n",
      "10 -> 0.865\n",
      "20 -> 0.888\n",
      "30 -> 0.884\n",
      "40 -> 0.874\n",
      "50 -> 0.875\n",
      "60 -> 0.877\n",
      "70 -> 0.874\n",
      "80 -> 0.874\n",
      "90 -> 0.874\n",
      "100 -> 0.881\n",
      "110 -> 0.881\n",
      "120 -> 0.877\n",
      "130 -> 0.881\n",
      "140 -> 0.879\n",
      "150 -> 0.879\n",
      "160 -> 0.879\n",
      "170 -> 0.877\n",
      "180 -> 0.884\n",
      "190 -> 0.882\n",
      "200 -> 0.881\n",
      "\n",
      "depth: 20\n",
      "10 -> 0.861\n",
      "20 -> 0.889\n",
      "30 -> 0.877\n",
      "40 -> 0.877\n",
      "50 -> 0.874\n",
      "60 -> 0.872\n",
      "70 -> 0.874\n",
      "80 -> 0.877\n",
      "90 -> 0.877\n",
      "100 -> 0.881\n",
      "110 -> 0.881\n",
      "120 -> 0.881\n",
      "130 -> 0.881\n",
      "140 -> 0.881\n",
      "150 -> 0.882\n",
      "160 -> 0.881\n",
      "170 -> 0.881\n",
      "180 -> 0.884\n",
      "190 -> 0.884\n",
      "200 -> 0.881\n",
      "\n"
     ]
    },
    {
     "data": {
      "text/plain": [
       "<matplotlib.legend.Legend at 0x7ff0332e4640>"
      ]
     },
     "execution_count": 49,
     "metadata": {},
     "output_type": "execute_result"
    },
    {
     "data": {
      "image/png": "[encoded data removed]",
      "text/plain": [
       "<Figure size 640x480 with 1 Axes>"
      ]
     },
     "metadata": {},
     "output_type": "display_data"
    }
   ],
   "source": [
    "auc_scores = {}\n",
    "\n",
    "for depth in [5, 10, 20]:\n",
    "    print('depth: %s' % depth)\n",
    "    aucs = []\n",
    "\n",
    "    for i in range(10, 201, 10):\n",
    "        rf = RandomForestClassifier(n_estimators=i, max_depth=depth, random_state=1)\n",
    "        rf.fit(X_train, y_train)\n",
    "        y_pred = rf.predict_proba(X_val)[:,1]\n",
    "        auc = roc_auc_score(y_val, y_pred)\n",
    "        print('%s -> %.3f' % (i, auc))\n",
    "        aucs.append(auc)\n",
    "    \n",
    "    auc_scores[depth] = aucs\n",
    "    print()\n",
    "\n",
    "num_trees = list(range(10, 201, 10))\n",
    "plt.plot(num_trees, auc_scores[5], label='depth=5')\n",
    "plt.plot(num_trees, auc_scores[10], label='depth=10')\n",
    "plt.plot(num_trees, auc_scores[20], label='depth=20')\n",
    "plt.legend()"
   ]
  },
  {
   "cell_type": "code",
   "execution_count": 50,
   "metadata": {},
   "outputs": [
    {
     "name": "stdout",
     "output_type": "stream",
     "text": [
      "min_samples: 3\n",
      "10 -> 0.898\n",
      "20 -> 0.912\n",
      "30 -> 0.902\n",
      "40 -> 0.905\n",
      "50 -> 0.905\n",
      "60 -> 0.905\n",
      "70 -> 0.902\n",
      "80 -> 0.902\n",
      "90 -> 0.905\n",
      "100 -> 0.898\n",
      "110 -> 0.898\n",
      "120 -> 0.895\n",
      "130 -> 0.895\n",
      "140 -> 0.891\n",
      "150 -> 0.891\n",
      "160 -> 0.895\n",
      "170 -> 0.895\n",
      "180 -> 0.895\n",
      "190 -> 0.895\n",
      "200 -> 0.898\n",
      "\n",
      "min_samples: 5\n",
      "10 -> 0.895\n",
      "20 -> 0.909\n",
      "30 -> 0.905\n",
      "40 -> 0.909\n",
      "50 -> 0.909\n",
      "60 -> 0.905\n",
      "70 -> 0.902\n",
      "80 -> 0.898\n",
      "90 -> 0.905\n",
      "100 -> 0.898\n",
      "110 -> 0.902\n",
      "120 -> 0.902\n",
      "130 -> 0.902\n",
      "140 -> 0.898\n",
      "150 -> 0.898\n",
      "160 -> 0.898\n",
      "170 -> 0.898\n",
      "180 -> 0.898\n",
      "190 -> 0.898\n",
      "200 -> 0.898\n",
      "\n",
      "min_samples: 10\n",
      "10 -> 0.867\n",
      "20 -> 0.891\n",
      "30 -> 0.898\n",
      "40 -> 0.898\n",
      "50 -> 0.895\n",
      "60 -> 0.895\n",
      "70 -> 0.895\n",
      "80 -> 0.895\n",
      "90 -> 0.898\n",
      "100 -> 0.898\n",
      "110 -> 0.898\n",
      "120 -> 0.902\n",
      "130 -> 0.905\n",
      "140 -> 0.902\n",
      "150 -> 0.905\n",
      "160 -> 0.905\n",
      "170 -> 0.905\n",
      "180 -> 0.905\n",
      "190 -> 0.905\n",
      "200 -> 0.905\n",
      "\n"
     ]
    },
    {
     "data": {
      "text/plain": [
       "<matplotlib.legend.Legend at 0x7ff032f24100>"
      ]
     },
     "execution_count": 50,
     "metadata": {},
     "output_type": "execute_result"
    },
    {
     "data": {
      "image/png": "[encoded data removed]",
      "text/plain": [
       "<Figure size 640x480 with 1 Axes>"
      ]
     },
     "metadata": {},
     "output_type": "display_data"
    }
   ],
   "source": [
    "auc_scores = {}\n",
    "\n",
    "for min_samples in [3, 5, 10]:\n",
    "    print('min_samples: %s' % min_samples)\n",
    "    aucs = []\n",
    "\n",
    "    for i in range(10, 201, 10):\n",
    "        rf = RandomForestClassifier(n_estimators=i, max_depth=5, min_samples_leaf=min_samples, random_state=1)\n",
    "        rf.fit(X_train, y_train)\n",
    "        y_pred = rf.predict_proba(X_val)[:,1]\n",
    "        auc = roc_auc_score(y_val, y_pred)\n",
    "        print('%s -> %.3f' % (i, auc))\n",
    "        aucs.append(auc)\n",
    "    \n",
    "    auc_scores[min_samples] = aucs\n",
    "    print()\n",
    "\n",
    "num_trees = list(range(10, 201, 10))\n",
    "plt.plot(num_trees, auc_scores[3], label='min_samples_leaf=3')\n",
    "plt.plot(num_trees, auc_scores[5], label='min_samples_leaf=5')\n",
    "plt.plot(num_trees, auc_scores[10], label='min_samples_leaf=10')\n",
    "plt.legend()"
   ]
  },
  {
   "cell_type": "markdown",
   "metadata": {},
   "source": [
    "#### Random Forest - Best model"
   ]
  },
  {
   "cell_type": "code",
   "execution_count": 51,
   "metadata": {},
   "outputs": [
    {
     "name": "stdout",
     "output_type": "stream",
     "text": [
      "acc:   0.85294\n",
      "roc:   0.91228\n"
     ]
    }
   ],
   "source": [
    "rf_2 = RandomForestClassifier(n_estimators=20, max_depth=5, min_samples_leaf=3, random_state=1)\n",
    "rf_2.fit(X_train, y_train)\n",
    "\n",
    "y_pred = rf_2.predict_proba(X_val)[:,1]\n",
    "\n",
    "score = y_pred >= 0.5\n",
    "#accuracy_score(y_val, score)\n",
    "acc_RandomForest_model_2 = round(accuracy_score(y_val, score), 5)\n",
    "print(\"acc:  \",acc_RandomForest_model_2)\n",
    "# Output: 0.83333\n",
    "\n",
    "#roc_auc_score(y_val, y_pred)\n",
    "roc_RandomForest_model_2 = round(roc_auc_score(y_val, y_pred), 5)\n",
    "print(\"roc:  \",roc_RandomForest_model_2)\n",
    "# Output: 0.97143"
   ]
  },
  {
   "cell_type": "markdown",
   "metadata": {},
   "source": [
    "### XGBoost"
   ]
  },
  {
   "cell_type": "code",
   "execution_count": null,
   "metadata": {},
   "outputs": [],
   "source": [
    "#!pip install xgboost\n",
    "import xgboost as xgb\n",
    "\n",
    "categorical = ['sex', 'cp', 'restecg', 'exng', 'slp', 'thall']\n",
    "numerical = ['age', 'trtbps', 'thalachh', 'oldpeak', 'caa']\n",
    "\n",
    "dv = DictVectorizer(sparse=True)\n",
    "\n",
    "train_dict = df_train[categorical + numerical].to_dict(orient='records')\n",
    "X_train = dv.fit_transform(train_dict)\n",
    "\n",
    "val_dict = df_val[categorical + numerical].to_dict(orient='records')\n",
    "X_val = dv.transform(val_dict)\n",
    "\n",
    "dtrain = xgb.DMatrix(X_train, label=y_train, feature_names=dv.feature_names_)\n",
    "dval = xgb.DMatrix(X_val, label=y_val, feature_names=dv.feature_names_)\n",
    "\n",
    "xgb_params = {\n",
    "    'eta': 0.3,\n",
    "    'max_depth': 6,\n",
    "    'min_child_weight': 1,\n",
    "\n",
    "    'objective': 'binary:logistic',\n",
    "    'nthread': -1,\n",
    "    'seed': 1,\n",
    "    'silent': 1\n",
    "}\n",
    "\n",
    "xgb_model_1 = xgb.train(xgb_params, dtrain, num_boost_round=10)\n",
    "\n",
    "y_pred = xgb_model_1.predict(dval)\n",
    "\n",
    "score = y_pred >= 0.5\n",
    "#accuracy_score(y_val, score)\n",
    "acc_xgb_model_1 = round(accuracy_score(y_val, score), 5)\n",
    "print(\"acc:  \",acc_xgb_model_1)\n",
    "# Output: 0.91667\n",
    "\n",
    "#roc_auc_score(y_val, y_pred)\n",
    "roc_xgb_model_1 = round(roc_auc_score(y_val, y_pred), 5)\n",
    "print(\"roc:  \",roc_xgb_model_1)\n",
    "# Output: 0.97143"
   ]
  },
  {
   "cell_type": "markdown",
   "metadata": {},
   "source": [
    "#### XGBoost - Tuning"
   ]
  },
  {
   "cell_type": "code",
   "execution_count": null,
   "metadata": {},
   "outputs": [],
   "source": [
    "scores = {}"
   ]
  },
  {
   "cell_type": "code",
   "execution_count": null,
   "metadata": {},
   "outputs": [],
   "source": [
    "def parse_xgb_output(output):\n",
    "    results = []\n",
    "\n",
    "    for line in output.stdout.strip().split('\\n'):\n",
    "        it_line, train_line, val_line = line.split('\\t')\n",
    "\n",
    "        it = int(it_line.strip('[]'))\n",
    "        train = float(train_line.split(':')[1])\n",
    "        val = float(val_line.split(':')[1])\n",
    "\n",
    "        results.append((it, train, val))\n",
    "    \n",
    "    columns = ['num_iter', 'train_auc', 'val_auc']\n",
    "    df_results = pd.DataFrame(results, columns=columns)\n",
    "    return df_results"
   ]
  },
  {
   "cell_type": "code",
   "execution_count": null,
   "metadata": {},
   "outputs": [],
   "source": [
    "watchlist = [(dtrain, 'train'), (dval, 'val')]\n",
    "\n",
    "xgb_params = {\n",
    "    'eta': 0.3,\n",
    "    'max_depth': 6,\n",
    "    'min_child_weight': 1,\n",
    "\n",
    "    'objective': 'binary:logistic',\n",
    "    'eval_metric': 'auc',\n",
    "    'nthread': -1,\n",
    "    'seed': 1,\n",
    "    'silent': 1\n",
    "}\n",
    "\n",
    "xgb_model_2 = xgb.train(xgb_params, dtrain, \n",
    "                  num_boost_round=101,\n",
    "                  evals=watchlist, verbose_eval=10)"
   ]
  },
  {
   "cell_type": "code",
   "execution_count": null,
   "metadata": {},
   "outputs": [],
   "source": [
    "%%capture output\n",
    "watchlist = [(dtrain, 'train'), (dval, 'val')]\n",
    "\n",
    "xgb_params = {\n",
    "    'eta': 0.3,\n",
    "    'max_depth': 6,\n",
    "    'min_child_weight': 1,\n",
    "\n",
    "    'objective': 'binary:logistic',\n",
    "    'eval_metric': 'auc',\n",
    "    'nthread': -1,\n",
    "    'seed': 1,\n",
    "    'silent': 1\n",
    "}\n",
    "\n",
    "xgb_model_2 = xgb.train(xgb_params, dtrain, \n",
    "                  num_boost_round=101,\n",
    "                  evals=watchlist, verbose_eval=10)\n",
    "\n",
    "key = 'eta=%s' % (xgb_params['eta'])\n",
    "scores[key] = parse_xgb_output(output)"
   ]
  },
  {
   "cell_type": "code",
   "execution_count": null,
   "metadata": {},
   "outputs": [],
   "source": [
    "for key, df_score in scores.items():\n",
    "    plt.plot(df_score.num_iter, df_score.val_auc, label=key)\n",
    "plt.legend()"
   ]
  },
  {
   "cell_type": "markdown",
   "metadata": {},
   "source": [
    "##### XGBoost - Tuning eta"
   ]
  },
  {
   "cell_type": "code",
   "execution_count": null,
   "metadata": {},
   "outputs": [],
   "source": [
    "scores = {}"
   ]
  },
  {
   "cell_type": "code",
   "execution_count": null,
   "metadata": {},
   "outputs": [],
   "source": [
    "%%capture output\n",
    "\n",
    "xgb_params = {\n",
    "    'eta': 0.3,\n",
    "    'max_depth': 6,\n",
    "    'min_child_weight': 1,\n",
    "    \n",
    "    'objective': 'binary:logistic',\n",
    "    'eval_metric': 'auc',\n",
    "    \n",
    "    'nthread': -1,\n",
    "    'seed': 1,\n",
    "    'verbosity': 1\n",
    "}\n",
    "\n",
    "xgb_model_3 = xgb.train(xgb_params, dtrain, num_boost_round=200,\n",
    "                 verbose_eval=5,\n",
    "                 evals=watchlist)\n",
    "\n",
    "key = 'eta=%s' % (xgb_params['eta'])\n",
    "scores[key] = parse_xgb_output(output)"
   ]
  },
  {
   "cell_type": "code",
   "execution_count": null,
   "metadata": {},
   "outputs": [],
   "source": [
    "%%capture output\n",
    "\n",
    "xgb_params = {\n",
    "    'eta': 1.0,\n",
    "    'max_depth': 6,\n",
    "    'min_child_weight': 1,\n",
    "    \n",
    "    'objective': 'binary:logistic',\n",
    "    'eval_metric': 'auc',\n",
    "    \n",
    "    'nthread': -1,\n",
    "    'seed': 1,\n",
    "    'verbosity': 1\n",
    "}\n",
    "\n",
    "xgb_model_3 = xgb.train(xgb_params, dtrain, num_boost_round=200,\n",
    "                 verbose_eval=5,\n",
    "                 evals=watchlist)\n",
    "\n",
    "key = 'eta=%s' % (xgb_params['eta'])\n",
    "scores[key] = parse_xgb_output(output)"
   ]
  },
  {
   "cell_type": "code",
   "execution_count": null,
   "metadata": {},
   "outputs": [],
   "source": [
    "%%capture output\n",
    "\n",
    "xgb_params = {\n",
    "    'eta': 0.1,\n",
    "    'max_depth': 6,\n",
    "    'min_child_weight': 1,\n",
    "    \n",
    "    'objective': 'binary:logistic',\n",
    "    'eval_metric': 'auc',\n",
    "    \n",
    "    'nthread': -1,\n",
    "    'seed': 1,\n",
    "    'verbosity': 1\n",
    "}\n",
    "\n",
    "xgb_model_3 = xgb.train(xgb_params, dtrain, num_boost_round=200,\n",
    "                 verbose_eval=5,\n",
    "                 evals=watchlist)\n",
    "\n",
    "key = 'eta=%s' % (xgb_params['eta'])\n",
    "scores[key] = parse_xgb_output(output)"
   ]
  },
  {
   "cell_type": "code",
   "execution_count": null,
   "metadata": {},
   "outputs": [],
   "source": [
    "%%capture output\n",
    "\n",
    "xgb_params = {\n",
    "    'eta': 0.05,\n",
    "    'max_depth': 6,\n",
    "    'min_child_weight': 1,\n",
    "    \n",
    "    'objective': 'binary:logistic',\n",
    "    'eval_metric': 'auc',\n",
    "    \n",
    "    'nthread': -1,\n",
    "    'seed': 1,\n",
    "    'verbosity': 1\n",
    "}\n",
    "\n",
    "xgb_model_3 = xgb.train(xgb_params, dtrain, num_boost_round=200,\n",
    "                 verbose_eval=5,\n",
    "                 evals=watchlist)\n",
    "\n",
    "key = 'eta=%s' % (xgb_params['eta'])\n",
    "scores[key] = parse_xgb_output(output)"
   ]
  },
  {
   "cell_type": "code",
   "execution_count": null,
   "metadata": {},
   "outputs": [],
   "source": [
    "%%capture output\n",
    "\n",
    "xgb_params = {\n",
    "    'eta': 0.01,\n",
    "    'max_depth': 6,\n",
    "    'min_child_weight': 1,\n",
    "    \n",
    "    'objective': 'binary:logistic',\n",
    "    'eval_metric': 'auc',\n",
    "    \n",
    "    'nthread': -1,\n",
    "    'seed': 1,\n",
    "    'verbosity': 1\n",
    "}\n",
    "\n",
    "xgb_model_3 = xgb.train(xgb_params, dtrain, num_boost_round=200,\n",
    "                 verbose_eval=5,\n",
    "                 evals=watchlist)\n",
    "\n",
    "key = 'eta=%s' % (xgb_params['eta'])\n",
    "scores[key] = parse_xgb_output(output)"
   ]
  },
  {
   "cell_type": "code",
   "execution_count": null,
   "metadata": {},
   "outputs": [],
   "source": [
    "for key, df_score in scores.items():\n",
    "    plt.plot(df_score.num_iter, df_score.val_auc, label=key)\n",
    "plt.legend()"
   ]
  },
  {
   "cell_type": "markdown",
   "metadata": {},
   "source": []
  },
  {
   "cell_type": "code",
   "execution_count": null,
   "metadata": {},
   "outputs": [],
   "source": [
    "etas = ['eta=0.1']\n",
    "for eta in etas:\n",
    "    df_score = scores[eta]\n",
    "    plt.plot(df_score.num_iter, df_score.val_auc, label=eta)\n",
    "plt.legend()"
   ]
  },
  {
   "cell_type": "markdown",
   "metadata": {},
   "source": [
    "eta=0.1 seems to be the best. We take this as set value and tune the next one."
   ]
  },
  {
   "cell_type": "markdown",
   "metadata": {},
   "source": [
    "##### XGBoost - Tuning max_depth"
   ]
  },
  {
   "cell_type": "code",
   "execution_count": null,
   "metadata": {},
   "outputs": [],
   "source": [
    "scores = {}"
   ]
  },
  {
   "cell_type": "code",
   "execution_count": null,
   "metadata": {},
   "outputs": [],
   "source": [
    "%%capture output\n",
    "\n",
    "xgb_params = {\n",
    "    'eta': 0.1, \n",
    "    'max_depth': 6,\n",
    "    'min_child_weight': 1,\n",
    "    \n",
    "    'objective': 'binary:logistic',\n",
    "    'eval_metric': 'auc',\n",
    "\n",
    "    'nthread': -1,\n",
    "    'seed': 1,\n",
    "    'verbosity': 1,\n",
    "}\n",
    "\n",
    "xgb_model_4 = xgb.train(xgb_params, dtrain, num_boost_round=200,\n",
    "                  verbose_eval=1,\n",
    "                  evals=watchlist)\n",
    "\n",
    "key = 'max_depth=%s' % (xgb_params['max_depth'])\n",
    "scores[key] = parse_xgb_output(output)"
   ]
  },
  {
   "cell_type": "code",
   "execution_count": null,
   "metadata": {},
   "outputs": [],
   "source": [
    "%%capture output\n",
    "\n",
    "xgb_params = {\n",
    "    'eta': 0.1, \n",
    "    'max_depth': 3,\n",
    "    'min_child_weight': 1,\n",
    "    \n",
    "    'objective': 'binary:logistic',\n",
    "    'eval_metric': 'auc',\n",
    "\n",
    "    'nthread': -1,\n",
    "    'seed': 1,\n",
    "    'verbosity': 1,\n",
    "}\n",
    "\n",
    "xgb_model_3 = xgb.train(xgb_params, dtrain, num_boost_round=200,\n",
    "                  verbose_eval=1,\n",
    "                  evals=watchlist)\n",
    "\n",
    "key = 'max_depth=%s' % (xgb_params['max_depth'])\n",
    "scores[key] = parse_xgb_output(output)"
   ]
  },
  {
   "cell_type": "code",
   "execution_count": null,
   "metadata": {},
   "outputs": [],
   "source": [
    "%%capture output\n",
    "\n",
    "xgb_params = {\n",
    "    'eta': 0.1, \n",
    "    'max_depth': 4,\n",
    "    'min_child_weight': 1,\n",
    "    \n",
    "    'objective': 'binary:logistic',\n",
    "    'eval_metric': 'auc',\n",
    "\n",
    "    'nthread': -1,\n",
    "    'seed': 1,\n",
    "    'verbosity': 1,\n",
    "}\n",
    "\n",
    "xgb_model_3 = xgb.train(xgb_params, dtrain, num_boost_round=200,\n",
    "                  verbose_eval=1,\n",
    "                  evals=watchlist)\n",
    "\n",
    "key = 'max_depth=%s' % (xgb_params['max_depth'])\n",
    "scores[key] = parse_xgb_output(output)"
   ]
  },
  {
   "cell_type": "code",
   "execution_count": null,
   "metadata": {},
   "outputs": [],
   "source": [
    "%%capture output\n",
    "\n",
    "xgb_params = {\n",
    "    'eta': 0.1, \n",
    "    'max_depth': 10,\n",
    "    'min_child_weight': 1,\n",
    "    \n",
    "    'objective': 'binary:logistic',\n",
    "    'eval_metric': 'auc',\n",
    "\n",
    "    'nthread': -1,\n",
    "    'seed': 1,\n",
    "    'verbosity': 1,\n",
    "}\n",
    "\n",
    "xgb_model_3 = xgb.train(xgb_params, dtrain, num_boost_round=200,\n",
    "                  verbose_eval=1,\n",
    "                  evals=watchlist)\n",
    "\n",
    "key = 'max_depth=%s' % (xgb_params['max_depth'])\n",
    "scores[key] = parse_xgb_output(output)"
   ]
  },
  {
   "cell_type": "code",
   "execution_count": null,
   "metadata": {},
   "outputs": [],
   "source": [
    "for max_depth, df_score in scores.items():\n",
    "    plt.plot(df_score.num_iter, df_score.val_auc, label=max_depth)\n",
    "\n",
    "#plt.ylim(0.8, 0.84)\n",
    "plt.legend()"
   ]
  },
  {
   "cell_type": "code",
   "execution_count": null,
   "metadata": {},
   "outputs": [],
   "source": [
    "max_depths = ['max_depth=4', 'max_depth=10']\n",
    "for max_depth in max_depths:\n",
    "    df_score = scores[max_depth]\n",
    "    plt.plot(df_score.num_iter, df_score.val_auc, label=max_depth)\n",
    "plt.legend()"
   ]
  },
  {
   "cell_type": "markdown",
   "metadata": {},
   "source": [
    "max_depth=4 and max_depth=10 are looking quite similar. Let's go with max_depth=4 because it's the easier one."
   ]
  },
  {
   "cell_type": "markdown",
   "metadata": {},
   "source": [
    "##### XGBoost - Tuning min_child_weight"
   ]
  },
  {
   "cell_type": "code",
   "execution_count": null,
   "metadata": {},
   "outputs": [],
   "source": [
    "scores = {}"
   ]
  },
  {
   "cell_type": "code",
   "execution_count": null,
   "metadata": {},
   "outputs": [],
   "source": [
    "%%capture output\n",
    "\n",
    "xgb_params = {\n",
    "    'eta': 0.1, \n",
    "    'max_depth': 4,\n",
    "    'min_child_weight': 1,\n",
    "    \n",
    "    'objective': 'binary:logistic',\n",
    "    'eval_metric': 'auc',\n",
    "\n",
    "    'nthread': -1,\n",
    "    'seed': 1,\n",
    "    'verbosity': 1,\n",
    "}\n",
    "\n",
    "xgb_model_4 = xgb.train(xgb_params, dtrain, num_boost_round=200,\n",
    "                  verbose_eval=1,\n",
    "                  evals=watchlist)\n",
    "\n",
    "key = 'min_child_weight=%s' % (xgb_params['min_child_weight'])\n",
    "scores[key] = parse_xgb_output(output)"
   ]
  },
  {
   "cell_type": "code",
   "execution_count": null,
   "metadata": {},
   "outputs": [],
   "source": [
    "%%capture output\n",
    "\n",
    "xgb_params = {\n",
    "    'eta': 0.1, \n",
    "    'max_depth': 4,\n",
    "    'min_child_weight': 10,\n",
    "    \n",
    "    'objective': 'binary:logistic',\n",
    "    'eval_metric': 'auc',\n",
    "\n",
    "    'nthread': -1,\n",
    "    'seed': 1,\n",
    "    'verbosity': 1,\n",
    "}\n",
    "\n",
    "xgb_model_4 = xgb.train(xgb_params, dtrain, num_boost_round=200,\n",
    "                  verbose_eval=1,\n",
    "                  evals=watchlist)\n",
    "\n",
    "key = 'min_child_weight=%s' % (xgb_params['min_child_weight'])\n",
    "scores[key] = parse_xgb_output(output)"
   ]
  },
  {
   "cell_type": "code",
   "execution_count": null,
   "metadata": {},
   "outputs": [],
   "source": [
    "%%capture output\n",
    "\n",
    "xgb_params = {\n",
    "    'eta': 0.1, \n",
    "    'max_depth': 4,\n",
    "    'min_child_weight': 30,\n",
    "    \n",
    "    'objective': 'binary:logistic',\n",
    "    'eval_metric': 'auc',\n",
    "\n",
    "    'nthread': -1,\n",
    "    'seed': 1,\n",
    "    'verbosity': 1,\n",
    "}\n",
    "\n",
    "xgb_model_4 = xgb.train(xgb_params, dtrain, num_boost_round=200,\n",
    "                  verbose_eval=1,\n",
    "                  evals=watchlist)\n",
    "\n",
    "key = 'min_child_weight=%s' % (xgb_params['min_child_weight'])\n",
    "scores[key] = parse_xgb_output(output)"
   ]
  },
  {
   "cell_type": "code",
   "execution_count": null,
   "metadata": {},
   "outputs": [],
   "source": [
    "#min_child_weights = ['min_child_weight=1', 'min_child_weight=10', 'min_child_weight=30']\n",
    "min_child_weights = ['min_child_weight=10']\n",
    "for min_child_weight in min_child_weights:\n",
    "    df_score = scores[min_child_weight]\n",
    "    plt.plot(df_score.num_iter, df_score.val_auc, label=min_child_weight)\n",
    "plt.legend()"
   ]
  },
  {
   "cell_type": "code",
   "execution_count": null,
   "metadata": {},
   "outputs": [],
   "source": [
    "categorical = ['sex', 'cp', 'restecg', 'exng', 'slp', 'thall']\n",
    "numerical = ['age', 'trtbps', 'thalachh', 'oldpeak', 'caa']\n",
    "\n",
    "dv = DictVectorizer(sparse=True)\n",
    "\n",
    "train_dict = df_train[categorical + numerical].to_dict(orient='records')\n",
    "X_train = dv.fit_transform(train_dict)\n",
    "\n",
    "val_dict = df_val[categorical + numerical].to_dict(orient='records')\n",
    "X_val = dv.transform(val_dict)\n",
    "\n",
    "dtrain = xgb.DMatrix(X_train, label=y_train, feature_names=dv.feature_names_)\n",
    "dval = xgb.DMatrix(X_val, label=y_val, feature_names=dv.feature_names_)\n",
    "\n",
    "xgb_params = {\n",
    "    'eta': 0.1, \n",
    "    'max_depth': 4,\n",
    "    'min_child_weight': 10,\n",
    "    \n",
    "    'objective': 'binary:logistic',\n",
    "    'eval_metric': 'auc',\n",
    "\n",
    "    'nthread': -1,\n",
    "    'seed': 1,\n",
    "    'verbosity': 1,\n",
    "}\n",
    "\n",
    "xgb_model_5 = xgb.train(xgb_params, dtrain, num_boost_round=61,evals=watchlist,\n",
    "                  verbose_eval=1)"
   ]
  },
  {
   "cell_type": "code",
   "execution_count": null,
   "metadata": {},
   "outputs": [],
   "source": [
    "watchlist = [(dtrain, 'train'), (dval, 'val')]\n",
    "\n",
    "xgb_params = {\n",
    "    'eta': 0.1,\n",
    "    'max_depth': 4,\n",
    "    'min_child_weight': 10,\n",
    "\n",
    "    'objective': 'binary:logistic',\n",
    "    'eval_metric': 'auc',\n",
    "    'nthread': -1,\n",
    "    'seed': 1,\n",
    "    'silent': 1\n",
    "}\n",
    "\n",
    "xgb_model_6 = xgb.train(xgb_params, dtrain, \n",
    "                  num_boost_round=34,\n",
    "                  evals=watchlist, verbose_eval=1)"
   ]
  },
  {
   "cell_type": "code",
   "execution_count": null,
   "metadata": {},
   "outputs": [],
   "source": [
    "y_pred = xgb_model_6.predict(dval)\n",
    "\n",
    "score = y_pred >= 0.5\n",
    "#accuracy_score(y_val, score)\n",
    "acc_xgb_model_6 = round(accuracy_score(y_val, score), 5)\n",
    "print(\"acc:  \",acc_xgb_model_6)\n",
    "# Output: 0.8333333333333334\n",
    "\n",
    "#roc_auc_score(y_val, y_pred)\n",
    "roc_xgb_model_6 = round(roc_auc_score(y_val, y_pred), 5)\n",
    "print(\"roc:  \",roc_xgb_model_6)\n",
    "# Output: 0.9714285714285714\n"
   ]
  },
  {
   "cell_type": "markdown",
   "metadata": {},
   "source": [
    "## Selecting the best model"
   ]
  },
  {
   "cell_type": "markdown",
   "metadata": {},
   "source": [
    "### Logistic Regression:\n",
    "\n",
    "- LogisticRegression_model_2\n",
    "    acc:   0.86885\n",
    "    roc:   0.94024\n",
    "\n",
    "- K-Fold:\n",
    "    auc_score: 0.907 +- 0.045,\n",
    "    accuracy : 0.834 +- 0.039\n",
    "\n",
    "### Decision Tree:\n",
    "\n",
    "- dt_3\n",
    "    auc_score:  0.9228070175438596\n",
    "\n",
    "\n",
    "### Random Forest:\n",
    "\n",
    "- rf_2\n",
    "    acc:   0.85294\n",
    "    roc:   0.91228\n",
    "\n",
    "### XGBoost model:\n",
    "\n",
    "- xgb_model_1\n",
    "    acc:   0.91667\n",
    "    roc:   0.97143\n",
    "\n",
    "- xgb_model_6\n",
    "    acc:   0.83333\n",
    "    roc:   0.97143"
   ]
  },
  {
   "cell_type": "markdown",
   "metadata": {},
   "source": [
    "### DecisionTree\n",
    "\n",
    "DecisionTreeClassifier(max_depth=5, min_samples_leaf=5)\n",
    "\n",
    "roc_auc_score(y_val, y_pred)\n",
    "Output: 0.9841269841269842"
   ]
  },
  {
   "cell_type": "markdown",
   "metadata": {},
   "source": [
    "### Random Forest:\n",
    "\n",
    "RandomForestClassifier(n_estimators=20, max_depth=5, min_samples_leaf=3, random_state=1)\n",
    "\n",
    "accuracy_score(y_val, score)\n",
    "Output: 0.9375\n",
    "\n",
    "roc_auc_score(y_val, y_pred)\n",
    "Output: 0.9841269841269841"
   ]
  },
  {
   "cell_type": "markdown",
   "metadata": {},
   "source": [
    "### XGBoost:\n",
    "\n",
    "xgb_params = {\n",
    "    'eta': 0.3,\n",
    "    'max_depth': 6,\n",
    "    'min_child_weight': 1,\n",
    "\n",
    "    'objective': 'binary:logistic',\n",
    "    'eval_metric': 'auc',\n",
    "    'nthread': -1,\n",
    "    'seed': 1,\n",
    "    'silent': 1\n",
    "}\n",
    "\n",
    "model = xgb.train(xgb_params, dtrain, \n",
    "                  num_boost_round=11,\n",
    "                  evals=watchlist, verbose_eval=10)\n",
    "\n",
    "accuracy_score(y_val, score)\n",
    "Output: 0.9375\n",
    "\n",
    "roc_auc_score(y_val, y_pred)\n",
    "Output: 0.9841269841269842"
   ]
  },
  {
   "cell_type": "markdown",
   "metadata": {},
   "source": [
    "Choosing the Random Forest model as the best\n",
    "\n",
    "RandomForestClassifier(n_estimators=20, max_depth=5, min_samples_leaf=3, random_state=1)"
   ]
  },
  {
   "cell_type": "markdown",
   "metadata": {},
   "source": [
    "## Retrain the best model on full_train"
   ]
  },
  {
   "cell_type": "code",
   "execution_count": null,
   "metadata": {},
   "outputs": [],
   "source": [
    "rf_2 = RandomForestClassifier(n_estimators=10, max_depth=5, min_samples_leaf=5, random_state=1)\n",
    "rf_2.fit(X_train, y_train)\n",
    "\n",
    "y_pred = rf_2.predict_proba(X_val)[:,1]\n",
    "\n",
    "score = y_pred >= 0.5\n",
    "#accuracy_score(y_val, score)\n",
    "acc_RandomForest_model_2 = round(accuracy_score(y_val, score), 5)\n",
    "print(\"acc:  \",acc_RandomForest_model_2)\n",
    "# Output: 0.83333\n",
    "\n",
    "#roc_auc_score(y_val, y_pred)\n",
    "roc_RandomForest_model_2 = round(roc_auc_score(y_val, y_pred), 5)\n",
    "print(\"roc:  \",roc_RandomForest_model_2)\n",
    "# Output: 0.97143\n",
    "\n",
    "from sklearn.feature_extraction import DictVectorizer\n",
    "\n",
    "dv = DictVectorizer(sparse=True)\n",
    "\n",
    "categorical = ['sex', 'cp', 'fbs', 'restecg', 'exng', 'slp', 'thall']\n",
    "numerical = ['age', 'trtbps', 'chol', 'thalachh', 'oldpeak', 'caa']\n",
    "\n",
    "#categorical = ['sex', 'cp', 'restecg', 'exng', 'slp', 'thall']\n",
    "#numerical = ['age', 'trtbps', 'thalachh', 'oldpeak', 'caa']"
   ]
  },
  {
   "cell_type": "code",
   "execution_count": null,
   "metadata": {},
   "outputs": [],
   "source": [
    "# Selecting the best model\n",
    "# Retrain the best model on full_train\n",
    "# Save the model\n",
    "# Provide python files\n",
    "# Deploy the model to web server\n",
    "# Use Docker"
   ]
  },
  {
   "cell_type": "code",
   "execution_count": null,
   "metadata": {},
   "outputs": [],
   "source": []
  }
 ],
 "metadata": {
  "kernelspec": {
   "display_name": "Python 3 (ipykernel)",
   "language": "python",
   "name": "python3"
  },
  "language_info": {
   "codemirror_mode": {
    "name": "ipython",
    "version": 3
   },
   "file_extension": ".py",
   "mimetype": "text/x-python",
   "name": "python",
   "nbconvert_exporter": "python",
   "pygments_lexer": "ipython3",
   "version": "3.9.17"
  }
 },
 "nbformat": 4,
 "nbformat_minor": 4
}
