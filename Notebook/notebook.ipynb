{
 "cells": [
  {
   "cell_type": "markdown",
   "metadata": {},
   "source": [
    "# Tasks\n",
    "- Data preparation and data cleaning\n",
    "- EDA, feature importance analysis\n",
    "- Model selection process and parameter tuning"
   ]
  },
  {
   "cell_type": "code",
   "execution_count": 1,
   "metadata": {},
   "outputs": [],
   "source": [
    "import pandas as pd\n",
    "import numpy as np\n",
    "import seaborn as sns\n",
    "\n",
    "from matplotlib import pyplot as plt\n",
    "%matplotlib inline"
   ]
  },
  {
   "cell_type": "markdown",
   "metadata": {},
   "source": [
    "### Data preparation and data cleaning\n",
    "- column names have the same format\n",
    "- there are no string values"
   ]
  },
  {
   "cell_type": "code",
   "execution_count": 2,
   "metadata": {},
   "outputs": [
    {
     "data": {
      "text/html": [
       "<div>\n",
       "<style scoped>\n",
       "    .dataframe tbody tr th:only-of-type {\n",
       "        vertical-align: middle;\n",
       "    }\n",
       "\n",
       "    .dataframe tbody tr th {\n",
       "        vertical-align: top;\n",
       "    }\n",
       "\n",
       "    .dataframe thead th {\n",
       "        text-align: right;\n",
       "    }\n",
       "</style>\n",
       "<table border=\"1\" class=\"dataframe\">\n",
       "  <thead>\n",
       "    <tr style=\"text-align: right;\">\n",
       "      <th></th>\n",
       "      <th>age</th>\n",
       "      <th>sex</th>\n",
       "      <th>cp</th>\n",
       "      <th>trtbps</th>\n",
       "      <th>chol</th>\n",
       "      <th>fbs</th>\n",
       "      <th>restecg</th>\n",
       "      <th>thalachh</th>\n",
       "      <th>exng</th>\n",
       "      <th>oldpeak</th>\n",
       "      <th>slp</th>\n",
       "      <th>caa</th>\n",
       "      <th>thall</th>\n",
       "      <th>output</th>\n",
       "    </tr>\n",
       "  </thead>\n",
       "  <tbody>\n",
       "    <tr>\n",
       "      <th>0</th>\n",
       "      <td>63</td>\n",
       "      <td>1</td>\n",
       "      <td>3</td>\n",
       "      <td>145</td>\n",
       "      <td>233</td>\n",
       "      <td>1</td>\n",
       "      <td>0</td>\n",
       "      <td>150</td>\n",
       "      <td>0</td>\n",
       "      <td>2.3</td>\n",
       "      <td>0</td>\n",
       "      <td>0</td>\n",
       "      <td>1</td>\n",
       "      <td>1</td>\n",
       "    </tr>\n",
       "    <tr>\n",
       "      <th>1</th>\n",
       "      <td>37</td>\n",
       "      <td>1</td>\n",
       "      <td>2</td>\n",
       "      <td>130</td>\n",
       "      <td>250</td>\n",
       "      <td>0</td>\n",
       "      <td>1</td>\n",
       "      <td>187</td>\n",
       "      <td>0</td>\n",
       "      <td>3.5</td>\n",
       "      <td>0</td>\n",
       "      <td>0</td>\n",
       "      <td>2</td>\n",
       "      <td>1</td>\n",
       "    </tr>\n",
       "    <tr>\n",
       "      <th>2</th>\n",
       "      <td>41</td>\n",
       "      <td>0</td>\n",
       "      <td>1</td>\n",
       "      <td>130</td>\n",
       "      <td>204</td>\n",
       "      <td>0</td>\n",
       "      <td>0</td>\n",
       "      <td>172</td>\n",
       "      <td>0</td>\n",
       "      <td>1.4</td>\n",
       "      <td>2</td>\n",
       "      <td>0</td>\n",
       "      <td>2</td>\n",
       "      <td>1</td>\n",
       "    </tr>\n",
       "    <tr>\n",
       "      <th>3</th>\n",
       "      <td>56</td>\n",
       "      <td>1</td>\n",
       "      <td>1</td>\n",
       "      <td>120</td>\n",
       "      <td>236</td>\n",
       "      <td>0</td>\n",
       "      <td>1</td>\n",
       "      <td>178</td>\n",
       "      <td>0</td>\n",
       "      <td>0.8</td>\n",
       "      <td>2</td>\n",
       "      <td>0</td>\n",
       "      <td>2</td>\n",
       "      <td>1</td>\n",
       "    </tr>\n",
       "    <tr>\n",
       "      <th>4</th>\n",
       "      <td>57</td>\n",
       "      <td>0</td>\n",
       "      <td>0</td>\n",
       "      <td>120</td>\n",
       "      <td>354</td>\n",
       "      <td>0</td>\n",
       "      <td>1</td>\n",
       "      <td>163</td>\n",
       "      <td>1</td>\n",
       "      <td>0.6</td>\n",
       "      <td>2</td>\n",
       "      <td>0</td>\n",
       "      <td>2</td>\n",
       "      <td>1</td>\n",
       "    </tr>\n",
       "    <tr>\n",
       "      <th>...</th>\n",
       "      <td>...</td>\n",
       "      <td>...</td>\n",
       "      <td>...</td>\n",
       "      <td>...</td>\n",
       "      <td>...</td>\n",
       "      <td>...</td>\n",
       "      <td>...</td>\n",
       "      <td>...</td>\n",
       "      <td>...</td>\n",
       "      <td>...</td>\n",
       "      <td>...</td>\n",
       "      <td>...</td>\n",
       "      <td>...</td>\n",
       "      <td>...</td>\n",
       "    </tr>\n",
       "    <tr>\n",
       "      <th>298</th>\n",
       "      <td>57</td>\n",
       "      <td>0</td>\n",
       "      <td>0</td>\n",
       "      <td>140</td>\n",
       "      <td>241</td>\n",
       "      <td>0</td>\n",
       "      <td>1</td>\n",
       "      <td>123</td>\n",
       "      <td>1</td>\n",
       "      <td>0.2</td>\n",
       "      <td>1</td>\n",
       "      <td>0</td>\n",
       "      <td>3</td>\n",
       "      <td>0</td>\n",
       "    </tr>\n",
       "    <tr>\n",
       "      <th>299</th>\n",
       "      <td>45</td>\n",
       "      <td>1</td>\n",
       "      <td>3</td>\n",
       "      <td>110</td>\n",
       "      <td>264</td>\n",
       "      <td>0</td>\n",
       "      <td>1</td>\n",
       "      <td>132</td>\n",
       "      <td>0</td>\n",
       "      <td>1.2</td>\n",
       "      <td>1</td>\n",
       "      <td>0</td>\n",
       "      <td>3</td>\n",
       "      <td>0</td>\n",
       "    </tr>\n",
       "    <tr>\n",
       "      <th>300</th>\n",
       "      <td>68</td>\n",
       "      <td>1</td>\n",
       "      <td>0</td>\n",
       "      <td>144</td>\n",
       "      <td>193</td>\n",
       "      <td>1</td>\n",
       "      <td>1</td>\n",
       "      <td>141</td>\n",
       "      <td>0</td>\n",
       "      <td>3.4</td>\n",
       "      <td>1</td>\n",
       "      <td>2</td>\n",
       "      <td>3</td>\n",
       "      <td>0</td>\n",
       "    </tr>\n",
       "    <tr>\n",
       "      <th>301</th>\n",
       "      <td>57</td>\n",
       "      <td>1</td>\n",
       "      <td>0</td>\n",
       "      <td>130</td>\n",
       "      <td>131</td>\n",
       "      <td>0</td>\n",
       "      <td>1</td>\n",
       "      <td>115</td>\n",
       "      <td>1</td>\n",
       "      <td>1.2</td>\n",
       "      <td>1</td>\n",
       "      <td>1</td>\n",
       "      <td>3</td>\n",
       "      <td>0</td>\n",
       "    </tr>\n",
       "    <tr>\n",
       "      <th>302</th>\n",
       "      <td>57</td>\n",
       "      <td>0</td>\n",
       "      <td>1</td>\n",
       "      <td>130</td>\n",
       "      <td>236</td>\n",
       "      <td>0</td>\n",
       "      <td>0</td>\n",
       "      <td>174</td>\n",
       "      <td>0</td>\n",
       "      <td>0.0</td>\n",
       "      <td>1</td>\n",
       "      <td>1</td>\n",
       "      <td>2</td>\n",
       "      <td>0</td>\n",
       "    </tr>\n",
       "  </tbody>\n",
       "</table>\n",
       "<p>303 rows × 14 columns</p>\n",
       "</div>"
      ],
      "text/plain": [
       "     age  sex  cp  trtbps  chol  fbs  restecg  thalachh  exng  oldpeak  slp  \\\n",
       "0     63    1   3     145   233    1        0       150     0      2.3    0   \n",
       "1     37    1   2     130   250    0        1       187     0      3.5    0   \n",
       "2     41    0   1     130   204    0        0       172     0      1.4    2   \n",
       "3     56    1   1     120   236    0        1       178     0      0.8    2   \n",
       "4     57    0   0     120   354    0        1       163     1      0.6    2   \n",
       "..   ...  ...  ..     ...   ...  ...      ...       ...   ...      ...  ...   \n",
       "298   57    0   0     140   241    0        1       123     1      0.2    1   \n",
       "299   45    1   3     110   264    0        1       132     0      1.2    1   \n",
       "300   68    1   0     144   193    1        1       141     0      3.4    1   \n",
       "301   57    1   0     130   131    0        1       115     1      1.2    1   \n",
       "302   57    0   1     130   236    0        0       174     0      0.0    1   \n",
       "\n",
       "     caa  thall  output  \n",
       "0      0      1       1  \n",
       "1      0      2       1  \n",
       "2      0      2       1  \n",
       "3      0      2       1  \n",
       "4      0      2       1  \n",
       "..   ...    ...     ...  \n",
       "298    0      3       0  \n",
       "299    0      3       0  \n",
       "300    2      3       0  \n",
       "301    1      3       0  \n",
       "302    1      2       0  \n",
       "\n",
       "[303 rows x 14 columns]"
      ]
     },
     "execution_count": 2,
     "metadata": {},
     "output_type": "execute_result"
    }
   ],
   "source": [
    "data = '../Data/heart.csv'\n",
    "df = pd.read_csv(data)\n",
    "df"
   ]
  },
  {
   "cell_type": "code",
   "execution_count": 3,
   "metadata": {},
   "outputs": [
    {
     "data": {
      "text/plain": [
       "age           int64\n",
       "sex           int64\n",
       "cp            int64\n",
       "trtbps        int64\n",
       "chol          int64\n",
       "fbs           int64\n",
       "restecg       int64\n",
       "thalachh      int64\n",
       "exng          int64\n",
       "oldpeak     float64\n",
       "slp           int64\n",
       "caa           int64\n",
       "thall         int64\n",
       "output        int64\n",
       "dtype: object"
      ]
     },
     "execution_count": 3,
     "metadata": {},
     "output_type": "execute_result"
    }
   ],
   "source": [
    "df.dtypes"
   ]
  },
  {
   "cell_type": "code",
   "execution_count": 4,
   "metadata": {},
   "outputs": [
    {
     "data": {
      "text/html": [
       "<div>\n",
       "<style scoped>\n",
       "    .dataframe tbody tr th:only-of-type {\n",
       "        vertical-align: middle;\n",
       "    }\n",
       "\n",
       "    .dataframe tbody tr th {\n",
       "        vertical-align: top;\n",
       "    }\n",
       "\n",
       "    .dataframe thead th {\n",
       "        text-align: right;\n",
       "    }\n",
       "</style>\n",
       "<table border=\"1\" class=\"dataframe\">\n",
       "  <thead>\n",
       "    <tr style=\"text-align: right;\">\n",
       "      <th></th>\n",
       "      <th>age</th>\n",
       "      <th>sex</th>\n",
       "      <th>cp</th>\n",
       "      <th>trtbps</th>\n",
       "      <th>chol</th>\n",
       "      <th>fbs</th>\n",
       "      <th>restecg</th>\n",
       "      <th>thalachh</th>\n",
       "      <th>exng</th>\n",
       "      <th>oldpeak</th>\n",
       "      <th>slp</th>\n",
       "      <th>caa</th>\n",
       "      <th>thall</th>\n",
       "      <th>output</th>\n",
       "    </tr>\n",
       "  </thead>\n",
       "  <tbody>\n",
       "    <tr>\n",
       "      <th>count</th>\n",
       "      <td>303.000</td>\n",
       "      <td>303.000</td>\n",
       "      <td>303.000</td>\n",
       "      <td>303.000</td>\n",
       "      <td>303.000</td>\n",
       "      <td>303.000</td>\n",
       "      <td>303.000</td>\n",
       "      <td>303.000</td>\n",
       "      <td>303.000</td>\n",
       "      <td>303.000</td>\n",
       "      <td>303.000</td>\n",
       "      <td>303.000</td>\n",
       "      <td>303.000</td>\n",
       "      <td>303.000</td>\n",
       "    </tr>\n",
       "    <tr>\n",
       "      <th>mean</th>\n",
       "      <td>54.366</td>\n",
       "      <td>0.683</td>\n",
       "      <td>0.967</td>\n",
       "      <td>131.624</td>\n",
       "      <td>246.264</td>\n",
       "      <td>0.149</td>\n",
       "      <td>0.528</td>\n",
       "      <td>149.647</td>\n",
       "      <td>0.327</td>\n",
       "      <td>1.040</td>\n",
       "      <td>1.399</td>\n",
       "      <td>0.729</td>\n",
       "      <td>2.314</td>\n",
       "      <td>0.545</td>\n",
       "    </tr>\n",
       "    <tr>\n",
       "      <th>std</th>\n",
       "      <td>9.082</td>\n",
       "      <td>0.466</td>\n",
       "      <td>1.032</td>\n",
       "      <td>17.538</td>\n",
       "      <td>51.831</td>\n",
       "      <td>0.356</td>\n",
       "      <td>0.526</td>\n",
       "      <td>22.905</td>\n",
       "      <td>0.470</td>\n",
       "      <td>1.161</td>\n",
       "      <td>0.616</td>\n",
       "      <td>1.023</td>\n",
       "      <td>0.612</td>\n",
       "      <td>0.499</td>\n",
       "    </tr>\n",
       "    <tr>\n",
       "      <th>min</th>\n",
       "      <td>29.000</td>\n",
       "      <td>0.000</td>\n",
       "      <td>0.000</td>\n",
       "      <td>94.000</td>\n",
       "      <td>126.000</td>\n",
       "      <td>0.000</td>\n",
       "      <td>0.000</td>\n",
       "      <td>71.000</td>\n",
       "      <td>0.000</td>\n",
       "      <td>0.000</td>\n",
       "      <td>0.000</td>\n",
       "      <td>0.000</td>\n",
       "      <td>0.000</td>\n",
       "      <td>0.000</td>\n",
       "    </tr>\n",
       "    <tr>\n",
       "      <th>25%</th>\n",
       "      <td>47.500</td>\n",
       "      <td>0.000</td>\n",
       "      <td>0.000</td>\n",
       "      <td>120.000</td>\n",
       "      <td>211.000</td>\n",
       "      <td>0.000</td>\n",
       "      <td>0.000</td>\n",
       "      <td>133.500</td>\n",
       "      <td>0.000</td>\n",
       "      <td>0.000</td>\n",
       "      <td>1.000</td>\n",
       "      <td>0.000</td>\n",
       "      <td>2.000</td>\n",
       "      <td>0.000</td>\n",
       "    </tr>\n",
       "    <tr>\n",
       "      <th>50%</th>\n",
       "      <td>55.000</td>\n",
       "      <td>1.000</td>\n",
       "      <td>1.000</td>\n",
       "      <td>130.000</td>\n",
       "      <td>240.000</td>\n",
       "      <td>0.000</td>\n",
       "      <td>1.000</td>\n",
       "      <td>153.000</td>\n",
       "      <td>0.000</td>\n",
       "      <td>0.800</td>\n",
       "      <td>1.000</td>\n",
       "      <td>0.000</td>\n",
       "      <td>2.000</td>\n",
       "      <td>1.000</td>\n",
       "    </tr>\n",
       "    <tr>\n",
       "      <th>75%</th>\n",
       "      <td>61.000</td>\n",
       "      <td>1.000</td>\n",
       "      <td>2.000</td>\n",
       "      <td>140.000</td>\n",
       "      <td>274.500</td>\n",
       "      <td>0.000</td>\n",
       "      <td>1.000</td>\n",
       "      <td>166.000</td>\n",
       "      <td>1.000</td>\n",
       "      <td>1.600</td>\n",
       "      <td>2.000</td>\n",
       "      <td>1.000</td>\n",
       "      <td>3.000</td>\n",
       "      <td>1.000</td>\n",
       "    </tr>\n",
       "    <tr>\n",
       "      <th>max</th>\n",
       "      <td>77.000</td>\n",
       "      <td>1.000</td>\n",
       "      <td>3.000</td>\n",
       "      <td>200.000</td>\n",
       "      <td>564.000</td>\n",
       "      <td>1.000</td>\n",
       "      <td>2.000</td>\n",
       "      <td>202.000</td>\n",
       "      <td>1.000</td>\n",
       "      <td>6.200</td>\n",
       "      <td>2.000</td>\n",
       "      <td>4.000</td>\n",
       "      <td>3.000</td>\n",
       "      <td>1.000</td>\n",
       "    </tr>\n",
       "  </tbody>\n",
       "</table>\n",
       "</div>"
      ],
      "text/plain": [
       "           age      sex       cp   trtbps     chol      fbs  restecg  \\\n",
       "count  303.000  303.000  303.000  303.000  303.000  303.000  303.000   \n",
       "mean    54.366    0.683    0.967  131.624  246.264    0.149    0.528   \n",
       "std      9.082    0.466    1.032   17.538   51.831    0.356    0.526   \n",
       "min     29.000    0.000    0.000   94.000  126.000    0.000    0.000   \n",
       "25%     47.500    0.000    0.000  120.000  211.000    0.000    0.000   \n",
       "50%     55.000    1.000    1.000  130.000  240.000    0.000    1.000   \n",
       "75%     61.000    1.000    2.000  140.000  274.500    0.000    1.000   \n",
       "max     77.000    1.000    3.000  200.000  564.000    1.000    2.000   \n",
       "\n",
       "       thalachh     exng  oldpeak      slp      caa    thall   output  \n",
       "count   303.000  303.000  303.000  303.000  303.000  303.000  303.000  \n",
       "mean    149.647    0.327    1.040    1.399    0.729    2.314    0.545  \n",
       "std      22.905    0.470    1.161    0.616    1.023    0.612    0.499  \n",
       "min      71.000    0.000    0.000    0.000    0.000    0.000    0.000  \n",
       "25%     133.500    0.000    0.000    1.000    0.000    2.000    0.000  \n",
       "50%     153.000    0.000    0.800    1.000    0.000    2.000    1.000  \n",
       "75%     166.000    1.000    1.600    2.000    1.000    3.000    1.000  \n",
       "max     202.000    1.000    6.200    2.000    4.000    3.000    1.000  "
      ]
     },
     "execution_count": 4,
     "metadata": {},
     "output_type": "execute_result"
    }
   ],
   "source": [
    "round(df.describe(), 3)"
   ]
  },
  {
   "cell_type": "code",
   "execution_count": 5,
   "metadata": {},
   "outputs": [
    {
     "data": {
      "text/plain": [
       "age          41\n",
       "sex           2\n",
       "cp            4\n",
       "trtbps       49\n",
       "chol        152\n",
       "fbs           2\n",
       "restecg       3\n",
       "thalachh     91\n",
       "exng          2\n",
       "oldpeak      40\n",
       "slp           3\n",
       "caa           5\n",
       "thall         4\n",
       "output        2\n",
       "dtype: int64"
      ]
     },
     "execution_count": 5,
     "metadata": {},
     "output_type": "execute_result"
    }
   ],
   "source": [
    "# number of unique values\n",
    "df.nunique()"
   ]
  },
  {
   "cell_type": "code",
   "execution_count": 6,
   "metadata": {},
   "outputs": [
    {
     "data": {
      "text/plain": [
       "age         0\n",
       "sex         0\n",
       "cp          0\n",
       "trtbps      0\n",
       "chol        0\n",
       "fbs         0\n",
       "restecg     0\n",
       "thalachh    0\n",
       "exng        0\n",
       "oldpeak     0\n",
       "slp         0\n",
       "caa         0\n",
       "thall       0\n",
       "output      0\n",
       "dtype: int64"
      ]
     },
     "execution_count": 6,
     "metadata": {},
     "output_type": "execute_result"
    }
   ],
   "source": [
    "# check null values\n",
    "df.isnull().sum()"
   ]
  },
  {
   "cell_type": "code",
   "execution_count": 7,
   "metadata": {},
   "outputs": [
    {
     "data": {
      "text/plain": [
       "0"
      ]
     },
     "execution_count": 7,
     "metadata": {},
     "output_type": "execute_result"
    }
   ],
   "source": [
    "# There is one duplicate record --> remove this\n",
    "df.duplicated().sum()\n",
    "# Output: 1\n",
    "df = df.drop_duplicates()\n",
    "df.duplicated().sum()"
   ]
  },
  {
   "cell_type": "markdown",
   "metadata": {},
   "source": [
    "## EDA, feature importance analysis"
   ]
  },
  {
   "cell_type": "markdown",
   "metadata": {},
   "source": [
    "#### Target variable analysis"
   ]
  },
  {
   "cell_type": "code",
   "execution_count": 8,
   "metadata": {},
   "outputs": [
    {
     "data": {
      "text/plain": [
       "<Axes: xlabel='output', ylabel='Count'>"
      ]
     },
     "execution_count": 8,
     "metadata": {},
     "output_type": "execute_result"
    },
    {
     "data": {
      "image/png": "[encoded data removed]",
      "text/plain": [
       "<Figure size 640x480 with 1 Axes>"
      ]
     },
     "metadata": {},
     "output_type": "display_data"
    }
   ],
   "source": [
    "sns.histplot(df.output)"
   ]
  },
  {
   "cell_type": "code",
   "execution_count": 9,
   "metadata": {},
   "outputs": [
    {
     "data": {
      "text/plain": [
       "0.543"
      ]
     },
     "execution_count": 9,
     "metadata": {},
     "output_type": "execute_result"
    }
   ],
   "source": [
    "round(df.output.mean(), 3)"
   ]
  },
  {
   "cell_type": "markdown",
   "metadata": {},
   "source": [
    "### Feature Importance"
   ]
  },
  {
   "cell_type": "code",
   "execution_count": 10,
   "metadata": {},
   "outputs": [
    {
     "data": {
      "text/plain": [
       "output      1.000000\n",
       "exng        0.435601\n",
       "cp          0.432080\n",
       "oldpeak     0.429146\n",
       "thalachh    0.419955\n",
       "caa         0.408992\n",
       "slp         0.343940\n",
       "thall       0.343101\n",
       "sex         0.283609\n",
       "age         0.221476\n",
       "trtbps      0.146269\n",
       "restecg     0.134874\n",
       "chol        0.081437\n",
       "fbs         0.026826\n",
       "dtype: float64"
      ]
     },
     "execution_count": 10,
     "metadata": {},
     "output_type": "execute_result"
    }
   ],
   "source": [
    "# Correlation\n",
    "corr = df.corrwith(df.output)\n",
    "abs(corr).sort_values(ascending=False)\n",
    "#(corr).sort_values(ascending=False)"
   ]
  },
  {
   "cell_type": "markdown",
   "metadata": {},
   "source": [
    "--> 'chol' and 'fbs' seems to be not as important as the others are..."
   ]
  },
  {
   "cell_type": "code",
   "execution_count": 11,
   "metadata": {},
   "outputs": [
    {
     "data": {
      "text/plain": [
       "<Axes: >"
      ]
     },
     "execution_count": 11,
     "metadata": {},
     "output_type": "execute_result"
    },
    {
     "data": {
      "image/png": "[encoded data removed]",
      "text/plain": [
       "<Figure size 1100x1100 with 2 Axes>"
      ]
     },
     "metadata": {},
     "output_type": "display_data"
    }
   ],
   "source": [
    "plt.figure(figsize=(11,11))\n",
    "sns.heatmap(abs(df.corr()),fmt='.2f', annot=True)"
   ]
  },
  {
   "cell_type": "code",
   "execution_count": 12,
   "metadata": {},
   "outputs": [],
   "source": [
    "categorical = ['sex', 'cp', 'fbs', 'restecg', 'exng', 'slp', 'thall']\n",
    "numerical = ['age', 'trtbps', 'chol', 'thalachh', 'oldpeak', 'caa']"
   ]
  },
  {
   "cell_type": "code",
   "execution_count": 13,
   "metadata": {},
   "outputs": [
    {
     "data": {
      "text/plain": [
       "sex        2\n",
       "cp         4\n",
       "fbs        2\n",
       "restecg    3\n",
       "exng       2\n",
       "slp        3\n",
       "thall      4\n",
       "dtype: int64"
      ]
     },
     "execution_count": 13,
     "metadata": {},
     "output_type": "execute_result"
    }
   ],
   "source": [
    "df[categorical].nunique()"
   ]
  },
  {
   "cell_type": "code",
   "execution_count": 14,
   "metadata": {},
   "outputs": [
    {
     "data": {
      "text/plain": [
       "0.44660194174757284"
      ]
     },
     "execution_count": 14,
     "metadata": {},
     "output_type": "execute_result"
    }
   ],
   "source": [
    "female_mean = df[df.sex == 0].output.mean()\n",
    "female_mean\n",
    "# Output: 0.75\n",
    "male_mean = df[df.sex == 1].output.mean()\n",
    "male_mean\n",
    "# Output: 0.45"
   ]
  },
  {
   "cell_type": "markdown",
   "metadata": {},
   "source": [
    "## Data splitting"
   ]
  },
  {
   "cell_type": "code",
   "execution_count": 15,
   "metadata": {},
   "outputs": [],
   "source": [
    "from sklearn.model_selection import train_test_split\n",
    "\n",
    "df_copy = df.copy()\n",
    "df_copy = df_copy.sample(frac=1)\n",
    "\n",
    "df_full_train, df_test = train_test_split(df_copy, test_size=0.2, random_state=1)\n",
    "df_train, df_val = train_test_split(df_full_train, test_size=0.25, random_state=1)\n",
    "\n",
    "y_train = (df_train.output).values\n",
    "y_val = (df_val.output).values\n",
    "\n",
    "del df_train['output']\n",
    "del df_val['output']\n"
   ]
  },
  {
   "cell_type": "code",
   "execution_count": 16,
   "metadata": {},
   "outputs": [],
   "source": [
    "from sklearn.feature_extraction import DictVectorizer\n",
    "\n",
    "dv = DictVectorizer(sparse=True)\n",
    "\n",
    "categorical = ['sex', 'cp', 'fbs', 'restecg', 'exng', 'slp', 'thall']\n",
    "numerical = ['age', 'trtbps', 'chol', 'thalachh', 'oldpeak', 'caa']\n",
    "\n",
    "#categorical = ['sex', 'cp', 'restecg', 'exng', 'slp', 'thall']\n",
    "#numerical = ['age', 'trtbps', 'thalachh', 'oldpeak', 'caa']"
   ]
  },
  {
   "cell_type": "markdown",
   "metadata": {},
   "source": [
    "## Training"
   ]
  },
  {
   "cell_type": "markdown",
   "metadata": {},
   "source": [
    "### Logistic Regression"
   ]
  },
  {
   "cell_type": "code",
   "execution_count": 17,
   "metadata": {},
   "outputs": [
    {
     "data": {
      "text/plain": [
       "array(['age', 'caa', 'chol', 'cp', 'exng', 'fbs', 'oldpeak', 'restecg',\n",
       "       'sex', 'slp', 'thalachh', 'thall', 'trtbps'], dtype=object)"
      ]
     },
     "execution_count": 17,
     "metadata": {},
     "output_type": "execute_result"
    }
   ],
   "source": [
    "train_dict = df_train[categorical + numerical].to_dict(orient='records')\n",
    "X_train = dv.fit_transform(train_dict)\n",
    "\n",
    "dv.get_feature_names_out()"
   ]
  },
  {
   "cell_type": "code",
   "execution_count": 34,
   "metadata": {},
   "outputs": [
    {
     "data": {
      "text/plain": [
       "array([0.6431194 , 0.28699345, 0.15190832, 0.04521268, 0.6871288 ,\n",
       "       0.385755  , 0.77875644, 0.9323919 , 0.78702254, 0.98656979,\n",
       "       0.26981472, 0.26868081, 0.37262307, 0.73021849, 0.86965896,\n",
       "       0.91340634, 0.90237771, 0.12987563, 0.02027259, 0.02058531,\n",
       "       0.48434626, 0.94362747, 0.03977903, 0.6294972 , 0.07511782,\n",
       "       0.03008493, 0.98330937, 0.80641933, 0.92768781, 0.16982169,\n",
       "       0.83937962, 0.92373238, 0.20018206, 0.81232295, 0.3510785 ,\n",
       "       0.7564227 , 0.09247464, 0.5924709 , 0.11610014, 0.9527704 ,\n",
       "       0.62989684, 0.83657498, 0.91259354, 0.03202908, 0.42996454,\n",
       "       0.17110623, 0.80382622, 0.96990679, 0.85998596, 0.92459197,\n",
       "       0.81969484, 0.98251958, 0.76372206, 0.02017086, 0.01727975,\n",
       "       0.48214408, 0.89671723, 0.05115406, 0.69373316, 0.64875263,\n",
       "       0.9539776 ])"
      ]
     },
     "execution_count": 34,
     "metadata": {},
     "output_type": "execute_result"
    }
   ],
   "source": [
    "from sklearn.linear_model import LogisticRegression\n",
    "\n",
    "LogisticRegression_model_1 = LogisticRegression(solver='liblinear', random_state=1)\n",
    "LogisticRegression_model_1.fit(X_train,y_train)\n",
    "\n",
    "val_dict = df_val[categorical + numerical].to_dict(orient='records')\n",
    "X_val = dv.transform(val_dict)\n",
    "\n",
    "y_pred = LogisticRegression_model_1.predict_proba(X_val)[:, 1]\n",
    "y_pred"
   ]
  },
  {
   "cell_type": "code",
   "execution_count": 55,
   "metadata": {},
   "outputs": [
    {
     "name": "stdout",
     "output_type": "stream",
     "text": [
      "acc:   0.86885\n",
      "roc:   0.9011\n"
     ]
    }
   ],
   "source": [
    "from sklearn.metrics import accuracy_score\n",
    "from sklearn.metrics import roc_auc_score\n",
    "\n",
    "# Performance of LogisticRegression_model_1:\n",
    "\n",
    "score = y_pred >= 0.5\n",
    "acc_LogisticRegression_model_1 = round(accuracy_score(y_val, score), 5)\n",
    "print(\"acc:  \",acc_LogisticRegression_model_1)\n",
    "# Output: 0.8688524590163934\n",
    "\n",
    "#roc_auc_score(y_val, y_pred)\n",
    "roc_LogisticRegression_model_1 = round(roc_auc_score(y_val, y_pred), 5)\n",
    "print(\"roc:  \",roc_LogisticRegression_model_1)\n",
    "# Output: 0.901098901098901"
   ]
  },
  {
   "cell_type": "code",
   "execution_count": 37,
   "metadata": {},
   "outputs": [
    {
     "data": {
      "text/plain": [
       "[<matplotlib.lines.Line2D at 0x165db07f0>]"
      ]
     },
     "execution_count": 37,
     "metadata": {},
     "output_type": "execute_result"
    },
    {
     "data": {
      "image/png": "[encoded data removed]",
      "text/plain": [
       "<Figure size 640x480 with 1 Axes>"
      ]
     },
     "metadata": {},
     "output_type": "display_data"
    }
   ],
   "source": [
    "thresholds = np.linspace(0, 1, 21)\n",
    "accuricies = []\n",
    "\n",
    "for t in thresholds:\n",
    "    acc = accuracy_score(y_val, y_pred >= t)\n",
    "    accuricies.append(acc)\n",
    "\n",
    "plt.plot(thresholds, accuricies)"
   ]
  },
  {
   "cell_type": "code",
   "execution_count": 38,
   "metadata": {},
   "outputs": [
    {
     "data": {
      "text/plain": [
       "[<matplotlib.lines.Line2D at 0x165e23460>]"
      ]
     },
     "execution_count": 38,
     "metadata": {},
     "output_type": "execute_result"
    },
    {
     "data": {
      "image/png": "[encoded data removed]",
      "text/plain": [
       "<Figure size 640x480 with 1 Axes>"
      ]
     },
     "metadata": {},
     "output_type": "display_data"
    }
   ],
   "source": [
    "thresholds = np.linspace(0, 1, 21)\n",
    "roc_auc_scores = []\n",
    "\n",
    "for t in thresholds:\n",
    "    score = roc_auc_score(y_val, y_pred >= t)\n",
    "    roc_auc_scores.append(score)\n",
    "\n",
    "plt.plot(thresholds, roc_auc_scores)"
   ]
  },
  {
   "cell_type": "code",
   "execution_count": 56,
   "metadata": {},
   "outputs": [
    {
     "name": "stdout",
     "output_type": "stream",
     "text": [
      "acc:   0.90164\n",
      "roc:   0.9011\n"
     ]
    }
   ],
   "source": [
    "# setting threshold to 0.45 should be even a bit better than 0.5\n",
    "\n",
    "# Performance of LogisticRegression_model_1:\n",
    "score = y_pred >= 0.45\n",
    "#accuracy_score(y_val, score)\n",
    "acc_LogisticRegression_model_1 = round(accuracy_score(y_val, score), 5)\n",
    "print(\"acc:  \",acc_LogisticRegression_model_1)\n",
    "# Output: 0.9016393442622951\n",
    "\n",
    "roc_auc_score(y_val, y_pred)\n",
    "roc_LogisticRegression_model_1 = round(roc_auc_score(y_val, y_pred), 5)\n",
    "print(\"roc:  \",roc_LogisticRegression_model_1)\n",
    "# Output: 0.901098901098901"
   ]
  },
  {
   "cell_type": "markdown",
   "metadata": {},
   "source": [
    "#### Logistic Regression - Different model (smaller)\n",
    "- I've seen that 'chol' and 'fbs' seems to be not as important as the others, so let's try a smaller model without both."
   ]
  },
  {
   "cell_type": "code",
   "execution_count": 59,
   "metadata": {},
   "outputs": [
    {
     "name": "stdout",
     "output_type": "stream",
     "text": [
      "acc:   0.90164\n",
      "roc:   0.90769\n"
     ]
    }
   ],
   "source": [
    "categorical = ['sex', 'cp', 'restecg', 'exng', 'slp', 'thall']\n",
    "numerical = ['age', 'trtbps', 'thalachh', 'oldpeak', 'caa']\n",
    "\n",
    "dv = DictVectorizer(sparse=True)\n",
    "\n",
    "train_dict = df_train[categorical + numerical].to_dict(orient='records')\n",
    "X_train = dv.fit_transform(train_dict)\n",
    "\n",
    "LogisticRegression_model_2 = LogisticRegression(solver='liblinear', random_state=1)\n",
    "LogisticRegression_model_2.fit(X_train,y_train)\n",
    "\n",
    "val_dict = df_val[categorical + numerical].to_dict(orient='records')\n",
    "X_val = dv.transform(val_dict)\n",
    "\n",
    "y_pred = LogisticRegression_model_2.predict_proba(X_val)[:, 1]\n",
    "\n",
    "\n",
    "# Performance of LogisticRegression_model_2:\n",
    "\n",
    "score = y_pred >= 0.5\n",
    "#accuracy_score(y_val, score)\n",
    "acc_LogisticRegression_model_2 = round(accuracy_score(y_val, score), 5)\n",
    "print(\"acc:  \",acc_LogisticRegression_model_2)\n",
    "# Output: 0.9016393442622951\n",
    "\n",
    "#roc_auc_score(y_val, y_pred)\n",
    "roc_LogisticRegression_model_2 = round(roc_auc_score(y_val, y_pred), 5)\n",
    "print(\"roc:  \",roc_LogisticRegression_model_2)\n",
    "# Output: 0.9076923076923077"
   ]
  },
  {
   "cell_type": "code",
   "execution_count": 60,
   "metadata": {},
   "outputs": [
    {
     "data": {
      "text/plain": [
       "[<matplotlib.lines.Line2D at 0x165d58a60>]"
      ]
     },
     "execution_count": 60,
     "metadata": {},
     "output_type": "execute_result"
    },
    {
     "data": {
      "image/png": "[encoded data removed]",
      "text/plain": [
       "<Figure size 640x480 with 1 Axes>"
      ]
     },
     "metadata": {},
     "output_type": "display_data"
    }
   ],
   "source": [
    "thresholds = np.linspace(0, 1, 21)\n",
    "accuricies = []\n",
    "\n",
    "for t in thresholds:\n",
    "    acc = accuracy_score(y_val, y_pred >= t)\n",
    "    accuricies.append(acc)\n",
    "\n",
    "plt.plot(thresholds, accuricies)"
   ]
  },
  {
   "cell_type": "markdown",
   "metadata": {},
   "source": [
    "#### Logistic Regression - Different model (only 9 features)\n",
    "- There are two more features with a lower importance, so let's try a smaller model without both."
   ]
  },
  {
   "cell_type": "code",
   "execution_count": 62,
   "metadata": {},
   "outputs": [
    {
     "name": "stdout",
     "output_type": "stream",
     "text": [
      "acc:   0.86885\n",
      "roc:   0.9011\n"
     ]
    }
   ],
   "source": [
    "categorical = ['sex', 'cp', 'exng', 'slp', 'thall']\n",
    "numerical = ['age', 'thalachh', 'oldpeak', 'caa']\n",
    "\n",
    "dv = DictVectorizer(sparse=True)\n",
    "\n",
    "train_dict = df_train[categorical + numerical].to_dict(orient='records')\n",
    "X_train = dv.fit_transform(train_dict)\n",
    "\n",
    "LogisticRegression_model_3 = LogisticRegression(solver='liblinear', random_state=1)\n",
    "LogisticRegression_model_3.fit(X_train,y_train)\n",
    "\n",
    "val_dict = df_val[categorical + numerical].to_dict(orient='records')\n",
    "X_val = dv.transform(val_dict)\n",
    "\n",
    "y_pred = LogisticRegression_model_3.predict_proba(X_val)[:, 1]\n",
    "\n",
    "# Performance of LogisticRegression_model_3:\n",
    "\n",
    "score = y_pred >= 0.5\n",
    "#accuracy_score(y_val, score)\n",
    "acc_LogisticRegression_model_3 = round(accuracy_score(y_val, score), 5)\n",
    "print(\"acc:  \",acc_LogisticRegression_model_3)\n",
    "# Output: 0.8688524590163934\n",
    "\n",
    "#roc_auc_score(y_val, y_pred)\n",
    "roc_LogisticRegression_model_3 = round(roc_auc_score(y_val, y_pred), 5)\n",
    "print(\"roc:  \",roc_LogisticRegression_model_3)\n",
    "# Output: 0.901098901098901"
   ]
  },
  {
   "cell_type": "code",
   "execution_count": 63,
   "metadata": {},
   "outputs": [
    {
     "data": {
      "text/plain": [
       "[<matplotlib.lines.Line2D at 0x165f605e0>]"
      ]
     },
     "execution_count": 63,
     "metadata": {},
     "output_type": "execute_result"
    },
    {
     "data": {
      "image/png": "[encoded data removed]",
      "text/plain": [
       "<Figure size 640x480 with 1 Axes>"
      ]
     },
     "metadata": {},
     "output_type": "display_data"
    }
   ],
   "source": [
    "thresholds = np.linspace(0, 1, 21)\n",
    "roc_auc_scores = []\n",
    "\n",
    "for t in thresholds:\n",
    "    score = roc_auc_score(y_val, y_pred >= t)\n",
    "    roc_auc_scores.append(score)\n",
    "\n",
    "plt.plot(thresholds, roc_auc_scores)"
   ]
  },
  {
   "cell_type": "code",
   "execution_count": 64,
   "metadata": {},
   "outputs": [
    {
     "name": "stdout",
     "output_type": "stream",
     "text": [
      "acc:   0.90164\n",
      "roc:   0.9011\n"
     ]
    }
   ],
   "source": [
    "# setting threshold to 0.45 should be slightly better than 0.5\n",
    "score = y_pred >= 0.45\n",
    "#accuracy_score(y_val, score)\n",
    "acc_LogisticRegression_model_3 = round(accuracy_score(y_val, score), 5)\n",
    "print(\"acc:  \",acc_LogisticRegression_model_3)\n",
    "# Output: 0.9016393442622951\n",
    "\n",
    "#roc_auc_score(y_val, y_pred)\n",
    "roc_LogisticRegression_model_3 = round(roc_auc_score(y_val, y_pred), 5)\n",
    "print(\"roc:  \",roc_LogisticRegression_model_3)\n",
    "# Output: 0.901098901098901"
   ]
  },
  {
   "cell_type": "markdown",
   "metadata": {},
   "source": [
    "#### Logistic Regression - Parameter tuning (K-fold cross-validation)\n",
    "I'll go with the second model and do some parameter tuning."
   ]
  },
  {
   "cell_type": "markdown",
   "metadata": {},
   "source": [
    "#### Tuning the C-value"
   ]
  },
  {
   "cell_type": "code",
   "execution_count": 65,
   "metadata": {},
   "outputs": [],
   "source": [
    "from sklearn.model_selection import KFold\n",
    "from sklearn.metrics import roc_auc_score\n",
    "\n",
    "categorical = ['sex', 'cp', 'restecg', 'exng', 'slp', 'thall']\n",
    "numerical = ['age', 'trtbps', 'thalachh', 'oldpeak', 'caa']\n",
    "#categorical = ['sex', 'cp', 'exng', 'slp', 'thall']\n",
    "#numerical = ['age', 'thalachh', 'oldpeak', 'caa']\n",
    "features = categorical + numerical\n",
    "\n",
    "def train(df_train, y_train, C):\n",
    "    train_dict = df_train[features].to_dict(orient='records')\n",
    "    dv = DictVectorizer(sparse=True)\n",
    "    X_train = dv.fit_transform(train_dict)\n",
    "\n",
    "    model = LogisticRegression(solver='liblinear', random_state=1, C=C)\n",
    "    model.fit(X_train,y_train)\n",
    "\n",
    "    return dv, model\n",
    "\n",
    "def predict(df_pred, dv, model):\n",
    "    pred_dict = df_pred[features].to_dict(orient='records')\n",
    "    X_pred = dv.transform(pred_dict)\n",
    "    y_pred = model.predict_proba(X_pred)[:, 1]\n",
    "\n",
    "    return y_pred\n",
    "    "
   ]
  },
  {
   "cell_type": "code",
   "execution_count": 66,
   "metadata": {},
   "outputs": [
    {
     "name": "stdout",
     "output_type": "stream",
     "text": [
      "C=0.001, auc_score=0.748 +- 0.053, accuracy=0.677 +- 0.076\n",
      "C=0.01, auc_score=0.845 +- 0.046, accuracy=0.780 +- 0.076\n",
      "C=0.1, auc_score=0.895 +- 0.031, accuracy=0.838 +- 0.064\n",
      "C=0.4, auc_score=0.901 +- 0.035, accuracy=0.834 +- 0.053\n",
      "C=0.5, auc_score=0.900 +- 0.035, accuracy=0.838 +- 0.047\n",
      "C=0.6, auc_score=0.899 +- 0.035, accuracy=0.838 +- 0.047\n",
      "C=1, auc_score=0.900 +- 0.036, accuracy=0.842 +- 0.054\n",
      "C=5, auc_score=0.903 +- 0.037, accuracy=0.842 +- 0.045\n",
      "C=10, auc_score=0.901 +- 0.039, accuracy=0.838 +- 0.043\n"
     ]
    }
   ],
   "source": [
    "nfolds = 5\n",
    "kfold = KFold(n_splits=nfolds, shuffle=True, random_state=1)\n",
    "\n",
    "for C in [0.001, 0.01, 0.1, 0.4, 0.5, 0.6, 1, 5, 10]:\n",
    "    auc_scores = []\n",
    "    accuracies = []\n",
    "\n",
    "    for train_idx, val_idx in kfold.split(df_full_train):\n",
    "        df_train = df_full_train.iloc[train_idx]\n",
    "        df_val = df_full_train.iloc[val_idx]\n",
    "\n",
    "        y_train = df_train.output.values\n",
    "        y_val = df_val.output.values\n",
    "\n",
    "        dv, model = train(df_train, y_train, C=C)\n",
    "        y_pred = predict(df_val, dv, model)\n",
    "\n",
    "        auc_score = roc_auc_score(y_val, y_pred)\n",
    "        auc_scores.append(auc_score)\n",
    "\n",
    "        score = y_pred >= 0.5\n",
    "        accuracy = accuracy_score(y_val, score)\n",
    "        accuracies.append(accuracy)\n",
    "    \n",
    "    print('C=%s, auc_score=%0.3f +- %0.3f, accuracy=%0.3f +- %0.3f' % (C, np.mean(auc_scores), np.std(auc_scores), np.mean(accuracies), np.std(accuracies)))\n"
   ]
  },
  {
   "cell_type": "markdown",
   "metadata": {},
   "source": [
    "The following configuration seems to be the best:\n",
    "- C=5, auc_score=0.903 +- 0.037, accuracy=0.842 +- 0.045\n",
    "- C=10, auc_score=0.901 +- 0.039, accuracy=0.838 +- 0.043\n",
    "- C=0.4, auc_score=0.901 +- 0.035, accuracy=0.834 +- 0.053\n",
    "- C=0.5, auc_score=0.900 +- 0.035, accuracy=0.838 +- 0.047"
   ]
  },
  {
   "cell_type": "markdown",
   "metadata": {},
   "source": [
    "#### Tuning the number of folds"
   ]
  },
  {
   "cell_type": "code",
   "execution_count": 67,
   "metadata": {},
   "outputs": [
    {
     "name": "stdout",
     "output_type": "stream",
     "text": [
      "C=0.001, auc_score=0.754 +- 0.119, accuracy=0.685 +- 0.099\n",
      "C=0.01, auc_score=0.852 +- 0.085, accuracy=0.768 +- 0.077\n",
      "C=0.1, auc_score=0.906 +- 0.049, accuracy=0.838 +- 0.069\n",
      "C=0.4, auc_score=0.911 +- 0.043, accuracy=0.842 +- 0.062\n",
      "C=0.5, auc_score=0.913 +- 0.041, accuracy=0.838 +- 0.061\n",
      "C=0.6, auc_score=0.913 +- 0.041, accuracy=0.846 +- 0.059\n",
      "C=1, auc_score=0.912 +- 0.041, accuracy=0.850 +- 0.063\n",
      "C=5, auc_score=0.910 +- 0.042, accuracy=0.842 +- 0.059\n",
      "C=10, auc_score=0.910 +- 0.043, accuracy=0.838 +- 0.058\n"
     ]
    }
   ],
   "source": [
    "nfolds = 10\n",
    "kfold = KFold(n_splits=nfolds, shuffle=True, random_state=1)\n",
    "\n",
    "for C in [0.001, 0.01, 0.1, 0.4, 0.5, 0.6, 1, 5, 10]:\n",
    "    auc_scores = []\n",
    "    accuracies = []\n",
    "\n",
    "    for train_idx, val_idx in kfold.split(df_full_train):\n",
    "        df_train = df_full_train.iloc[train_idx]\n",
    "        df_val = df_full_train.iloc[val_idx]\n",
    "\n",
    "        y_train = df_train.output.values\n",
    "        y_val = df_val.output.values\n",
    "\n",
    "        dv, model = train(df_train, y_train, C=C)\n",
    "        y_pred = predict(df_val, dv, model)\n",
    "\n",
    "        auc_score = roc_auc_score(y_val, y_pred)\n",
    "        auc_scores.append(auc_score)\n",
    "\n",
    "        score = y_pred >= 0.5\n",
    "        accuracy = accuracy_score(y_val, score)\n",
    "        accuracies.append(accuracy)\n",
    "    \n",
    "    print('C=%s, auc_score=%0.3f +- %0.3f, accuracy=%0.3f +- %0.3f' % (C, np.mean(auc_scores), np.std(auc_scores), np.mean(accuracies), np.std(accuracies)))"
   ]
  },
  {
   "cell_type": "code",
   "execution_count": 68,
   "metadata": {},
   "outputs": [
    {
     "name": "stdout",
     "output_type": "stream",
     "text": [
      "nfold=2, C=0.001, auc_score=0.745 +- 0.043, accuracy=0.676 +- 0.043\n",
      "nfold=2, C=0.01, auc_score=0.824 +- 0.050, accuracy=0.755 +- 0.055\n",
      "nfold=2, C=0.1, auc_score=0.894 +- 0.027, accuracy=0.826 +- 0.042\n",
      "nfold=2, C=0.5, auc_score=0.904 +- 0.016, accuracy=0.826 +- 0.034\n",
      "nfold=2, C=1, auc_score=0.903 +- 0.013, accuracy=0.821 +- 0.038\n",
      "nfold=2, C=5, auc_score=0.904 +- 0.011, accuracy=0.821 +- 0.038\n",
      "nfold=2, C=10, auc_score=0.904 +- 0.011, accuracy=0.826 +- 0.034\n",
      "nfold=3, C=0.001, auc_score=0.750 +- 0.069, accuracy=0.668 +- 0.072\n",
      "nfold=3, C=0.01, auc_score=0.836 +- 0.065, accuracy=0.772 +- 0.066\n",
      "nfold=3, C=0.1, auc_score=0.900 +- 0.029, accuracy=0.830 +- 0.083\n",
      "nfold=3, C=0.5, auc_score=0.905 +- 0.017, accuracy=0.830 +- 0.057\n",
      "nfold=3, C=1, auc_score=0.905 +- 0.016, accuracy=0.834 +- 0.053\n",
      "nfold=3, C=5, auc_score=0.904 +- 0.015, accuracy=0.834 +- 0.051\n",
      "nfold=3, C=10, auc_score=0.904 +- 0.014, accuracy=0.830 +- 0.048\n",
      "nfold=5, C=0.001, auc_score=0.748 +- 0.053, accuracy=0.677 +- 0.076\n",
      "nfold=5, C=0.01, auc_score=0.845 +- 0.046, accuracy=0.780 +- 0.076\n",
      "nfold=5, C=0.1, auc_score=0.895 +- 0.031, accuracy=0.838 +- 0.064\n",
      "nfold=5, C=0.5, auc_score=0.900 +- 0.035, accuracy=0.838 +- 0.047\n",
      "nfold=5, C=1, auc_score=0.900 +- 0.036, accuracy=0.842 +- 0.054\n",
      "nfold=5, C=5, auc_score=0.903 +- 0.037, accuracy=0.842 +- 0.045\n",
      "nfold=5, C=10, auc_score=0.901 +- 0.039, accuracy=0.838 +- 0.043\n",
      "nfold=7, C=0.001, auc_score=0.745 +- 0.090, accuracy=0.676 +- 0.057\n",
      "nfold=7, C=0.01, auc_score=0.846 +- 0.081, accuracy=0.776 +- 0.061\n",
      "nfold=7, C=0.1, auc_score=0.898 +- 0.042, accuracy=0.833 +- 0.067\n",
      "nfold=7, C=0.5, auc_score=0.906 +- 0.042, accuracy=0.833 +- 0.055\n",
      "nfold=7, C=1, auc_score=0.904 +- 0.044, accuracy=0.834 +- 0.045\n",
      "nfold=7, C=5, auc_score=0.901 +- 0.044, accuracy=0.838 +- 0.042\n",
      "nfold=7, C=10, auc_score=0.901 +- 0.044, accuracy=0.838 +- 0.042\n",
      "nfold=9, C=0.001, auc_score=0.753 +- 0.108, accuracy=0.672 +- 0.086\n",
      "nfold=9, C=0.01, auc_score=0.855 +- 0.083, accuracy=0.775 +- 0.083\n",
      "nfold=9, C=0.1, auc_score=0.905 +- 0.054, accuracy=0.837 +- 0.069\n",
      "nfold=9, C=0.5, auc_score=0.911 +- 0.042, accuracy=0.838 +- 0.055\n",
      "nfold=9, C=1, auc_score=0.910 +- 0.042, accuracy=0.838 +- 0.045\n",
      "nfold=9, C=5, auc_score=0.908 +- 0.041, accuracy=0.838 +- 0.045\n",
      "nfold=9, C=10, auc_score=0.907 +- 0.042, accuracy=0.830 +- 0.051\n",
      "nfold=10, C=0.001, auc_score=0.754 +- 0.119, accuracy=0.685 +- 0.099\n",
      "nfold=10, C=0.01, auc_score=0.852 +- 0.085, accuracy=0.768 +- 0.077\n",
      "nfold=10, C=0.1, auc_score=0.906 +- 0.049, accuracy=0.838 +- 0.069\n",
      "nfold=10, C=0.5, auc_score=0.913 +- 0.041, accuracy=0.838 +- 0.061\n",
      "nfold=10, C=1, auc_score=0.912 +- 0.041, accuracy=0.850 +- 0.063\n",
      "nfold=10, C=5, auc_score=0.910 +- 0.042, accuracy=0.842 +- 0.059\n",
      "nfold=10, C=10, auc_score=0.910 +- 0.043, accuracy=0.838 +- 0.058\n",
      "nfold=15, C=0.001, auc_score=0.747 +- 0.123, accuracy=0.685 +- 0.121\n",
      "nfold=15, C=0.01, auc_score=0.850 +- 0.096, accuracy=0.760 +- 0.096\n",
      "nfold=15, C=0.1, auc_score=0.895 +- 0.060, accuracy=0.838 +- 0.072\n",
      "nfold=15, C=0.5, auc_score=0.906 +- 0.058, accuracy=0.846 +- 0.060\n",
      "nfold=15, C=1, auc_score=0.905 +- 0.062, accuracy=0.850 +- 0.064\n",
      "nfold=15, C=5, auc_score=0.904 +- 0.065, accuracy=0.834 +- 0.064\n",
      "nfold=15, C=10, auc_score=0.904 +- 0.064, accuracy=0.834 +- 0.064\n",
      "nfold=20, C=0.001, auc_score=0.764 +- 0.146, accuracy=0.673 +- 0.149\n",
      "nfold=20, C=0.01, auc_score=0.851 +- 0.102, accuracy=0.764 +- 0.110\n",
      "nfold=20, C=0.1, auc_score=0.899 +- 0.067, accuracy=0.842 +- 0.083\n",
      "nfold=20, C=0.5, auc_score=0.914 +- 0.061, accuracy=0.842 +- 0.091\n",
      "nfold=20, C=1, auc_score=0.910 +- 0.072, accuracy=0.846 +- 0.096\n",
      "nfold=20, C=5, auc_score=0.910 +- 0.072, accuracy=0.830 +- 0.097\n",
      "nfold=20, C=10, auc_score=0.909 +- 0.072, accuracy=0.830 +- 0.097\n"
     ]
    }
   ],
   "source": [
    "for nfold in [2, 3, 5, 7, 9, 10, 15, 20]:\n",
    "    kfold = KFold(n_splits=nfold, shuffle=True, random_state=1)\n",
    "\n",
    "    for C in [0.001, 0.01, 0.1, 0.5, 1, 5, 10]:\n",
    "        auc_scores = []\n",
    "        accuracies = []\n",
    "\n",
    "        for train_idx, val_idx in kfold.split(df_full_train):\n",
    "            df_train = df_full_train.iloc[train_idx]\n",
    "            df_val = df_full_train.iloc[val_idx]\n",
    "\n",
    "            y_train = df_train.output.values\n",
    "            y_val = df_val.output.values\n",
    "\n",
    "            dv, model = train(df_train, y_train, C=C)\n",
    "            y_pred = predict(df_val, dv, model)\n",
    "\n",
    "            auc_score = roc_auc_score(y_val, y_pred)\n",
    "            auc_scores.append(auc_score)\n",
    "\n",
    "            score = y_pred >= 0.5\n",
    "            accuracy = accuracy_score(y_val, score)\n",
    "            accuracies.append(accuracy)\n",
    "        \n",
    "        print('nfold=%s, C=%s, auc_score=%0.3f +- %0.3f, accuracy=%0.3f +- %0.3f' % (nfold, C, np.mean(auc_scores), np.std(auc_scores), np.mean(accuracies), np.std(accuracies)))"
   ]
  },
  {
   "cell_type": "markdown",
   "metadata": {},
   "source": [
    "Best folds:\n",
    "- nfold=20, C=0.5, auc_score=0.914 +- 0.061, accuracy=0.842 +- 0.091\n",
    "- nfold=10, C=0.5, auc_score=0.913 +- 0.041, accuracy=0.838 +- 0.061\n",
    "- nfold=9, C=0.5, auc_score=0.911 +- 0.042, accuracy=0.838 +- 0.055"
   ]
  },
  {
   "cell_type": "markdown",
   "metadata": {},
   "source": [
    "#### Tuning max_iter"
   ]
  },
  {
   "cell_type": "code",
   "execution_count": 69,
   "metadata": {},
   "outputs": [],
   "source": [
    "def train(df_train, y_train, C, max_iter, n_jobs=-1):\n",
    "    train_dict = df_train[features].to_dict(orient='records')\n",
    "    dv = DictVectorizer(sparse=True)\n",
    "    X_train = dv.fit_transform(train_dict)\n",
    "\n",
    "    model = LogisticRegression(solver='liblinear', random_state=1, C=C, max_iter=max_iter, n_jobs=n_jobs)\n",
    "    model.fit(X_train,y_train)\n",
    "\n",
    "    return dv, model"
   ]
  },
  {
   "cell_type": "code",
   "execution_count": 71,
   "metadata": {},
   "outputs": [
    {
     "name": "stdout",
     "output_type": "stream",
     "text": [
      "max_iter=50, nfold=9, C=0.5, auc_score=0.911 +- 0.042, accuracy=0.838 +- 0.055\n",
      "max_iter=50, nfold=10, C=0.5, auc_score=0.913 +- 0.041, accuracy=0.838 +- 0.061\n",
      "max_iter=50, nfold=20, C=0.5, auc_score=0.914 +- 0.061, accuracy=0.842 +- 0.091\n",
      "max_iter=100, nfold=9, C=0.5, auc_score=0.911 +- 0.042, accuracy=0.838 +- 0.055\n",
      "max_iter=100, nfold=10, C=0.5, auc_score=0.913 +- 0.041, accuracy=0.838 +- 0.061\n",
      "max_iter=100, nfold=20, C=0.5, auc_score=0.914 +- 0.061, accuracy=0.842 +- 0.091\n",
      "max_iter=250, nfold=9, C=0.5, auc_score=0.911 +- 0.042, accuracy=0.838 +- 0.055\n",
      "max_iter=250, nfold=10, C=0.5, auc_score=0.913 +- 0.041, accuracy=0.838 +- 0.061\n",
      "max_iter=250, nfold=20, C=0.5, auc_score=0.914 +- 0.061, accuracy=0.842 +- 0.091\n",
      "max_iter=500, nfold=9, C=0.5, auc_score=0.911 +- 0.042, accuracy=0.838 +- 0.055\n",
      "max_iter=500, nfold=10, C=0.5, auc_score=0.913 +- 0.041, accuracy=0.838 +- 0.061\n",
      "max_iter=500, nfold=20, C=0.5, auc_score=0.914 +- 0.061, accuracy=0.842 +- 0.091\n",
      "max_iter=1000, nfold=9, C=0.5, auc_score=0.911 +- 0.042, accuracy=0.838 +- 0.055\n",
      "max_iter=1000, nfold=10, C=0.5, auc_score=0.913 +- 0.041, accuracy=0.838 +- 0.061\n",
      "max_iter=1000, nfold=20, C=0.5, auc_score=0.914 +- 0.061, accuracy=0.842 +- 0.091\n",
      "max_iter=5000, nfold=9, C=0.5, auc_score=0.911 +- 0.042, accuracy=0.838 +- 0.055\n",
      "max_iter=5000, nfold=10, C=0.5, auc_score=0.913 +- 0.041, accuracy=0.838 +- 0.061\n",
      "max_iter=5000, nfold=20, C=0.5, auc_score=0.914 +- 0.061, accuracy=0.842 +- 0.091\n",
      "max_iter=10000, nfold=9, C=0.5, auc_score=0.911 +- 0.042, accuracy=0.838 +- 0.055\n",
      "max_iter=10000, nfold=10, C=0.5, auc_score=0.913 +- 0.041, accuracy=0.838 +- 0.061\n",
      "max_iter=10000, nfold=20, C=0.5, auc_score=0.914 +- 0.061, accuracy=0.842 +- 0.091\n"
     ]
    }
   ],
   "source": [
    "for max_i in [50, 100, 250, 500, 1000, 5000, 10000]:\n",
    "    for nfold in [9, 10, 20]:\n",
    "        kfold = KFold(n_splits=nfold, shuffle=True, random_state=1)\n",
    "\n",
    "        for C in [0.5]:\n",
    "            auc_scores = []\n",
    "            accuracies = []\n",
    "\n",
    "            for train_idx, val_idx in kfold.split(df_full_train):\n",
    "                df_train = df_full_train.iloc[train_idx]\n",
    "                df_val = df_full_train.iloc[val_idx]\n",
    "\n",
    "                y_train = df_train.output.values\n",
    "                y_val = df_val.output.values\n",
    "\n",
    "                dv, model = train(df_train, y_train, C=C, max_iter=max_i, n_jobs=1)\n",
    "                y_pred = predict(df_val, dv, model)\n",
    "\n",
    "                auc_score = roc_auc_score(y_val, y_pred)\n",
    "                auc_scores.append(auc_score)\n",
    "\n",
    "                score = y_pred >= 0.5\n",
    "                accuracy = accuracy_score(y_val, score)\n",
    "                accuracies.append(accuracy)\n",
    "            \n",
    "            print('max_iter=%s, nfold=%s, C=%s, auc_score=%0.3f +- %0.3f, accuracy=%0.3f +- %0.3f' % (max_i, nfold, C, np.mean(auc_scores), np.std(auc_scores), np.mean(accuracies), np.std(accuracies)))"
   ]
  },
  {
   "cell_type": "code",
   "execution_count": 74,
   "metadata": {},
   "outputs": [
    {
     "name": "stdout",
     "output_type": "stream",
     "text": [
      "max_iter=50, nfold=20, C=0.5, auc_score=0.914 +- 0.061, accuracy=0.842 +- 0.091\n"
     ]
    }
   ],
   "source": [
    "kfold = KFold(n_splits=20, shuffle=True, random_state=1)\n",
    "max_i = 50\n",
    "C = 0.5\n",
    "\n",
    "auc_scores = []\n",
    "accuracies = []\n",
    "\n",
    "for train_idx, val_idx in kfold.split(df_full_train):\n",
    "    df_train = df_full_train.iloc[train_idx]\n",
    "    df_val = df_full_train.iloc[val_idx]\n",
    "\n",
    "    y_train = df_train.output.values\n",
    "    y_val = df_val.output.values\n",
    "\n",
    "    dv, model = train(df_train, y_train, C=C, max_iter=max_i, n_jobs=1)\n",
    "    y_pred = predict(df_val, dv, model)\n",
    "\n",
    "    auc_score = roc_auc_score(y_val, y_pred)\n",
    "    auc_scores.append(auc_score)\n",
    "\n",
    "    score = y_pred >= 0.5\n",
    "    accuracy = accuracy_score(y_val, score)\n",
    "    accuracies.append(accuracy)\n",
    "                \n",
    "print('max_iter=%s, nfold=%s, C=%s, auc_score=%0.3f +- %0.3f, accuracy=%0.3f +- %0.3f' % (max_i, nfold, C, np.mean(auc_scores), np.std(auc_scores), np.mean(accuracies), np.std(accuracies)))        "
   ]
  },
  {
   "cell_type": "markdown",
   "metadata": {},
   "source": [
    "### Decision Tree"
   ]
  },
  {
   "cell_type": "code",
   "execution_count": 75,
   "metadata": {},
   "outputs": [
    {
     "name": "stdout",
     "output_type": "stream",
     "text": [
      "acc:   0.83333\n",
      "roc:   0.85714\n"
     ]
    }
   ],
   "source": [
    "from sklearn.tree import DecisionTreeClassifier\n",
    "\n",
    "categorical = ['sex', 'cp', 'restecg', 'exng', 'slp', 'thall']\n",
    "numerical = ['age', 'trtbps', 'thalachh', 'oldpeak', 'caa']\n",
    "\n",
    "dv = DictVectorizer(sparse=True)\n",
    "\n",
    "train_dict = df_train[categorical + numerical].to_dict(orient='records')\n",
    "X_train = dv.fit_transform(train_dict)\n",
    "\n",
    "val_dict = df_val[categorical + numerical].to_dict(orient='records')\n",
    "X_val = dv.transform(val_dict)\n",
    "\n",
    "dt_1 = DecisionTreeClassifier(random_state=1)\n",
    "dt_1.fit(X_train, y_train)\n",
    "y_pred = dt_1.predict_proba(X_val)[:,1]\n",
    "\n",
    "score = y_pred >= 0.5\n",
    "#accuracy_score(y_val, score)\n",
    "acc_DecisionTree_model_1 = round(accuracy_score(y_val, score), 5)\n",
    "print(\"acc:  \",acc_DecisionTree_model_1)\n",
    "# Output: 0.83333\n",
    "\n",
    "#roc_auc_score(y_val, y_pred)\n",
    "roc_DecisionTree_model_1 = round(roc_auc_score(y_val, y_pred), 5)\n",
    "print(\"roc:  \",roc_DecisionTree_model_1)\n",
    "# Output: 0.85714"
   ]
  },
  {
   "cell_type": "markdown",
   "metadata": {},
   "source": [
    "#### Decision Tree - Tuning"
   ]
  },
  {
   "cell_type": "code",
   "execution_count": 77,
   "metadata": {},
   "outputs": [
    {
     "name": "stdout",
     "output_type": "stream",
     "text": [
      "   1 -> 0.757\n",
      "   2 -> 0.843\n",
      "   3 -> 0.929\n",
      "   4 -> 0.929\n",
      "   5 -> 0.929\n",
      "   6 -> 0.914\n",
      "  10 -> 0.743\n",
      "  15 -> 0.786\n",
      "  20 -> 0.786\n",
      "None -> 0.857\n"
     ]
    }
   ],
   "source": [
    "for depth in [1, 2, 3, 4, 5, 6, 10, 15, 20, None]:\n",
    "    dt_2 = DecisionTreeClassifier(max_depth=depth)\n",
    "\n",
    "    dt_2.fit(X_train, y_train)\n",
    "    y_pred = dt_2.predict_proba(X_val)[:,1]\n",
    "    auc = roc_auc_score(y_val, y_pred)\n",
    "\n",
    "    print('%4s -> %.3f' % (depth, auc))\n"
   ]
  },
  {
   "cell_type": "code",
   "execution_count": 78,
   "metadata": {},
   "outputs": [
    {
     "name": "stdout",
     "output_type": "stream",
     "text": [
      "depth: 3\n",
      "   1 -> 0.929\n",
      "   5 -> 0.929\n",
      "  10 -> 0.929\n",
      "  15 -> 0.929\n",
      "  20 -> 0.871\n",
      "  50 -> 0.757\n",
      " 100 -> 0.757\n",
      "depth: 4\n",
      "   1 -> 0.929\n",
      "   5 -> 0.886\n",
      "  10 -> 0.943\n",
      "  15 -> 0.929\n",
      "  20 -> 0.871\n",
      "  50 -> 0.757\n",
      " 100 -> 0.757\n",
      "depth: 5\n",
      "   1 -> 0.871\n",
      "   5 -> 0.886\n",
      "  10 -> 0.943\n",
      "  15 -> 0.929\n",
      "  20 -> 0.871\n",
      "  50 -> 0.757\n",
      " 100 -> 0.757\n"
     ]
    }
   ],
   "source": [
    "for depth in [3, 4, 5]:\n",
    "    print('depth: %s' % depth)\n",
    "    for min_samples in [1, 5, 10, 15, 20, 50, 100]:\n",
    "        dt_2 = DecisionTreeClassifier(max_depth=depth, min_samples_leaf=min_samples)\n",
    "\n",
    "        dt_2.fit(X_train, y_train)\n",
    "        y_pred = dt_2.predict_proba(X_val)[:,1]\n",
    "        auc = roc_auc_score(y_val, y_pred)\n",
    "\n",
    "        print('%4s -> %.3f' % (min_samples, auc))"
   ]
  },
  {
   "cell_type": "code",
   "execution_count": 79,
   "metadata": {},
   "outputs": [
    {
     "data": {
      "text/plain": [
       "0.9428571428571428"
      ]
     },
     "execution_count": 79,
     "metadata": {},
     "output_type": "execute_result"
    }
   ],
   "source": [
    "dt_3 = DecisionTreeClassifier(max_depth=4, min_samples_leaf=10)\n",
    "\n",
    "dt_3.fit(X_train, y_train)\n",
    "y_pred = dt_3.predict_proba(X_val)[:,1]\n",
    "roc_auc_score(y_val, y_pred)"
   ]
  },
  {
   "cell_type": "markdown",
   "metadata": {},
   "source": [
    "### Random Forest"
   ]
  },
  {
   "cell_type": "code",
   "execution_count": 86,
   "metadata": {},
   "outputs": [
    {
     "name": "stdout",
     "output_type": "stream",
     "text": [
      "acc:   0.91667\n",
      "roc:   0.98571\n"
     ]
    }
   ],
   "source": [
    "from sklearn.ensemble import RandomForestClassifier\n",
    "\n",
    "categorical = ['sex', 'cp', 'restecg', 'exng', 'slp', 'thall']\n",
    "numerical = ['age', 'trtbps', 'thalachh', 'oldpeak', 'caa']\n",
    "\n",
    "dv = DictVectorizer(sparse=True)\n",
    "\n",
    "train_dict = df_train[categorical + numerical].to_dict(orient='records')\n",
    "X_train = dv.fit_transform(train_dict)\n",
    "\n",
    "val_dict = df_val[categorical + numerical].to_dict(orient='records')\n",
    "X_val = dv.transform(val_dict)\n",
    "\n",
    "rf_1 = RandomForestClassifier(n_estimators=3, random_state=1)\n",
    "rf_1.fit(X_train, y_train)\n",
    "\n",
    "y_pred = rf_1.predict_proba(X_val)[:,1]\n",
    "\n",
    "score = y_pred >= 0.5\n",
    "#accuracy_score(y_val, score)\n",
    "acc_RandomForest_model_1 = round(accuracy_score(y_val, score), 5)\n",
    "print(\"acc:  \",acc_RandomForest_model_1)\n",
    "# Output: 0.91667\n",
    "\n",
    "#roc_auc_score(y_val, y_pred)\n",
    "roc_RandomForest_model_1 = round(roc_auc_score(y_val, y_pred), 5)\n",
    "print(\"roc:  \",roc_RandomForest_model_1)\n",
    "# Output: 0.98571"
   ]
  },
  {
   "cell_type": "markdown",
   "metadata": {},
   "source": [
    "#### Random Forest - Tuning"
   ]
  },
  {
   "cell_type": "code",
   "execution_count": 87,
   "metadata": {},
   "outputs": [
    {
     "name": "stdout",
     "output_type": "stream",
     "text": [
      "depth: 5\n",
      "10 -> 0.886\n",
      "20 -> 0.971\n",
      "30 -> 1.000\n",
      "40 -> 1.000\n",
      "50 -> 1.000\n",
      "60 -> 1.000\n",
      "70 -> 1.000\n",
      "80 -> 1.000\n",
      "90 -> 1.000\n",
      "100 -> 1.000\n",
      "110 -> 1.000\n",
      "120 -> 1.000\n",
      "130 -> 1.000\n",
      "140 -> 1.000\n",
      "150 -> 1.000\n",
      "160 -> 1.000\n",
      "170 -> 1.000\n",
      "180 -> 1.000\n",
      "190 -> 1.000\n",
      "200 -> 1.000\n",
      "\n",
      "depth: 10\n",
      "10 -> 1.000\n",
      "20 -> 1.000\n",
      "30 -> 1.000\n",
      "40 -> 1.000\n",
      "50 -> 1.000\n",
      "60 -> 1.000\n",
      "70 -> 1.000\n",
      "80 -> 1.000\n",
      "90 -> 1.000\n",
      "100 -> 1.000\n",
      "110 -> 1.000\n",
      "120 -> 1.000\n",
      "130 -> 1.000\n",
      "140 -> 1.000\n",
      "150 -> 1.000\n",
      "160 -> 1.000\n",
      "170 -> 1.000\n",
      "180 -> 1.000\n",
      "190 -> 1.000\n",
      "200 -> 1.000\n",
      "\n",
      "depth: 20\n",
      "10 -> 1.000\n",
      "20 -> 1.000\n",
      "30 -> 1.000\n",
      "40 -> 1.000\n",
      "50 -> 1.000\n",
      "60 -> 1.000\n",
      "70 -> 1.000\n",
      "80 -> 1.000\n",
      "90 -> 1.000\n",
      "100 -> 1.000\n",
      "110 -> 1.000\n",
      "120 -> 1.000\n",
      "130 -> 1.000\n",
      "140 -> 1.000\n",
      "150 -> 1.000\n",
      "160 -> 1.000\n",
      "170 -> 1.000\n",
      "180 -> 1.000\n",
      "190 -> 1.000\n",
      "200 -> 1.000\n",
      "\n"
     ]
    },
    {
     "data": {
      "text/plain": [
       "<matplotlib.legend.Legend at 0x1665078e0>"
      ]
     },
     "execution_count": 87,
     "metadata": {},
     "output_type": "execute_result"
    },
    {
     "data": {
      "image/png": "[encoded data removed]",
      "text/plain": [
       "<Figure size 640x480 with 1 Axes>"
      ]
     },
     "metadata": {},
     "output_type": "display_data"
    }
   ],
   "source": [
    "auc_scores = {}\n",
    "\n",
    "for depth in [5, 10, 20]:\n",
    "    print('depth: %s' % depth)\n",
    "    aucs = []\n",
    "\n",
    "    for i in range(10, 201, 10):\n",
    "        rf = RandomForestClassifier(n_estimators=i, max_depth=depth, random_state=1)\n",
    "        rf.fit(X_train, y_train)\n",
    "        y_pred = rf.predict_proba(X_val)[:,1]\n",
    "        auc = roc_auc_score(y_val, y_pred)\n",
    "        print('%s -> %.3f' % (i, auc))\n",
    "        aucs.append(auc)\n",
    "    \n",
    "    auc_scores[depth] = aucs\n",
    "    print()\n",
    "\n",
    "num_trees = list(range(10, 201, 10))\n",
    "plt.plot(num_trees, auc_scores[5], label='depth=5')\n",
    "plt.plot(num_trees, auc_scores[10], label='depth=10')\n",
    "plt.plot(num_trees, auc_scores[20], label='depth=20')\n",
    "plt.legend()"
   ]
  },
  {
   "cell_type": "code",
   "execution_count": 88,
   "metadata": {},
   "outputs": [
    {
     "name": "stdout",
     "output_type": "stream",
     "text": [
      "min_samples: 3\n",
      "10 -> 0.914\n",
      "20 -> 1.000\n",
      "30 -> 1.000\n",
      "40 -> 1.000\n",
      "50 -> 1.000\n",
      "60 -> 1.000\n",
      "70 -> 1.000\n",
      "80 -> 1.000\n",
      "90 -> 1.000\n",
      "100 -> 1.000\n",
      "110 -> 1.000\n",
      "120 -> 1.000\n",
      "130 -> 1.000\n",
      "140 -> 1.000\n",
      "150 -> 1.000\n",
      "160 -> 1.000\n",
      "170 -> 1.000\n",
      "180 -> 1.000\n",
      "190 -> 1.000\n",
      "200 -> 1.000\n",
      "\n",
      "min_samples: 5\n",
      "10 -> 0.971\n",
      "20 -> 1.000\n",
      "30 -> 1.000\n",
      "40 -> 1.000\n",
      "50 -> 1.000\n",
      "60 -> 1.000\n",
      "70 -> 1.000\n",
      "80 -> 1.000\n",
      "90 -> 1.000\n",
      "100 -> 1.000\n",
      "110 -> 1.000\n",
      "120 -> 1.000\n",
      "130 -> 1.000\n",
      "140 -> 1.000\n",
      "150 -> 1.000\n",
      "160 -> 1.000\n",
      "170 -> 1.000\n",
      "180 -> 1.000\n",
      "190 -> 1.000\n",
      "200 -> 1.000\n",
      "\n",
      "min_samples: 10\n",
      "10 -> 0.943\n",
      "20 -> 0.971\n",
      "30 -> 0.971\n",
      "40 -> 1.000\n",
      "50 -> 1.000\n",
      "60 -> 1.000\n",
      "70 -> 1.000\n",
      "80 -> 1.000\n",
      "90 -> 1.000\n",
      "100 -> 1.000\n",
      "110 -> 1.000\n",
      "120 -> 1.000\n",
      "130 -> 1.000\n",
      "140 -> 1.000\n",
      "150 -> 1.000\n",
      "160 -> 1.000\n",
      "170 -> 1.000\n",
      "180 -> 1.000\n",
      "190 -> 1.000\n",
      "200 -> 1.000\n",
      "\n"
     ]
    },
    {
     "data": {
      "text/plain": [
       "<matplotlib.legend.Legend at 0x167013100>"
      ]
     },
     "execution_count": 88,
     "metadata": {},
     "output_type": "execute_result"
    },
    {
     "data": {
      "image/png": "[encoded data removed]",
      "text/plain": [
       "<Figure size 640x480 with 1 Axes>"
      ]
     },
     "metadata": {},
     "output_type": "display_data"
    }
   ],
   "source": [
    "auc_scores = {}\n",
    "\n",
    "for min_samples in [3, 5, 10]:\n",
    "    print('min_samples: %s' % min_samples)\n",
    "    aucs = []\n",
    "\n",
    "    for i in range(10, 201, 10):\n",
    "        rf = RandomForestClassifier(n_estimators=i, max_depth=5, min_samples_leaf=min_samples, random_state=1)\n",
    "        rf.fit(X_train, y_train)\n",
    "        y_pred = rf.predict_proba(X_val)[:,1]\n",
    "        auc = roc_auc_score(y_val, y_pred)\n",
    "        print('%s -> %.3f' % (i, auc))\n",
    "        aucs.append(auc)\n",
    "    \n",
    "    auc_scores[min_samples] = aucs\n",
    "    print()\n",
    "\n",
    "num_trees = list(range(10, 201, 10))\n",
    "plt.plot(num_trees, auc_scores[3], label='min_samples_leaf=3')\n",
    "plt.plot(num_trees, auc_scores[5], label='min_samples_leaf=5')\n",
    "plt.plot(num_trees, auc_scores[10], label='min_samples_leaf=10')\n",
    "plt.legend()"
   ]
  },
  {
   "cell_type": "markdown",
   "metadata": {},
   "source": [
    "#### Random Forest - Best model"
   ]
  },
  {
   "cell_type": "code",
   "execution_count": 89,
   "metadata": {},
   "outputs": [
    {
     "name": "stdout",
     "output_type": "stream",
     "text": [
      "acc:   0.83333\n",
      "roc:   0.97143\n"
     ]
    }
   ],
   "source": [
    "rf_2 = RandomForestClassifier(n_estimators=10, max_depth=5, min_samples_leaf=5, random_state=1)\n",
    "rf_2.fit(X_train, y_train)\n",
    "\n",
    "y_pred = rf_2.predict_proba(X_val)[:,1]\n",
    "\n",
    "score = y_pred >= 0.5\n",
    "#accuracy_score(y_val, score)\n",
    "acc_RandomForest_model_2 = round(accuracy_score(y_val, score), 5)\n",
    "print(\"acc:  \",acc_RandomForest_model_2)\n",
    "# Output: 0.83333\n",
    "\n",
    "#roc_auc_score(y_val, y_pred)\n",
    "roc_RandomForest_model_2 = round(roc_auc_score(y_val, y_pred), 5)\n",
    "print(\"roc:  \",roc_RandomForest_model_2)\n",
    "# Output: 0.97143"
   ]
  },
  {
   "cell_type": "markdown",
   "metadata": {},
   "source": [
    "### XGBoost"
   ]
  },
  {
   "cell_type": "code",
   "execution_count": 90,
   "metadata": {},
   "outputs": [
    {
     "name": "stdout",
     "output_type": "stream",
     "text": [
      "acc:   0.91667\n",
      "roc:   0.97143\n"
     ]
    },
    {
     "name": "stderr",
     "output_type": "stream",
     "text": [
      "/Users/erni/Library/Python/3.9/lib/python/site-packages/xgboost/core.py:160: UserWarning: [13:24:24] WARNING: /Users/runner/work/xgboost/xgboost/src/learner.cc:742: \n",
      "Parameters: { \"silent\" } are not used.\n",
      "\n",
      "  warnings.warn(smsg, UserWarning)\n"
     ]
    }
   ],
   "source": [
    "#!pip install xgboost\n",
    "import xgboost as xgb\n",
    "\n",
    "categorical = ['sex', 'cp', 'restecg', 'exng', 'slp', 'thall']\n",
    "numerical = ['age', 'trtbps', 'thalachh', 'oldpeak', 'caa']\n",
    "\n",
    "dv = DictVectorizer(sparse=True)\n",
    "\n",
    "train_dict = df_train[categorical + numerical].to_dict(orient='records')\n",
    "X_train = dv.fit_transform(train_dict)\n",
    "\n",
    "val_dict = df_val[categorical + numerical].to_dict(orient='records')\n",
    "X_val = dv.transform(val_dict)\n",
    "\n",
    "dtrain = xgb.DMatrix(X_train, label=y_train, feature_names=dv.feature_names_)\n",
    "dval = xgb.DMatrix(X_val, label=y_val, feature_names=dv.feature_names_)\n",
    "\n",
    "xgb_params = {\n",
    "    'eta': 0.3,\n",
    "    'max_depth': 6,\n",
    "    'min_child_weight': 1,\n",
    "\n",
    "    'objective': 'binary:logistic',\n",
    "    'nthread': -1,\n",
    "    'seed': 1,\n",
    "    'silent': 1\n",
    "}\n",
    "\n",
    "xgb_model_1 = xgb.train(xgb_params, dtrain, num_boost_round=10)\n",
    "\n",
    "y_pred = xgb_model_1.predict(dval)\n",
    "\n",
    "score = y_pred >= 0.5\n",
    "#accuracy_score(y_val, score)\n",
    "acc_xgb_model_1 = round(accuracy_score(y_val, score), 5)\n",
    "print(\"acc:  \",acc_xgb_model_1)\n",
    "# Output: 0.91667\n",
    "\n",
    "#roc_auc_score(y_val, y_pred)\n",
    "roc_xgb_model_1 = round(roc_auc_score(y_val, y_pred), 5)\n",
    "print(\"roc:  \",roc_xgb_model_1)\n",
    "# Output: 0.97143"
   ]
  },
  {
   "cell_type": "markdown",
   "metadata": {},
   "source": [
    "#### XGBoost - Tuning"
   ]
  },
  {
   "cell_type": "code",
   "execution_count": 97,
   "metadata": {},
   "outputs": [],
   "source": [
    "scores = {}"
   ]
  },
  {
   "cell_type": "code",
   "execution_count": 98,
   "metadata": {},
   "outputs": [],
   "source": [
    "def parse_xgb_output(output):\n",
    "    results = []\n",
    "\n",
    "    for line in output.stdout.strip().split('\\n'):\n",
    "        it_line, train_line, val_line = line.split('\\t')\n",
    "\n",
    "        it = int(it_line.strip('[]'))\n",
    "        train = float(train_line.split(':')[1])\n",
    "        val = float(val_line.split(':')[1])\n",
    "\n",
    "        results.append((it, train, val))\n",
    "    \n",
    "    columns = ['num_iter', 'train_auc', 'val_auc']\n",
    "    df_results = pd.DataFrame(results, columns=columns)\n",
    "    return df_results"
   ]
  },
  {
   "cell_type": "code",
   "execution_count": 93,
   "metadata": {},
   "outputs": [
    {
     "name": "stdout",
     "output_type": "stream",
     "text": [
      "[0]\ttrain-auc:0.94700\tval-auc:0.95714\n",
      "[10]\ttrain-auc:0.99877\tval-auc:0.97143\n",
      "[20]\ttrain-auc:1.00000\tval-auc:0.97143\n",
      "[30]\ttrain-auc:1.00000\tval-auc:0.97143\n",
      "[40]\ttrain-auc:1.00000\tval-auc:0.97143\n",
      "[50]\ttrain-auc:1.00000\tval-auc:0.97143\n",
      "[60]\ttrain-auc:1.00000\tval-auc:0.97143\n",
      "[70]\ttrain-auc:1.00000\tval-auc:0.97143\n",
      "[80]\ttrain-auc:1.00000\tval-auc:0.97143\n",
      "[90]\ttrain-auc:1.00000\tval-auc:0.97143\n",
      "[100]\ttrain-auc:1.00000\tval-auc:0.97143\n"
     ]
    },
    {
     "name": "stderr",
     "output_type": "stream",
     "text": [
      "/Users/erni/Library/Python/3.9/lib/python/site-packages/xgboost/core.py:160: UserWarning: [13:26:30] WARNING: /Users/runner/work/xgboost/xgboost/src/learner.cc:742: \n",
      "Parameters: { \"silent\" } are not used.\n",
      "\n",
      "  warnings.warn(smsg, UserWarning)\n"
     ]
    }
   ],
   "source": [
    "watchlist = [(dtrain, 'train'), (dval, 'val')]\n",
    "\n",
    "xgb_params = {\n",
    "    'eta': 0.3,\n",
    "    'max_depth': 6,\n",
    "    'min_child_weight': 1,\n",
    "\n",
    "    'objective': 'binary:logistic',\n",
    "    'eval_metric': 'auc',\n",
    "    'nthread': -1,\n",
    "    'seed': 1,\n",
    "    'silent': 1\n",
    "}\n",
    "\n",
    "xgb_model_2 = xgb.train(xgb_params, dtrain, \n",
    "                  num_boost_round=101,\n",
    "                  evals=watchlist, verbose_eval=10)"
   ]
  },
  {
   "cell_type": "code",
   "execution_count": 99,
   "metadata": {},
   "outputs": [],
   "source": [
    "%%capture output\n",
    "watchlist = [(dtrain, 'train'), (dval, 'val')]\n",
    "\n",
    "xgb_params = {\n",
    "    'eta': 0.3,\n",
    "    'max_depth': 6,\n",
    "    'min_child_weight': 1,\n",
    "\n",
    "    'objective': 'binary:logistic',\n",
    "    'eval_metric': 'auc',\n",
    "    'nthread': -1,\n",
    "    'seed': 1,\n",
    "    'silent': 1\n",
    "}\n",
    "\n",
    "xgb_model_2 = xgb.train(xgb_params, dtrain, \n",
    "                  num_boost_round=101,\n",
    "                  evals=watchlist, verbose_eval=10)\n",
    "\n",
    "key = 'eta=%s' % (xgb_params['eta'])\n",
    "scores[key] = parse_xgb_output(output)"
   ]
  },
  {
   "cell_type": "code",
   "execution_count": 100,
   "metadata": {},
   "outputs": [
    {
     "data": {
      "text/plain": [
       "<matplotlib.legend.Legend at 0x167c5c910>"
      ]
     },
     "execution_count": 100,
     "metadata": {},
     "output_type": "execute_result"
    },
    {
     "data": {
      "image/png": "[encoded data removed]",
      "text/plain": [
       "<Figure size 640x480 with 1 Axes>"
      ]
     },
     "metadata": {},
     "output_type": "display_data"
    }
   ],
   "source": [
    "for key, df_score in scores.items():\n",
    "    plt.plot(df_score.num_iter, df_score.val_auc, label=key)\n",
    "plt.legend()"
   ]
  },
  {
   "cell_type": "markdown",
   "metadata": {},
   "source": [
    "##### XGBoost - Tuning eta"
   ]
  },
  {
   "cell_type": "code",
   "execution_count": 108,
   "metadata": {},
   "outputs": [],
   "source": [
    "scores = {}"
   ]
  },
  {
   "cell_type": "code",
   "execution_count": 109,
   "metadata": {},
   "outputs": [],
   "source": [
    "%%capture output\n",
    "\n",
    "xgb_params = {\n",
    "    'eta': 0.3,\n",
    "    'max_depth': 6,\n",
    "    'min_child_weight': 1,\n",
    "    \n",
    "    'objective': 'binary:logistic',\n",
    "    'eval_metric': 'auc',\n",
    "    \n",
    "    'nthread': -1,\n",
    "    'seed': 1,\n",
    "    'verbosity': 1\n",
    "}\n",
    "\n",
    "xgb_model_3 = xgb.train(xgb_params, dtrain, num_boost_round=200,\n",
    "                 verbose_eval=5,\n",
    "                 evals=watchlist)\n",
    "\n",
    "key = 'eta=%s' % (xgb_params['eta'])\n",
    "scores[key] = parse_xgb_output(output)"
   ]
  },
  {
   "cell_type": "code",
   "execution_count": 110,
   "metadata": {},
   "outputs": [],
   "source": [
    "%%capture output\n",
    "\n",
    "xgb_params = {\n",
    "    'eta': 1.0,\n",
    "    'max_depth': 6,\n",
    "    'min_child_weight': 1,\n",
    "    \n",
    "    'objective': 'binary:logistic',\n",
    "    'eval_metric': 'auc',\n",
    "    \n",
    "    'nthread': -1,\n",
    "    'seed': 1,\n",
    "    'verbosity': 1\n",
    "}\n",
    "\n",
    "xgb_model_3 = xgb.train(xgb_params, dtrain, num_boost_round=200,\n",
    "                 verbose_eval=5,\n",
    "                 evals=watchlist)\n",
    "\n",
    "key = 'eta=%s' % (xgb_params['eta'])\n",
    "scores[key] = parse_xgb_output(output)"
   ]
  },
  {
   "cell_type": "code",
   "execution_count": 111,
   "metadata": {},
   "outputs": [],
   "source": [
    "%%capture output\n",
    "\n",
    "xgb_params = {\n",
    "    'eta': 0.1,\n",
    "    'max_depth': 6,\n",
    "    'min_child_weight': 1,\n",
    "    \n",
    "    'objective': 'binary:logistic',\n",
    "    'eval_metric': 'auc',\n",
    "    \n",
    "    'nthread': -1,\n",
    "    'seed': 1,\n",
    "    'verbosity': 1\n",
    "}\n",
    "\n",
    "xgb_model_3 = xgb.train(xgb_params, dtrain, num_boost_round=200,\n",
    "                 verbose_eval=5,\n",
    "                 evals=watchlist)\n",
    "\n",
    "key = 'eta=%s' % (xgb_params['eta'])\n",
    "scores[key] = parse_xgb_output(output)"
   ]
  },
  {
   "cell_type": "code",
   "execution_count": 112,
   "metadata": {},
   "outputs": [],
   "source": [
    "%%capture output\n",
    "\n",
    "xgb_params = {\n",
    "    'eta': 0.05,\n",
    "    'max_depth': 6,\n",
    "    'min_child_weight': 1,\n",
    "    \n",
    "    'objective': 'binary:logistic',\n",
    "    'eval_metric': 'auc',\n",
    "    \n",
    "    'nthread': -1,\n",
    "    'seed': 1,\n",
    "    'verbosity': 1\n",
    "}\n",
    "\n",
    "xgb_model_3 = xgb.train(xgb_params, dtrain, num_boost_round=200,\n",
    "                 verbose_eval=5,\n",
    "                 evals=watchlist)\n",
    "\n",
    "key = 'eta=%s' % (xgb_params['eta'])\n",
    "scores[key] = parse_xgb_output(output)"
   ]
  },
  {
   "cell_type": "code",
   "execution_count": 113,
   "metadata": {},
   "outputs": [],
   "source": [
    "%%capture output\n",
    "\n",
    "xgb_params = {\n",
    "    'eta': 0.01,\n",
    "    'max_depth': 6,\n",
    "    'min_child_weight': 1,\n",
    "    \n",
    "    'objective': 'binary:logistic',\n",
    "    'eval_metric': 'auc',\n",
    "    \n",
    "    'nthread': -1,\n",
    "    'seed': 1,\n",
    "    'verbosity': 1\n",
    "}\n",
    "\n",
    "xgb_model_3 = xgb.train(xgb_params, dtrain, num_boost_round=200,\n",
    "                 verbose_eval=5,\n",
    "                 evals=watchlist)\n",
    "\n",
    "key = 'eta=%s' % (xgb_params['eta'])\n",
    "scores[key] = parse_xgb_output(output)"
   ]
  },
  {
   "cell_type": "code",
   "execution_count": 114,
   "metadata": {},
   "outputs": [
    {
     "data": {
      "text/plain": [
       "<matplotlib.legend.Legend at 0x167da0f40>"
      ]
     },
     "execution_count": 114,
     "metadata": {},
     "output_type": "execute_result"
    },
    {
     "data": {
      "image/png": "[encoded data removed]",
      "text/plain": [
       "<Figure size 640x480 with 1 Axes>"
      ]
     },
     "metadata": {},
     "output_type": "display_data"
    }
   ],
   "source": [
    "for key, df_score in scores.items():\n",
    "    plt.plot(df_score.num_iter, df_score.val_auc, label=key)\n",
    "plt.legend()"
   ]
  },
  {
   "cell_type": "markdown",
   "metadata": {},
   "source": []
  },
  {
   "cell_type": "code",
   "execution_count": 115,
   "metadata": {},
   "outputs": [
    {
     "data": {
      "text/plain": [
       "<matplotlib.legend.Legend at 0x167d7cd00>"
      ]
     },
     "execution_count": 115,
     "metadata": {},
     "output_type": "execute_result"
    },
    {
     "data": {
      "image/png": "[encoded data removed]",
      "text/plain": [
       "<Figure size 640x480 with 1 Axes>"
      ]
     },
     "metadata": {},
     "output_type": "display_data"
    }
   ],
   "source": [
    "etas = ['eta=0.1']\n",
    "for eta in etas:\n",
    "    df_score = scores[eta]\n",
    "    plt.plot(df_score.num_iter, df_score.val_auc, label=eta)\n",
    "plt.legend()"
   ]
  },
  {
   "cell_type": "markdown",
   "metadata": {},
   "source": [
    "eta=0.1 seems to be the best. We take this as set value and tune the next one."
   ]
  },
  {
   "cell_type": "markdown",
   "metadata": {},
   "source": [
    "##### XGBoost - Tuning max_depth"
   ]
  },
  {
   "cell_type": "code",
   "execution_count": 116,
   "metadata": {},
   "outputs": [],
   "source": [
    "scores = {}"
   ]
  },
  {
   "cell_type": "code",
   "execution_count": 117,
   "metadata": {},
   "outputs": [],
   "source": [
    "%%capture output\n",
    "\n",
    "xgb_params = {\n",
    "    'eta': 0.1, \n",
    "    'max_depth': 6,\n",
    "    'min_child_weight': 1,\n",
    "    \n",
    "    'objective': 'binary:logistic',\n",
    "    'eval_metric': 'auc',\n",
    "\n",
    "    'nthread': -1,\n",
    "    'seed': 1,\n",
    "    'verbosity': 1,\n",
    "}\n",
    "\n",
    "xgb_model_4 = xgb.train(xgb_params, dtrain, num_boost_round=200,\n",
    "                  verbose_eval=1,\n",
    "                  evals=watchlist)\n",
    "\n",
    "key = 'max_depth=%s' % (xgb_params['max_depth'])\n",
    "scores[key] = parse_xgb_output(output)"
   ]
  },
  {
   "cell_type": "code",
   "execution_count": 118,
   "metadata": {},
   "outputs": [],
   "source": [
    "%%capture output\n",
    "\n",
    "xgb_params = {\n",
    "    'eta': 0.1, \n",
    "    'max_depth': 3,\n",
    "    'min_child_weight': 1,\n",
    "    \n",
    "    'objective': 'binary:logistic',\n",
    "    'eval_metric': 'auc',\n",
    "\n",
    "    'nthread': -1,\n",
    "    'seed': 1,\n",
    "    'verbosity': 1,\n",
    "}\n",
    "\n",
    "xgb_model_3 = xgb.train(xgb_params, dtrain, num_boost_round=200,\n",
    "                  verbose_eval=1,\n",
    "                  evals=watchlist)\n",
    "\n",
    "key = 'max_depth=%s' % (xgb_params['max_depth'])\n",
    "scores[key] = parse_xgb_output(output)"
   ]
  },
  {
   "cell_type": "code",
   "execution_count": 119,
   "metadata": {},
   "outputs": [],
   "source": [
    "%%capture output\n",
    "\n",
    "xgb_params = {\n",
    "    'eta': 0.1, \n",
    "    'max_depth': 4,\n",
    "    'min_child_weight': 1,\n",
    "    \n",
    "    'objective': 'binary:logistic',\n",
    "    'eval_metric': 'auc',\n",
    "\n",
    "    'nthread': -1,\n",
    "    'seed': 1,\n",
    "    'verbosity': 1,\n",
    "}\n",
    "\n",
    "xgb_model_3 = xgb.train(xgb_params, dtrain, num_boost_round=200,\n",
    "                  verbose_eval=1,\n",
    "                  evals=watchlist)\n",
    "\n",
    "key = 'max_depth=%s' % (xgb_params['max_depth'])\n",
    "scores[key] = parse_xgb_output(output)"
   ]
  },
  {
   "cell_type": "code",
   "execution_count": 120,
   "metadata": {},
   "outputs": [],
   "source": [
    "%%capture output\n",
    "\n",
    "xgb_params = {\n",
    "    'eta': 0.1, \n",
    "    'max_depth': 10,\n",
    "    'min_child_weight': 1,\n",
    "    \n",
    "    'objective': 'binary:logistic',\n",
    "    'eval_metric': 'auc',\n",
    "\n",
    "    'nthread': -1,\n",
    "    'seed': 1,\n",
    "    'verbosity': 1,\n",
    "}\n",
    "\n",
    "xgb_model_3 = xgb.train(xgb_params, dtrain, num_boost_round=200,\n",
    "                  verbose_eval=1,\n",
    "                  evals=watchlist)\n",
    "\n",
    "key = 'max_depth=%s' % (xgb_params['max_depth'])\n",
    "scores[key] = parse_xgb_output(output)"
   ]
  },
  {
   "cell_type": "code",
   "execution_count": 121,
   "metadata": {},
   "outputs": [
    {
     "data": {
      "text/plain": [
       "<matplotlib.legend.Legend at 0x167cfc4c0>"
      ]
     },
     "execution_count": 121,
     "metadata": {},
     "output_type": "execute_result"
    },
    {
     "data": {
      "image/png": "[encoded data removed]",
      "text/plain": [
       "<Figure size 640x480 with 1 Axes>"
      ]
     },
     "metadata": {},
     "output_type": "display_data"
    }
   ],
   "source": [
    "for max_depth, df_score in scores.items():\n",
    "    plt.plot(df_score.num_iter, df_score.val_auc, label=max_depth)\n",
    "\n",
    "#plt.ylim(0.8, 0.84)\n",
    "plt.legend()"
   ]
  },
  {
   "cell_type": "code",
   "execution_count": 122,
   "metadata": {},
   "outputs": [
    {
     "data": {
      "text/plain": [
       "<matplotlib.legend.Legend at 0x16822e730>"
      ]
     },
     "execution_count": 122,
     "metadata": {},
     "output_type": "execute_result"
    },
    {
     "data": {
      "image/png": "[encoded data removed]",
      "text/plain": [
       "<Figure size 640x480 with 1 Axes>"
      ]
     },
     "metadata": {},
     "output_type": "display_data"
    }
   ],
   "source": [
    "max_depths = ['max_depth=4', 'max_depth=10']\n",
    "for max_depth in max_depths:\n",
    "    df_score = scores[max_depth]\n",
    "    plt.plot(df_score.num_iter, df_score.val_auc, label=max_depth)\n",
    "plt.legend()"
   ]
  },
  {
   "cell_type": "markdown",
   "metadata": {},
   "source": [
    "max_depth=4 and max_depth=10 are looking quite similar. Let's go with max_depth=4 because it's the easier one."
   ]
  },
  {
   "cell_type": "markdown",
   "metadata": {},
   "source": [
    "##### XGBoost - Tuning min_child_weight"
   ]
  },
  {
   "cell_type": "code",
   "execution_count": 126,
   "metadata": {},
   "outputs": [],
   "source": [
    "scores = {}"
   ]
  },
  {
   "cell_type": "code",
   "execution_count": 127,
   "metadata": {},
   "outputs": [],
   "source": [
    "%%capture output\n",
    "\n",
    "xgb_params = {\n",
    "    'eta': 0.1, \n",
    "    'max_depth': 4,\n",
    "    'min_child_weight': 1,\n",
    "    \n",
    "    'objective': 'binary:logistic',\n",
    "    'eval_metric': 'auc',\n",
    "\n",
    "    'nthread': -1,\n",
    "    'seed': 1,\n",
    "    'verbosity': 1,\n",
    "}\n",
    "\n",
    "xgb_model_4 = xgb.train(xgb_params, dtrain, num_boost_round=200,\n",
    "                  verbose_eval=1,\n",
    "                  evals=watchlist)\n",
    "\n",
    "key = 'min_child_weight=%s' % (xgb_params['min_child_weight'])\n",
    "scores[key] = parse_xgb_output(output)"
   ]
  },
  {
   "cell_type": "code",
   "execution_count": 128,
   "metadata": {},
   "outputs": [],
   "source": [
    "%%capture output\n",
    "\n",
    "xgb_params = {\n",
    "    'eta': 0.1, \n",
    "    'max_depth': 4,\n",
    "    'min_child_weight': 10,\n",
    "    \n",
    "    'objective': 'binary:logistic',\n",
    "    'eval_metric': 'auc',\n",
    "\n",
    "    'nthread': -1,\n",
    "    'seed': 1,\n",
    "    'verbosity': 1,\n",
    "}\n",
    "\n",
    "xgb_model_4 = xgb.train(xgb_params, dtrain, num_boost_round=200,\n",
    "                  verbose_eval=1,\n",
    "                  evals=watchlist)\n",
    "\n",
    "key = 'min_child_weight=%s' % (xgb_params['min_child_weight'])\n",
    "scores[key] = parse_xgb_output(output)"
   ]
  },
  {
   "cell_type": "code",
   "execution_count": 129,
   "metadata": {},
   "outputs": [],
   "source": [
    "%%capture output\n",
    "\n",
    "xgb_params = {\n",
    "    'eta': 0.1, \n",
    "    'max_depth': 4,\n",
    "    'min_child_weight': 30,\n",
    "    \n",
    "    'objective': 'binary:logistic',\n",
    "    'eval_metric': 'auc',\n",
    "\n",
    "    'nthread': -1,\n",
    "    'seed': 1,\n",
    "    'verbosity': 1,\n",
    "}\n",
    "\n",
    "xgb_model_4 = xgb.train(xgb_params, dtrain, num_boost_round=200,\n",
    "                  verbose_eval=1,\n",
    "                  evals=watchlist)\n",
    "\n",
    "key = 'min_child_weight=%s' % (xgb_params['min_child_weight'])\n",
    "scores[key] = parse_xgb_output(output)"
   ]
  },
  {
   "cell_type": "code",
   "execution_count": 131,
   "metadata": {},
   "outputs": [
    {
     "data": {
      "text/plain": [
       "<matplotlib.legend.Legend at 0x168456c40>"
      ]
     },
     "execution_count": 131,
     "metadata": {},
     "output_type": "execute_result"
    },
    {
     "data": {
      "image/png": "[encoded data removed]",
      "text/plain": [
       "<Figure size 640x480 with 1 Axes>"
      ]
     },
     "metadata": {},
     "output_type": "display_data"
    }
   ],
   "source": [
    "#min_child_weights = ['min_child_weight=1', 'min_child_weight=10', 'min_child_weight=30']\n",
    "min_child_weights = ['min_child_weight=10']\n",
    "for min_child_weight in min_child_weights:\n",
    "    df_score = scores[min_child_weight]\n",
    "    plt.plot(df_score.num_iter, df_score.val_auc, label=min_child_weight)\n",
    "plt.legend()"
   ]
  },
  {
   "cell_type": "code",
   "execution_count": 132,
   "metadata": {},
   "outputs": [
    {
     "name": "stdout",
     "output_type": "stream",
     "text": [
      "[0]\ttrain-auc:0.85599\tval-auc:0.84286\n",
      "[1]\ttrain-auc:0.85599\tval-auc:0.84286\n",
      "[2]\ttrain-auc:0.87296\tval-auc:0.84286\n",
      "[3]\ttrain-auc:0.88487\tval-auc:0.90000\n",
      "[4]\ttrain-auc:0.90553\tval-auc:1.00000\n",
      "[5]\ttrain-auc:0.90768\tval-auc:1.00000\n",
      "[6]\ttrain-auc:0.91897\tval-auc:1.00000\n",
      "[7]\ttrain-auc:0.91690\tval-auc:1.00000\n",
      "[8]\ttrain-auc:0.91886\tval-auc:1.00000\n",
      "[9]\ttrain-auc:0.91793\tval-auc:1.00000\n",
      "[10]\ttrain-auc:0.92116\tval-auc:1.00000\n",
      "[11]\ttrain-auc:0.92761\tval-auc:1.00000\n",
      "[12]\ttrain-auc:0.92911\tval-auc:1.00000\n",
      "[13]\ttrain-auc:0.93164\tval-auc:1.00000\n",
      "[14]\ttrain-auc:0.93134\tval-auc:1.00000\n",
      "[15]\ttrain-auc:0.93545\tval-auc:1.00000\n",
      "[16]\ttrain-auc:0.93522\tval-auc:1.00000\n",
      "[17]\ttrain-auc:0.93660\tval-auc:1.00000\n",
      "[18]\ttrain-auc:0.93683\tval-auc:1.00000\n",
      "[19]\ttrain-auc:0.93944\tval-auc:1.00000\n",
      "[20]\ttrain-auc:0.93829\tval-auc:1.00000\n",
      "[21]\ttrain-auc:0.93806\tval-auc:1.00000\n",
      "[22]\ttrain-auc:0.93917\tval-auc:1.00000\n",
      "[23]\ttrain-auc:0.94071\tval-auc:1.00000\n",
      "[24]\ttrain-auc:0.94025\tval-auc:1.00000\n",
      "[25]\ttrain-auc:0.94117\tval-auc:1.00000\n",
      "[26]\ttrain-auc:0.94201\tval-auc:1.00000\n",
      "[27]\ttrain-auc:0.94132\tval-auc:1.00000\n",
      "[28]\ttrain-auc:0.94217\tval-auc:1.00000\n",
      "[29]\ttrain-auc:0.94224\tval-auc:1.00000\n",
      "[30]\ttrain-auc:0.94263\tval-auc:1.00000\n",
      "[31]\ttrain-auc:0.94343\tval-auc:1.00000\n",
      "[32]\ttrain-auc:0.94320\tval-auc:1.00000\n",
      "[33]\ttrain-auc:0.94336\tval-auc:0.97143\n",
      "[34]\ttrain-auc:0.94386\tval-auc:1.00000\n",
      "[35]\ttrain-auc:0.94409\tval-auc:1.00000\n",
      "[36]\ttrain-auc:0.94393\tval-auc:1.00000\n",
      "[37]\ttrain-auc:0.94370\tval-auc:1.00000\n",
      "[38]\ttrain-auc:0.94347\tval-auc:1.00000\n",
      "[39]\ttrain-auc:0.94324\tval-auc:1.00000\n",
      "[40]\ttrain-auc:0.94363\tval-auc:1.00000\n",
      "[41]\ttrain-auc:0.94432\tval-auc:1.00000\n",
      "[42]\ttrain-auc:0.94416\tval-auc:1.00000\n",
      "[43]\ttrain-auc:0.94355\tval-auc:1.00000\n",
      "[44]\ttrain-auc:0.94386\tval-auc:1.00000\n",
      "[45]\ttrain-auc:0.94493\tval-auc:1.00000\n",
      "[46]\ttrain-auc:0.94462\tval-auc:1.00000\n",
      "[47]\ttrain-auc:0.94401\tval-auc:1.00000\n",
      "[48]\ttrain-auc:0.94378\tval-auc:1.00000\n",
      "[49]\ttrain-auc:0.94409\tval-auc:1.00000\n",
      "[50]\ttrain-auc:0.94439\tval-auc:1.00000\n",
      "[51]\ttrain-auc:0.94416\tval-auc:1.00000\n",
      "[52]\ttrain-auc:0.94432\tval-auc:1.00000\n",
      "[53]\ttrain-auc:0.94370\tval-auc:1.00000\n",
      "[54]\ttrain-auc:0.94401\tval-auc:1.00000\n",
      "[55]\ttrain-auc:0.94432\tval-auc:1.00000\n",
      "[56]\ttrain-auc:0.94401\tval-auc:1.00000\n",
      "[57]\ttrain-auc:0.94401\tval-auc:1.00000\n",
      "[58]\ttrain-auc:0.94355\tval-auc:1.00000\n",
      "[59]\ttrain-auc:0.94370\tval-auc:1.00000\n",
      "[60]\ttrain-auc:0.94355\tval-auc:1.00000\n"
     ]
    }
   ],
   "source": [
    "categorical = ['sex', 'cp', 'restecg', 'exng', 'slp', 'thall']\n",
    "numerical = ['age', 'trtbps', 'thalachh', 'oldpeak', 'caa']\n",
    "\n",
    "dv = DictVectorizer(sparse=True)\n",
    "\n",
    "train_dict = df_train[categorical + numerical].to_dict(orient='records')\n",
    "X_train = dv.fit_transform(train_dict)\n",
    "\n",
    "val_dict = df_val[categorical + numerical].to_dict(orient='records')\n",
    "X_val = dv.transform(val_dict)\n",
    "\n",
    "dtrain = xgb.DMatrix(X_train, label=y_train, feature_names=dv.feature_names_)\n",
    "dval = xgb.DMatrix(X_val, label=y_val, feature_names=dv.feature_names_)\n",
    "\n",
    "xgb_params = {\n",
    "    'eta': 0.1, \n",
    "    'max_depth': 4,\n",
    "    'min_child_weight': 10,\n",
    "    \n",
    "    'objective': 'binary:logistic',\n",
    "    'eval_metric': 'auc',\n",
    "\n",
    "    'nthread': -1,\n",
    "    'seed': 1,\n",
    "    'verbosity': 1,\n",
    "}\n",
    "\n",
    "xgb_model_5 = xgb.train(xgb_params, dtrain, num_boost_round=61,evals=watchlist,\n",
    "                  verbose_eval=1)"
   ]
  },
  {
   "cell_type": "code",
   "execution_count": 139,
   "metadata": {},
   "outputs": [
    {
     "name": "stdout",
     "output_type": "stream",
     "text": [
      "[0]\ttrain-auc:0.85599\tval-auc:0.84286\n",
      "[1]\ttrain-auc:0.85599\tval-auc:0.84286\n",
      "[2]\ttrain-auc:0.87296\tval-auc:0.84286\n",
      "[3]\ttrain-auc:0.88487\tval-auc:0.90000\n",
      "[4]\ttrain-auc:0.90553\tval-auc:1.00000\n",
      "[5]\ttrain-auc:0.90768\tval-auc:1.00000\n",
      "[6]\ttrain-auc:0.91897\tval-auc:1.00000\n",
      "[7]\ttrain-auc:0.91690\tval-auc:1.00000\n",
      "[8]\ttrain-auc:0.91886\tval-auc:1.00000\n",
      "[9]\ttrain-auc:0.91793\tval-auc:1.00000\n",
      "[10]\ttrain-auc:0.92116\tval-auc:1.00000\n",
      "[11]\ttrain-auc:0.92761\tval-auc:1.00000\n",
      "[12]\ttrain-auc:0.92911\tval-auc:1.00000\n",
      "[13]\ttrain-auc:0.93164\tval-auc:1.00000\n",
      "[14]\ttrain-auc:0.93134\tval-auc:1.00000\n",
      "[15]\ttrain-auc:0.93545\tval-auc:1.00000\n",
      "[16]\ttrain-auc:0.93522\tval-auc:1.00000\n",
      "[17]\ttrain-auc:0.93660\tval-auc:1.00000\n",
      "[18]\ttrain-auc:0.93683\tval-auc:1.00000\n",
      "[19]\ttrain-auc:0.93944\tval-auc:1.00000\n",
      "[20]\ttrain-auc:0.93829\tval-auc:1.00000\n",
      "[21]\ttrain-auc:0.93806\tval-auc:1.00000\n",
      "[22]\ttrain-auc:0.93917\tval-auc:1.00000\n",
      "[23]\ttrain-auc:0.94071\tval-auc:1.00000\n",
      "[24]\ttrain-auc:0.94025\tval-auc:1.00000\n",
      "[25]\ttrain-auc:0.94117\tval-auc:1.00000\n",
      "[26]\ttrain-auc:0.94201\tval-auc:1.00000\n",
      "[27]\ttrain-auc:0.94132\tval-auc:1.00000\n",
      "[28]\ttrain-auc:0.94217\tval-auc:1.00000\n",
      "[29]\ttrain-auc:0.94224\tval-auc:1.00000\n",
      "[30]\ttrain-auc:0.94263\tval-auc:1.00000\n",
      "[31]\ttrain-auc:0.94343\tval-auc:1.00000\n",
      "[32]\ttrain-auc:0.94320\tval-auc:1.00000\n",
      "[33]\ttrain-auc:0.94336\tval-auc:0.97143\n"
     ]
    },
    {
     "name": "stderr",
     "output_type": "stream",
     "text": [
      "/Users/erni/Library/Python/3.9/lib/python/site-packages/xgboost/core.py:160: UserWarning: [13:44:01] WARNING: /Users/runner/work/xgboost/xgboost/src/learner.cc:742: \n",
      "Parameters: { \"silent\" } are not used.\n",
      "\n",
      "  warnings.warn(smsg, UserWarning)\n"
     ]
    }
   ],
   "source": [
    "watchlist = [(dtrain, 'train'), (dval, 'val')]\n",
    "\n",
    "xgb_params = {\n",
    "    'eta': 0.1,\n",
    "    'max_depth': 4,\n",
    "    'min_child_weight': 10,\n",
    "\n",
    "    'objective': 'binary:logistic',\n",
    "    'eval_metric': 'auc',\n",
    "    'nthread': -1,\n",
    "    'seed': 1,\n",
    "    'silent': 1\n",
    "}\n",
    "\n",
    "xgb_model_6 = xgb.train(xgb_params, dtrain, \n",
    "                  num_boost_round=34,\n",
    "                  evals=watchlist, verbose_eval=1)"
   ]
  },
  {
   "cell_type": "code",
   "execution_count": 142,
   "metadata": {},
   "outputs": [
    {
     "name": "stdout",
     "output_type": "stream",
     "text": [
      "acc:   0.83333\n",
      "roc:   0.97143\n"
     ]
    }
   ],
   "source": [
    "y_pred = xgb_model_6.predict(dval)\n",
    "\n",
    "score = y_pred >= 0.5\n",
    "#accuracy_score(y_val, score)\n",
    "acc_xgb_model_6 = round(accuracy_score(y_val, score), 5)\n",
    "print(\"acc:  \",acc_xgb_model_6)\n",
    "# Output: 0.8333333333333334\n",
    "\n",
    "#roc_auc_score(y_val, y_pred)\n",
    "roc_xgb_model_6 = round(roc_auc_score(y_val, y_pred), 5)\n",
    "print(\"roc:  \",roc_xgb_model_6)\n",
    "# Output: 0.9714285714285714\n"
   ]
  },
  {
   "cell_type": "markdown",
   "metadata": {},
   "source": [
    "## Selecting the best model"
   ]
  },
  {
   "cell_type": "markdown",
   "metadata": {},
   "source": [
    "### Logistic Regression:\n",
    "\n",
    "- LogisticRegression_model_1\n",
    "    acc:   0.90164\n",
    "    roc:   0.9011\n",
    "\n",
    "- LogisticRegression_model_2\n",
    "    acc:   0.90164\n",
    "    roc:   0.90769\n",
    "\n",
    "- LogisticRegression_model_3\n",
    "    acc:   0.90164\n",
    "    roc:   0.9011\n",
    "\n",
    "- K-Fold:\n",
    "    auc_score:  0.914\n",
    "\n",
    "### Decision Tree:\n",
    "\n",
    "- dt_3\n",
    "    auc_score:  0.9428571428571428\n",
    "\n",
    "\n",
    "### Random Forest:\n",
    "\n",
    "- rf_2\n",
    "    acc:   0.83333\n",
    "    roc:   0.97143\n",
    "\n",
    "### XGBoost model:\n",
    "\n",
    "- xgb_model_1\n",
    "    acc:   0.91667\n",
    "    roc:   0.97143\n",
    "\n",
    "- xgb_model_6\n",
    "    acc:   0.83333\n",
    "    roc:   0.97143"
   ]
  },
  {
   "cell_type": "markdown",
   "metadata": {},
   "source": [
    "### DecisionTree\n",
    "\n",
    "DecisionTreeClassifier(max_depth=5, min_samples_leaf=5)\n",
    "\n",
    "roc_auc_score(y_val, y_pred)\n",
    "Output: 0.9841269841269842"
   ]
  },
  {
   "cell_type": "markdown",
   "metadata": {},
   "source": [
    "### Random Forest:\n",
    "\n",
    "RandomForestClassifier(n_estimators=20, max_depth=5, min_samples_leaf=3, random_state=1)\n",
    "\n",
    "accuracy_score(y_val, score)\n",
    "Output: 0.9375\n",
    "\n",
    "roc_auc_score(y_val, y_pred)\n",
    "Output: 0.9841269841269841"
   ]
  },
  {
   "cell_type": "markdown",
   "metadata": {},
   "source": [
    "### XGBoost:\n",
    "\n",
    "xgb_params = {\n",
    "    'eta': 0.3,\n",
    "    'max_depth': 6,\n",
    "    'min_child_weight': 1,\n",
    "\n",
    "    'objective': 'binary:logistic',\n",
    "    'eval_metric': 'auc',\n",
    "    'nthread': -1,\n",
    "    'seed': 1,\n",
    "    'silent': 1\n",
    "}\n",
    "\n",
    "model = xgb.train(xgb_params, dtrain, \n",
    "                  num_boost_round=11,\n",
    "                  evals=watchlist, verbose_eval=10)\n",
    "\n",
    "accuracy_score(y_val, score)\n",
    "Output: 0.9375\n",
    "\n",
    "roc_auc_score(y_val, y_pred)\n",
    "Output: 0.9841269841269842"
   ]
  },
  {
   "cell_type": "code",
   "execution_count": null,
   "metadata": {},
   "outputs": [],
   "source": [
    "# Selecting the best model\n",
    "# Retrain the best model on full_train\n",
    "# Save the model\n",
    "# Provide python files\n",
    "# Deploy the model to web server\n",
    "# Use Docker"
   ]
  },
  {
   "cell_type": "code",
   "execution_count": null,
   "metadata": {},
   "outputs": [],
   "source": []
  }
 ],
 "metadata": {
  "kernelspec": {
   "display_name": "Python 3",
   "language": "python",
   "name": "python3"
  },
  "language_info": {
   "codemirror_mode": {
    "name": "ipython",
    "version": 3
   },
   "file_extension": ".py",
   "mimetype": "text/x-python",
   "name": "python",
   "nbconvert_exporter": "python",
   "pygments_lexer": "ipython3",
   "version": "3.9.6"
  },
  "orig_nbformat": 4
 },
 "nbformat": 4,
 "nbformat_minor": 2
}
